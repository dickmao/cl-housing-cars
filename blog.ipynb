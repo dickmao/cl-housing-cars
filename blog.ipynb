{
 "cells": [
  {
   "cell_type": "code",
   "execution_count": 119,
   "metadata": {
    "autoscroll": false,
    "collapsed": false,
    "ein.tags": "worksheet-0",
    "slideshow": {
     "slide_type": "-"
    }
   },
   "outputs": [],
   "source": [
    "from __future__ import division, print_function\n",
    "import logging\n",
    "\n",
    "from time import time\n",
    "import os, errno, operator, re, sys, subprocess, signal, redis\n",
    "import itertools, shutil, requests\n",
    "\n",
    "import numpy as np\n",
    "import enchant\n",
    "import matplotlib.pyplot as plt\n",
    "\n",
    "from gensim import parsing, matutils, interfaces, corpora, models, similarities, summarization\n",
    "from gensim.utils import lemmatize\n",
    "from gensim.corpora.mmcorpus import MmCorpus\n",
    "from gensim.matutils import corpus2csc\n",
    "from gensim.similarities.docsim import SparseMatrixSimilarity\n",
    "\n",
    "from nltk import collocations, association, text, tree\n",
    "from nltk import bigrams,ConditionalFreqDist,FreqDist,pos_tag,pos_tag_sents\n",
    "from nltk.grammar import DependencyGrammar\n",
    "from nltk.parse import (\n",
    "    DependencyGraph, ProjectiveDependencyParser, NonprojectiveDependencyParser)\n",
    "\n",
    "from nltk.corpus import dependency_treebank\n",
    "from nltk.corpus import treebank_raw\n",
    "from nltk.corpus import treebank\n",
    "from nltk.corpus.util import LazyCorpusLoader\n",
    "\n",
    "import re, json\n",
    "from os.path import getmtime, join, realpath\n",
    "\n",
    "import dateutil.parser\n",
    "from pytz import utc\n",
    "from datetime import datetime\n",
    "from dateutil.tz import tzlocal\n",
    "from bisect import bisect_left\n",
    "\n",
    "from reader import Json100CorpusReader\n",
    "\n",
    "from sklearn.preprocessing import FunctionTransformer\n",
    "from sklearn.feature_extraction.text import CountVectorizer, TfidfTransformer\n",
    "from sklearn.feature_selection import SelectFromModel\n",
    "from sklearn.feature_selection import SelectKBest, chi2\n",
    "from sklearn.linear_model import RidgeClassifier\n",
    "from sklearn.pipeline import Pipeline, FeatureUnion, make_pipeline\n",
    "from sklearn.svm import LinearSVC, SVC\n",
    "from sklearn.externals.joblib import Memory\n",
    "from sklearn.multiclass import OneVsRestClassifier\n",
    "from sklearn.linear_model import SGDClassifier\n",
    "from sklearn.linear_model import Perceptron\n",
    "from sklearn.linear_model import PassiveAggressiveClassifier\n",
    "from sklearn.naive_bayes import BernoulliNB, ComplementNB, MultinomialNB\n",
    "from sklearn.neighbors import KNeighborsClassifier\n",
    "from sklearn.neighbors import NearestCentroid\n",
    "from sklearn.ensemble import RandomForestClassifier\n",
    "from sklearn.utils.extmath import density\n",
    "from sklearn import metrics\n",
    "from sklearn.model_selection import GridSearchCV, StratifiedKFold, ParameterGrid\n",
    "\n",
    "# Display progress logs on stdout\n",
    "logging.basicConfig(level=logging.INFO,\n",
    "                    format='%(asctime)s %(levelname)s %(message)s')\n"
   ]
  },
  {
   "cell_type": "code",
   "execution_count": 17,
   "metadata": {
    "autoscroll": false,
    "collapsed": false,
    "ein.tags": "worksheet-0",
    "slideshow": {
     "slide_type": "-"
    }
   },
   "outputs": [],
   "source": [
    "def determine_payfor_fencepost(dt1, thresh):\n",
    "    Markers = sorted([f for f in os.listdir(join(wdir, \"dmoz\")) if re.search(r'Marker\\..*\\.json$', f)],                      reverse=True)\n",
    "    jsons = []\n",
    "    for m in Markers:\n",
    "        within = False\n",
    "        with open(join(wdir, \"dmoz\", m), 'r') as fp:\n",
    "            url2dt = json.load(fp, object_hook=datetime_parser)\n",
    "            for url,dt0 in url2dt.iteritems():\n",
    "                if (dt1 - dt0).days < thresh:\n",
    "                    within = True\n",
    "                    break\n",
    "        if within:\n",
    "            jsons.append(\"{}.{}.json\".format(\"dmoz\", m.split('.')[1]))\n",
    "        else:\n",
    "            break\n",
    "    return jsons\n",
    "def datetime_parser(json_dict):\n",
    "    for k,v in json_dict.iteritems():\n",
    "        try:\n",
    "            json_dict[k] = dateutil.parser.parse(v)\n",
    "        except (ValueError, AttributeError):\n",
    "            pass\n",
    "    return json_dict\n",
    "\n",
    "\n",
    "def make_dict(docs):\n",
    "    stoplist = set('for a of the and to in'.split())\n",
    "    stoplist = set()\n",
    "\n",
    "    # corpora.Dictionary is a static method of gensim.corpora\n",
    "    # it establishes the base of operations numbering the vocab,\n",
    "    dictionary = corpora.Dictionary(docs)\n",
    "    checker = enchant.Dict(\"en_US\")\n",
    "    stops = [stopword for stopword in stoplist if stopword in dictionary.token2id]\n",
    "    onces = [tokenid for tokenid, docfreq in dictionary.dfs.iteritems() if docfreq == 1]\n",
    "    nonwords = [word for word in dictionary.values() if not re.search(\"[a-zA-Z]\", word)]\n",
    "    misspells = [word for word in dictionary.values() if not checker.check(word)]\n",
    "    dictionary.filter_tokens(map(dictionary.get, itertools.chain(stops,onces,nonwords)))\n",
    "    myset = set(['WRB', 'WP$', 'WP', 'WDT', 'TO', 'RP', 'PRP$', 'PRP', 'PDT', 'MD', 'IN', 'EX', 'DT', 'CC', 'UH', ])\n",
    "    myset = set(['WRB', 'WP$', 'WP', 'WDT', 'TO', 'RP', 'PRP$', 'PRP', 'PDT', 'MD', 'IN', 'EX', 'DT', 'CC', 'RB', 'RBR', 'RBS', 'UH', 'NNP', 'NNS',  ])\n",
    "    myset = set(['WRB', 'WP$', 'WP', 'WDT', 'TO', 'RP', 'PRP$', 'PRP', 'PDT', 'MD', 'IN', 'EX', 'DT', 'CC', 'RB', 'RBR', 'RBS', 'UH', 'NNP', 'NNS',  ])\n",
    "    myset = set(['WRB', 'WP$', 'WP', 'WDT', 'TO', 'RP', 'PRP$', 'PRP', 'PDT', 'MD', 'IN', 'EX', 'DT', 'CC', 'UH', 'RB', 'RBR', 'RBS', 'NN', 'NNP', 'NNS', 'NNPS', 'VB', 'VBD', 'VBG', 'VBN', 'VBZ' ])\n",
    "    contextual_ids = [dictionary.token2id[k[0][0]] for k in pos_tag_sents([[w] for w in dictionary.values()]) if k[0][1] not in myset]\n",
    "    \n",
    "#    dictionary.filter_tokens(contextual_ids)\n",
    "    dictionary.compactify()\n",
    "    return dictionary\n"
   ]
  },
  {
   "cell_type": "code",
   "execution_count": 18,
   "metadata": {
    "autoscroll": false,
    "collapsed": false,
    "ein.tags": "worksheet-0",
    "slideshow": {
     "slide_type": "-"
    }
   },
   "outputs": [],
   "source": [
    "tla = ['abo', 'sub', 'apa', 'cto']\n",
    "wdir = os.path.expanduser('~/scrapy')\n",
    "os.environ['CLASSPATH'] = join(wdir, '../lib')\n",
    "os.chdir(wdir)\n",
    "\n",
    "dt_marker1 = datetime.fromtimestamp(getmtime(os.path.realpath(join(wdir, \"dmoz\", 'marker1'))))\n",
    "utcnow = utc.localize(dt_marker1)\n",
    "jsons = determine_payfor_fencepost(utcnow, 9)\n"
   ]
  },
  {
   "cell_type": "code",
   "execution_count": 20,
   "metadata": {
    "autoscroll": false,
    "collapsed": false,
    "ein.tags": "worksheet-0",
    "slideshow": {
     "slide_type": "-"
    }
   },
   "outputs": [],
   "source": [
    "filtered = [0]\n",
    "cr = Json100CorpusReader(join(wdir, \"dmoz\"), jsons, dedupe=\"link\")\n",
    "ids = cr.field('id')\n",
    "crabo = Json100CorpusReader(join(wdir, \"dmoz\"), jsons, dedupe=\"link\", link_select='abo', exclude=set([ids[i] for i in filtered]))\n",
    "crsub = Json100CorpusReader(join(wdir, \"dmoz\"), jsons, dedupe=\"link\", link_select='sub', exclude=set([ids[i] for i in filtered]))\n",
    "crjoin = Json100CorpusReader(join(wdir, \"joinery\"), [\"marker1\"], dedupe=\"link\")\n",
    "crlp = Json100CorpusReader(join(wdir, \"listingsproject\"), [\"marker1\"], dedupe=\"link\")\n",
    "\n",
    "crabo_inmem = list(crabo)\n",
    "crlp_inmem = list(crlp)\n",
    "crsub_inmem = list(crsub)\n",
    "crjoin_inmem = list(crjoin)\n",
    "\n",
    "# I would let allow_update=True in doc2bow() but I want the finer control in make_dict()\n",
    "dictionary = make_dict(itertools.chain(cr, crjoin, crlp))\n",
    "\n",
    "crtrain_inmem = crabo_inmem + crlp_inmem\n",
    "crtrain_labels = [-1] * len(crabo_inmem) + [1] * len(crlp_inmem)\n",
    "crtest_inmem = crsub_inmem + crjoin_inmem\n",
    "crtest_labels = [-1] * len(crsub_inmem) + [1] * len(crjoin_inmem)\n",
    "\n",
    "def reflexive(x):\n",
    "    # for CountVectorizer 'analyzer' which cannot accept a lambda due to pickle caching\n",
    "    return x\n",
    "\n",
    "def get_text_length(x):\n",
    "    return np.array([len(t) for t in x]).reshape(-1, 1)\n"
   ]
  },
  {
   "cell_type": "code",
   "execution_count": 120,
   "metadata": {
    "autoscroll": false,
    "collapsed": false,
    "ein.tags": "worksheet-0",
    "slideshow": {
     "slide_type": "-"
    }
   },
   "outputs": [],
   "source": [
    "features = FeatureUnion([\n",
    "        ('text', Pipeline([\n",
    "            ('vectorizer', CountVectorizer(min_df=1, dtype=np.int16, analyzer=reflexive, vocabulary=dictionary.token2id, stop_words=None)),\n",
    "            ('tfidf', TfidfTransformer()),\n",
    "        ])),\n",
    "        ('length', Pipeline([\n",
    "            ('count', FunctionTransformer(get_text_length, validate=False)),\n",
    "        ])),\n",
    "])\n",
    "\n",
    "svc = make_pipeline(features, SVC(), memory=Memory(cachedir=\"/var/tmp\", verbose=0))\n",
    "# svc.steps[-1] = ('ridgeclassifier', RidgeClassifier(tol=1e-2, solver=\"lsqr\"))\n"
   ]
  },
  {
   "cell_type": "code",
   "execution_count": null,
   "metadata": {
    "autoscroll": false,
    "collapsed": false,
    "ein.tags": "worksheet-0",
    "slideshow": {
     "slide_type": "-"
    }
   },
   "outputs": [],
   "source": [
    "svm_grid = [\n",
    "    { 'svc__C': (1, 10, 100, 1000), 'svc__kernel': ['linear']},\n",
    "    { 'svc__C': (1, 10, 100, 1000), 'svc__gamma': (0.001, 0.0001), 'svc__kernel': ['rbf']},\n",
    "]\n",
    "vect_grid = {\n",
    "    'featureunion__text__vectorizer__ngram_range': ((1,1), (1,2)), # unigrams or bigrams\n",
    "    'featureunion__text__vectorizer__max_df': (0.5, 0.75, 1.0),\n",
    "}\n",
    "\n",
    "param_grid = [ dict(itertools.chain(vect_grid.items(), d.items())) for d in svm_grid ]\n",
    "grid_svm = GridSearchCV(\n",
    "    svc,\n",
    "    param_grid=param_grid,\n",
    "    n_jobs=-1,\n",
    "    cv=StratifiedKFold(n_splits=5, random_state=1618, shuffle=True),\n",
    ")\n",
    "\n",
    "t0 = time()\n",
    "grid_svm.fit(crtrain_inmem, crtrain_labels)\n",
    "print(\"done in %0.3fs\" % (time() - t0))\n"
   ]
  },
  {
   "cell_type": "code",
   "execution_count": 146,
   "metadata": {
    "autoscroll": false,
    "collapsed": false,
    "ein.tags": "worksheet-0",
    "slideshow": {
     "slide_type": "-"
    }
   },
   "outputs": [
    {
     "name": "stdout",
     "output_type": "stream",
     "text": [
      "Best score: 0.987\n"
     ]
    },
    {
     "data": {
      "text/plain": [
       "[('featureunion__text__vectorizer__ngram_range', (1, 1)),\n ('svc__gamma', 'auto'),\n ('featureunion__text__vectorizer__max_df', 0.5),\n ('svc__C', 10),\n ('svc__kernel', 'linear')]"
      ]
     },
     "execution_count": 146,
     "metadata": {},
     "output_type": "execute_result"
    }
   ],
   "source": [
    "print(\"Best score: %0.3f\" % grid_svm.best_score_)\n",
    "[(i, grid_svm.best_estimator_.get_params()[i]) for i in set(itertools.chain.from_iterable([key for key in [d.keys() for d in param_grid]]))]"
   ]
  },
  {
   "cell_type": "code",
   "execution_count": 164,
   "metadata": {
    "autoscroll": false,
    "collapsed": false,
    "ein.tags": "worksheet-0",
    "slideshow": {
     "slide_type": "-"
    }
   },
   "outputs": [
    {
     "data": {
      "text/plain": [
       "['best.pkl']"
      ]
     },
     "execution_count": 164,
     "metadata": {},
     "output_type": "execute_result"
    }
   ],
   "source": [
    "from sklearn.externals import joblib\n",
    "joblib.dump(grid_svm, 'best.pkl')"
   ]
  },
  {
   "cell_type": "code",
   "execution_count": 149,
   "metadata": {
    "autoscroll": false,
    "collapsed": false,
    "ein.tags": "worksheet-0",
    "slideshow": {
     "slide_type": "-"
    }
   },
   "outputs": [
    {
     "data": {
      "text/plain": [
       "0.89131266743207038"
      ]
     },
     "execution_count": 149,
     "metadata": {},
     "output_type": "execute_result"
    }
   ],
   "source": [
    "grid_svm.score(crtest_inmem, crtest_labels)"
   ]
  },
  {
   "cell_type": "code",
   "execution_count": 150,
   "metadata": {
    "autoscroll": false,
    "collapsed": false,
    "ein.tags": "worksheet-0",
    "slideshow": {
     "slide_type": "-"
    }
   },
   "outputs": [
    {
     "data": {
      "text/plain": [
       "0.67317259854573286"
      ]
     },
     "execution_count": 150,
     "metadata": {},
     "output_type": "execute_result"
    }
   ],
   "source": [
    "# cannot just pass itertools.chain (sans list) because itertools.chain cycles just once\n",
    "# and we have multiple steps\n",
    "svc.fit(crtrain_inmem, crtrain_labels)\n",
    "svc.score(crtest_inmem, crtest_labels)"
   ]
  },
  {
   "cell_type": "code",
   "execution_count": 151,
   "metadata": {
    "autoscroll": false,
    "collapsed": false,
    "ein.tags": "worksheet-0",
    "slideshow": {
     "slide_type": "-"
    }
   },
   "outputs": [
    {
     "name": "stdout",
     "output_type": "stream",
     "text": [
      "0.737083811711\n"
     ]
    },
    {
     "name": "stdout",
     "output_type": "stream",
     "text": [
      "0.785304247991\n"
     ]
    }
   ],
   "source": [
    "svc.steps[-1] = ('ridgeclassifier', RidgeClassifier(tol=1e-2, solver=\"lsqr\"))\n",
    "svc.fit(crtrain_inmem, crtrain_labels)\n",
    "print(svc.score(crtest_inmem, crtest_labels))\n",
    "svc.steps[-1] = ('linearsvc', LinearSVC())\n",
    "svc.fit(crtrain_inmem, crtrain_labels)\n",
    "print(svc.score(crtest_inmem, crtest_labels))\n"
   ]
  },
  {
   "cell_type": "code",
   "execution_count": 152,
   "metadata": {
    "autoscroll": false,
    "collapsed": false,
    "ein.tags": "worksheet-0",
    "slideshow": {
     "slide_type": "-"
    }
   },
   "outputs": [
    {
     "data": {
      "text/plain": [
       "[u\"Enter from your key - locked elevator into a grand 2 bedroom loft with towering ceilings , three exposures and south - facing living room flooded with light . Walk past your large open kitchen and private laundry room into a second north - facing sitting room and adjacent dining area . Three large windowed bedrooms are pin - drop quiet . A generous walk - in closet between the master and second is larger than some private storage areas . This space has been the long - term residence and studio of one of Soho ' s few remaining true artists and is the perfect opportunity for buyers looking for space that will enable them to make it their own . Located on in the heart of SoHo on Grand Street between Wooster and West Broadway , a selection of the world ' s best restaurants , shopping and entertainment are literally at your doorstep . Transportation options are endless with the A , C , E , N , R , W , 1 and 6 each within minutes . 64 Grand St # 2 . New York , NY 10013 ( SoHo ) . 2beds 2 baths 2 , 200 sqft Coop .\",\n u\"Live in a brand - new gut renovated luxurious condo on the riverside drive in Hamilton Heights . The apartment is a 2 bedroom 2 bath with the master bedroom with an en suite bath . Details . - Peaceful and quiet building ( No loud thumping music every night ) with elevator , package room for incoming packages , virtual doorman and a live in super . - 3 - minute walk to the 145th street 1 train station ( A / B / C / D trains 5 minutes Away ) . - 25 - minute commute to Times Square . - 12 - minute door to door commute to Columbia University . - 10 - minute door to door commute to Columbia University Medical Center on 168th street . - Apartment has two large Bedrooms , stained hardwood floor , high ceilings and lots of closet space . - Bedrooms on opposite corners offering lots of privacy and space . - Bedroom with two closets , an extra Ikea wardrobe and an end table . - Furnished living room . - Trendy / Hip , safe neighborhood with lots of great restaurants and an ever changing restaurant scene , cocktail bars and many many trees . - Building has a well - equipped Gym , locked Bike storage , fully furnished rooftop with amazing water views of the Hudson . - One block away from the Riverside park , 3 - minute walk to the Hudson waterfront . The apartment is a newly renovated million dollar condo fitted with high end stainless steel LG appliances in the kitchen . ( Gourmet oven , LG French - Door refrigerator and a full sized TrueSteam dishwasher ). The apartment also comes with a massive stacked LG washer dryer setup with a gas operated vented dryer ( very energy - efficient and fast in drying clothes ). This is not a party home . Looking for a peaceful and a mature roommate who can share this home with me . You will be sharing the apartment with a male in early 30 ' s attending a graduate program at Columbia University . Please tell me a little bit about yourself and what are you looking for in a shared living situation . Happy Hunting . Current roommate is leaving because of relocation to Europe for a job .\",\n u\"ABOUT THIS LISTING . Huge and Brand New studio in Central Harlem . Dec 2017 - June 2018 . $ 2500 / mth . Price and dates negotiable and flexible . About the building : . - Brand new building finished in January 2017 . - Elevator building . - Roof deck with chairs and tables . - Amazing neighbors . - Virtual doorman and package room for receiving and signing for packages . About the apartment : . - Fully furnished ( Tasteful furniture and decor ) . - 5th floor . - 730 Sqft ( Bigger than most one bedrooms in NYC ) . - Modern appliances include : . - Washer . - Dryer . - Dishwasher . - Flame stove . - High - end oven . - Big refrigerator & freezer . - Clothes steamer . - Windows face South ( great view with beautiful sunsets ) . - Couch pulls out into single bed . Transport : . One avenue away from the 125st 2 / 3 trains and 2 avenues away from the 4 / 5 / 6 . Area : . The apartment is situated on a beautiful street . Just a block away are iconic restaurants like Red Rooster and Sylvia ' s . You also get a local supermarket across the road , or you could go to the newly opened Whole Food ' s 1 avenue away ! Just a few blocks away from the apartment is the beautiful Marcus Garvey park where I ' ve seen Neil Patrick Harris walk his dog ! ( Yes he lives in the area ). The iconic Apollo Theater is also very near the apartment ! Harlem is absolutely beautiful and full of culture . Contrary to popular belief , safety hasn ' t been a concern to me at all ! People are nice and friendly and it ' s not less safe here than it is living in midtown . ABOUT THIS LISTER . I am currently a student at the Fashion Institute of Technology ( FIT ). I have lived in NYC for 3 years and am about to go to Florence , Italy for a study abroad program . As such , I need to sublet my beautiful apartment , which I love so much .\",\n u\"The apartment is very spacious ( I believe slightly over 800 sq ft ) and has lots of natural light . The area itself is quiet and peaceful , and the building has direct access to the west side pathway which is great for walks / runs . The building is pet - friendly ( a lot of people have dogs ) but we don ' t so I don ' t know specifics on that . There is a pool that is open to the residents in the summer months and a gym that overlooks the water . The area is great for commuting - it is accessible to all the subways at Fulton St ( A , C , E , 4 , 5 , 6 , R , W , 1 , 2 , 3 ), PATH , and Ferry . I currently commute to Lexington and 42nd st and my boyfriend commutes to 51st and 6th and it takes us both just about 30 min . Please view more photos and also you can email me here . https :// www . leasebreak . com / short - term - rental - details / 35586 / 355 - south - end - avenuelbc .\",\n u'Hello all , . I am renting a very spacious , unique , bright L shape studio filled with character for perfect NYC vibe & getaway . I can rent my apt fully furnished . Short term or long term . Apt is with elevator and 15 feet wide balcony . Apt is located Lower East Side ( LES ) walking distant SOHO , Nolita , Chinatown , lots of restaurants and bars and close to the F , B , D , J , M , Z . I am happy to rent my apartment to respectful , clean individuals . I love my apartment and want to make sure it is in good hands . My apt . is located one of the most convenient and attractive neighborhood in Manhattan , Lower East Side ( LES ). It \\' s a very quiet apartment . ( one Queen size real bed 60 \" x 80 \" and one single day bed ) 15 feet wide window provides great light and eastern views of downtown Manhattan , lying in bed and gazing out the window is lovely . Furniture \\' s are carefully selected by award winner interior designer and items within the space give the whole apartment a colorful , light and airy / spacious feeling . Restaurants , bars , coffee shops , art galleries , it \\' s all here . The LES is the coolest neighborhood I have lived in yet . Walking distance to Soho , East Village , Little Italy , Chinatown , 10 min with subway to West Village , TriBeCa , Flatiron District , Meat packing and Chelsea . Close to local and express buses M15 and just a short walk away to all major subway lines . F , J , M , Z , B , D trains . Any question please email me . Thank you .',\n u'Looking for a female to take care of my apartment . It is one bedroom with elevator . The female has to be clean , reliable , quiet . I am away most of the time so the person will have the apartment for herself . No party girls , please . Wi - Fi and all utilities included .',\n u'Large and private studio for sublet for 4 months . Fully furnished with all utilities included , $ 1250 a month with deposit . Location is great , close to subway 1 line , recreation , shopping and dining . Pictures available on request and all further questions will be answered by email .',\n u'Flexible dates , bright , extremely quiet ( inward facing with open backyard ), fully furnished apartment , 4 story walk up , brand new appliances / renovated . 30 feet from the L train subway , 5 minute walk to Union Square . Rent includes all utilities + internet .',\n u'Live like a local in Hamilton Heights , a neighborhood of Uptown Manhattan , with this spacious one bedroom duplex on West 154th Street & Saint Nicholas Avenue ! The 700sqft ( 65sqm ) one bedroom home is located on the 1st and 2nd floors ( considered ground and 1st in Europe ) of a 4 - story walkup townhouse built in the prewar era . An intercom security system provides protection and a shared laundry facility on - site makes this a great choice for longer stays ! The New York apartment offers an elegant interior with a modern twist , featuring hardwood floors , wall accessories and a bright pink futon ( double ) in the living room that adds a pop of color . Looking to spend a lazy day inside ? Hang out on the futon and turn on the cable television , or make yourself and your friends a meal in the fully - equipped kitchen , which even boasts a dishwasher for easy clean - up . Tenants can choose between using the small table in the kitchen , or the larger dining table in the living room . Spanning approximately 300sqft ( 27 . 8sqm ), the bedroom is arguably the most beautiful room in the house . Featuring a traditional area rug over hardwood floors and matching curtains of pink , the space includes a queen - sized bed , full - length mirror , egg - shaped chair and deep closet space for item storage .',\n u\"Live in a brand - new gut renovated luxurious condo on the riverside drive in Hamilton Heights . The apartment is a 2 bedroom 2 bath with the master bedroom with an en suite bath . Details . - Peaceful and quiet building ( No loud thumping music every night ) with elevator , package room for incoming packages , virtual doorman and a live in super . - 3 - minute walk to the 145th street 1 train station ( A / B / C / D trains 5 minutes Away ) . - 25 - minute commute to Times Square . - 12 - minute door to door commute to Columbia University . - Apartment has two large Bedrooms , stained hardwood floor , high ceilings and lots of closet space . - Bedrooms on opposite corners offering lots of privacy and space . - Bedroom with two closets , an extra Ikea wardrobe and an end table . - Furnished living room . - Trendy / Hip , safe neighborhood with lots of options for restaurants , bars and leisure . - Building has a well - equipped Gym , locked Bike storage , fully furnished rooftop with amazing water views of the Hudson . - One block away from the Riverside park , 3 - minute walk to the Hudson waterfront . The apartment is a newly renovated million dollar condo fitted with high end stainless steel LG appliances in the kitchen . ( Gourmet oven , LG French - Door refrigerator and a full sized TrueSteam dishwasher ). The apartment also comes with a massive stacked LG washer dryer setup with a gas operated vented dryer ( very energy - efficient and fast in drying clothes ). This is not a party home . Looking for a peaceful and a mature roommate who can share this home with me . You will be sharing the apartment with a male in early 30 ' s attending a graduate program at Columbia University . Please tell me a little bit about yourself and what are you looking for in a shared living situation . Happy Hunting . Current roommate is leaving because of relocation to Europe for a job .\",\n u'Hi , I am a professional male and have a 15 \\' x10 \\', furnished bedroom for rental with a 42 \" TV , Apple TV and Sonos sound system . Move out date is completely flexible with one month notice . There is a home theater , great kitchen , a twice monthly apartment and room cleaning / laundry service . A photography studio in in the apartment and I shoot occasionally . Move in Date is DECEMBER 23RD . I am looking for someone who is down to earth and friendly . I seek to create a respectful and relaxed environment and am looking for roommates who want the same . Wireless Internet , Utilities , Audio and Video streaming services ( Rhapsody / Netflix / Apple TV / more ) 2X monthly cleaning and laundry service are an additional flat fee of $ 200 . The apartment is in the East Village with immediate access to excellent restaurants , lounges , music venues and shopping . . Perfect for UN workers and anyone who works in the hospitals around the area ! ............................................................................................... Bedroom : . 15 \\' x10 \\' furnished room . 42 \" TV , Apple TV , Sonos sound system . ( Pandora , your iTunes Library , Rhapsody , Spotify ) . Furnished with bed , chest of drawers , mirror , lamps , closet , desk and chairs . Closet in room . High speed wireless Internet connection : 75 / 75 Mbps . Very clean and quiet . .............................................................................................. Transportation : . Right next to major cab route , buses and L subway train . UN close by . NYU bus stops on the corner . .............................................................................................. Building and Complex : . Laundry in Building . 80 Acre Park . Fountain in middle of complex , concerts and outdoor movies . Security . .............................................................................................. Apartment : . Large common room with : Home Theater . 65 \" OLED 3D 4K TV . Access to 300 Blu Ray / DVD movie collection , PS3 , Apple TV , Netflix , Blockbuster , Amazon Prime , Rhapsody and Pandora music . Wireless network printer , scanner , copier . Great Kitchen with dishwasher , microwave , convection oven , coffee maker , cabinets and marble counter tops . ( Whole Food and Trader Joe \\' s nearby .) . Access to everything you need for cooking : pots , pans , and lots of spices . Wireless Internet throughout apartment . Couch for out of town guests . Wireless Internet , Utilities , Audio and Video streaming services ( Rhapsody / Netflix / Apple TV / Amazon / Vudu ) 2X monthly cleaning service are an additional flat fee of $ 200 . I look forward to hearing from you .',\n u'I am looking for a quiet , clean , easy to communicate with tenant . Nov 28 2017 to April 30 2018 . Super comfy and quiet UES 1 bed / 1 bath . 2nd floor walkup with a hardware store underneath so you are free to do Insanity or just stomp around all day ! I am working in Florida for the next 6 months , so enjoy my apt while I am gone ! Lovely one bedroom apartment with a separate kitchen , stainless steel appliances , bay window , hardwood floors and high ceilings in excellent location walking distance of Central Park . Roof access outside the windows as well . Wardrobe set up in the living room for extra storage . I use the dining room as an office looking out to the windows , but I have a full set of kitchen chairs to convert it into a more domestic set up . Decorative fireplace , please do not actually light a fire . The place is furnished , 2 sets of bedding . You may want to add your own personal touch , there is also room for that . A block away from 63 / Lex ( F , Q ) and 59 / Lex ( 4 , 5 , 6 , N , Q , R ). RENTAL REQUIREMENTS . No Pets . No Parties . No Smoking . $ 2400 Deposit . Proof of Employment . Sublease Agreement . Please supply references . Please message with a little bit of info , ie . why you are looking to sublet etc , to jumpstart the getting to know each other part of this process . Thank you !',\n u'Newly renovated and furnished studio sublet in Washington Heights ( 161st ). Located on the fifth floor in an elevator building with all utilities and wifi included . Less than 3 min walk to both 1 / C subway lines with supermarkets and laundromats conveniently close . Sublet available as soon as possible for $ 1700 / month - timing is flexible but looking for 3 - month or 6 - months . A fantastic spot to call home !',\n u'Beautiful 1 bedroom apartment , fully furnished , perfect for one person or a couple . The location is right in the middle of the Village , 2 blocks from Washington Square , 3 blocks from the W4 subway station and 3 blocks from SoHo . The apartment has great ambiance ( with brick walls and tin ceiling ), a very cozy living room ( with a large screen TV already connected to Pandora ) and a fully equipped kitchen with a dining space and a dishwasher . Nice bathroom with tub / shower . I sublet the apartment only for a minimum of 30 days . The rent is $ 3 , 400 per month and includes all utilities ( including wi - fi ). There is a security deposit of $ 1 , 000 . Public reviews from previous subletters are available . If you are interested , please email me at the link above and tell me a little about yourself . We can set up a time for you to come by and check the place out .',\n u'New to market - a leasebreak at $ 3295 , and a year sublet at $ 3850 - just two of new to inventory options in TRIBECA . As the sublet specialist , I have all sizes and pricpepoints to suggest - TRIBECA / SOHO , and all surrounding neighborhoods . Broker fee applies but REDUCED on many .',\n u\"The apartment is located on the 11th floor of a safe well kept luxury building . I ' m looking for a roommate to fill my second bedroom . We are lucky enough to live in downtown of Manhattan with the luxury of a true home . The 2BR has wood floors and 2 baths ( so everyone has it ' s privacy ), dishwasher , Full huge Kitchen ( all appliances , espresso machines , etc ), wireless internet , dedicated AC / Heat per each room , washer / dryer and gym within the building . In addition , the building features one of the most amazing rooftops downtown with great views of the Freedom tower and the Brooklyn Bridge . Most importantly , the apartment is CLEAN . The room available has it ' s on bathroom next to the living room . The bedroom has large windows and a closet within the room and one outside of it . The room is already furnished ( queen bed , desk ) or if you bring your own stuff it can feet a desk , a queen bed and night stand etc . The bedroom rent is $ 2300 plus the utilities which are $ 24 for internet and usually 30 - 40 for electric and gas . I tend to get a cleaning service every week that cost around $ 80 . The living room has a huge couch , and very nice recliner and a huge TV with chromecast and you can use my Sonos sound system at any time . A little about me : I work full time typical 9 to 7ish job on my 30s . When I ' m home I usually have dinner and sometimes I watch a movie or liste n to some music . I ' m looking for someone who is social and yet independent . If you are interested I would love to meet you . Please be sure to include name , ( apx . age ) and anything else you think I should know or any questions you have . Thanks .\",\n u'Fully Furnished Loft in the trendiest neighborhood in town . Artist space living . Find the coolest restaurants and bars along with tons of galleries to explore . This is a 10 month sublet . Available now . For further info and appointment contact . Jenn .',\n u\"Live in a brand - new gut renovated luxurious condo on the riverside drive in Hamilton Heights . The apartment is a 2 bedroom 2 bath with the master bedroom with an en suite bath . Details . - Peaceful and quiet building ( No loud thumping music every night ) with elevator , package room for incoming packages , virtual doorman and a live in super . - 3 - minute walk to the 145th street 1 train station ( A / B / C / D trains 5 minutes Away ) . - 25 - minute commute to Times Square . - 12 - minute door to door commute to Columbia University . - 10 - minute door to door commute to Columbia University Medical Center on 168th street . - Apartment has two large Bedrooms , stained hardwood floor , high ceilings and lots of closet space . - Bedrooms on opposite corners offering lots of privacy and space . - Bedroom with two closets , an extra Ikea wardrobe and an end table . - Furnished living room . - Trendy / Hip , safe neighborhood with lots of great restaurants and an ever changing restaurant scene , cocktail bars and many many trees . - Building has a well - equipped Gym , locked Bike storage , fully furnished rooftop with amazing water views of the Hudson . - One block away from the Riverside park , 3 - minute walk to the Hudson waterfront . The apartment is a newly renovated million dollar condo fitted with high end stainless steel LG appliances in the kitchen . ( Gourmet oven , LG French - Door refrigerator and a full sized TrueSteam dishwasher ). The apartment also comes with a massive stacked LG washer dryer setup with a gas operated vented dryer ( very energy - efficient and fast in drying clothes ). This is not a party home . Looking for a peaceful and a mature roommate who can share this home with me . You will be sharing the apartment with a male in early 30 ' s attending a graduate program at Columbia University . Please tell me a little bit about yourself and what are you looking for in a shared living situation . Happy Hunting . Current roommate is leaving because of relocation to Europe for a job .\",\n u\"Live in a brand - new gut renovated luxurious condo on the riverside drive in Hamilton Heights . The apartment is a 2 bedroom 2 bath with the master bedroom with an en suite bath . Details . - Peaceful and quiet building ( No loud thumping music every night ) with elevator , package room for incoming packages , virtual doorman and a live in super . - 3 - minute walk to the 145th street 1 train station ( A / B / C / D trains 5 minutes Away ) . - 25 - minute commute to Times Square . - 12 - minute door to door commute to Columbia University . - 10 - minute door to door commute to Columbia University Medical Center on 168th street . - Apartment has two large Bedrooms , stained hardwood floor , high ceilings and lots of closet space . - Bedrooms on opposite corners offering lots of privacy and space . - Bedroom with two closets , an extra Ikea wardrobe and an end table . - Furnished living room . - Trendy / Hip , safe neighborhood with lots of options for restaurants , bars and leisure . - Building has a well - equipped Gym , locked Bike storage , fully furnished rooftop with amazing water views of the Hudson . - One block away from the Riverside park , 3 - minute walk to the Hudson waterfront . The apartment is a newly renovated million dollar condo fitted with high end stainless steel LG appliances in the kitchen . ( Gourmet oven , LG French - Door refrigerator and a full sized TrueSteam dishwasher ). The apartment also comes with a massive stacked LG washer dryer setup with a gas operated vented dryer ( very energy - efficient and fast in drying clothes ). This is not a party home . Looking for a peaceful and a mature roommate who can share this home with me . You will be sharing the apartment with a male in early 30 ' s attending a graduate program at Columbia University . Please tell me a little bit about yourself and what are you looking for in a shared living situation . Happy Hunting . Current roommate is leaving because of relocation to Europe for a job .\",\n u\"Live in a brand - new gut renovated luxurious condo on the riverside drive in Hamilton Heights . The apartment is a 2 bedroom 2 bath with the master bedroom with an en suite bath . Details . - Peaceful and quiet building ( No loud thumping music every night ) with elevator , package room for incoming packages , virtual doorman and a live in super . - 3 - minute walk to the 145th street 1 train station ( A / B / C / D trains 5 minutes Away ) . - 25 - minute commute to Times Square . - 12 - minute door to door commute to Columbia University . - 10 - minute door to door commute to Columbia University Medical Center on 168th street . - Apartment has two large Bedrooms , stained hardwood floor , high ceilings and lots of closet space . - Bedrooms on opposite corners offering lots of privacy and space . - Bedroom with two closets , an extra Ikea wardrobe and an end table . - Furnished living room . - Trendy / Hip , safe neighborhood with lots of options for restaurants , bars and leisure . - Building has a well - equipped Gym , locked Bike storage , fully furnished rooftop with amazing water views of the Hudson . - One block away from the Riverside park , 3 - minute walk to the Hudson waterfront . The apartment is a newly renovated million dollar condo fitted with high end stainless steel LG appliances in the kitchen . ( Gourmet oven , LG French - Door refrigerator and a full sized TrueSteam dishwasher ). The apartment also comes with a massive stacked LG washer dryer setup with a gas operated vented dryer ( very energy - efficient and fast in drying clothes ). This is not a party home . Looking for a peaceful and a mature roommate who can share this home with me . You will be sharing the apartment with a male in early 30 ' s attending a graduate program at Columbia University . Please tell me a little bit about yourself and what are you looking for in a shared living situation . Happy Hunting . Current roommate is leaving because of relocation to Europe for a job .\",\n u\"Live in a brand - new gut renovated luxurious condo on the riverside drive in Hamilton Heights . The apartment is a 2 bedroom 2 bath with the master bedroom with an en suite bath . Details . - Peaceful and quiet building ( No loud thumping music every night ) with elevator , package room for incoming packages , virtual doorman and a live in super . - 3 - minute walk to the 145th street 1 train station ( A / B / C / D trains 5 minutes Away ) . - 25 - minute commute to Times Square . - 12 - minute door to door commute to Columbia University . - 10 - minute door to door commute to Columbia University Medical Center on 168th street . - Apartment has two large Bedrooms , stained hardwood floor , high ceilings and lots of closet space . - Bedrooms on opposite corners offering lots of privacy and space . - Bedroom with two closets , an extra Ikea wardrobe and an end table . - Furnished living room . - Trendy / Hip , safe neighborhood with lots of options for restaurants , bars and leisure . - Building has a well - equipped Gym , locked Bike storage , fully furnished rooftop with amazing water views of the Hudson . - One block away from the Riverside park , 3 - minute walk to the Hudson waterfront . The apartment is a newly renovated million dollar condo fitted with high end stainless steel LG appliances in the kitchen . ( Gourmet oven , LG French - Door refrigerator and a full sized TrueSteam dishwasher ). The apartment also comes with a massive stacked LG washer dryer setup with a gas operated vented dryer ( very energy - efficient and fast in drying clothes ). This is not a party home . Looking for a peaceful and a mature roommate who can share this home with me . You will be sharing the apartment with a male in early 30 ' s attending a graduate program at Columbia University . Please tell me a little bit about yourself and what are you looking for in a shared living situation . Happy Hunting . Current roommate is leaving because of relocation to Europe for a job .\",\n u'PLEASE READ : . - The bedroom is for 1 person only . - Can be a bit flexible with dates but I \\' m looking for a time commitment of 3 months or longer . - The apartment is a two bedroom . I will be staying in the other room . The Space : . - This apartment is situated in the HEART of \" Greenwich Village \". - The apartment a 6 floor walk - up , so cancel your gym membership . - The Apartment has a WASHER and DRYER . - There is NO Living room . - The Room has lots of natural light . - The Space has lots of natural light . - The Kitchen and Bathroom are shared of course . - I don \\' t often cook , nor am I home very often . Additionally , the space is fully equipped / furnished , and you may use whatever is there . ( iron , blow dryer , sheets , towels , kettles , etc .) . About Me : . I \\' m an actress / VoiceOver artist here in NYC . I \\' m seldom home , and I \\' m suuuuper easy going . I don \\' t bring the party home ( unless it \\' s a rare occasion ), and I love to keep the space clean ... but I don \\' t expect my future roommate to be as clean as I am :) . The Neighborhood : . Outside of the apt is arguably the liveliest , most conveniently located part of Manhattan . The Landmarks are everywhere , and the history is rich . ( It \\' s next to the comedy cellar ). You \\' re less than a minute from the West 4th Subway station ( trains A , B , C , D , F , M ) - 5 minutes from the 1 Train - and 10 minutes from the 6 , Q , R and N - so ... all trains !',\n u\"ABOUT THIS LISTING . Huge and Brand New studio in Central Harlem . Dec 2017 - June 2018 . $ 2500 / mth . Price and dates negotiable and flexible . About the building : . - Brand new building finished in January 2017 . - Elevator building . - Roof deck with chairs and tables . - Amazing neighbors . - Virtual doorman and package room for receiving and signing for packages . About the apartment : . - Fully furnished ( Tasteful furniture and decor ) . - 5th floor . - 730 Sqft ( Bigger than most one bedrooms in NYC ) . - Modern appliances include : . - Washer . - Dryer . - Dishwasher . - Flame stove . - High - end oven . - Big refrigerator & freezer . - Clothes steamer . - Windows face South ( great view with beautiful sunsets ) . - Couch pulls out into single bed . Transport : . One avenue away from the 125st 2 / 3 trains and 2 avenues away from the 4 / 5 / 6 . Area : . The apartment is situated on a beautiful street . Just a block away are iconic restaurants like Red Rooster and Sylvia ' s . You also get a local supermarket across the road , or you could go to the newly opened Whole Food ' s 1 avenue away ! Just a few blocks away from the apartment is the beautiful Marcus Garvey park where I ' ve seen Neil Patrick Harris walk his dog ! ( Yes he lives in the area ). The iconic Apollo Theater is also very near the apartment ! Harlem is absolutely beautiful and full of culture . Contrary to popular belief , safety hasn ' t been a concern to me at all ! People are nice and friendly and it ' s not less safe here than it is living in midtown . ABOUT THIS LISTER . I am currently a student at the Fashion Institute of Technology ( FIT ). I have lived in NYC for 3 years and am about to go to Florence , Italy for a study abroad program . As such , I need to sublet my beautiful apartment , which I love so much .\",\n u\"Long story short : . Looking to fill the entire downstairs of my duplex apartment . Downstairs has living room , wash / dry 2 bedrooms arrayed in railroad format . I would be living upstairs in the smaller single bedroom . Entire downstairs available for $ 1700 / month . About the property , it ' s a 3 br ., 1 . 5 ba ., 1000 + sq ft total and private backyard . Downstairs rooms are are roughly 11ft x 11ft each . A big feature of the apartment is an exclusive backyard , complete with grassy features , backyard seating , grill , and night lights . See photos . The apartment is extremely well lit and delightfully antique , with exposed brick walls and ensconced lighting . The kitchen is fully equipped with standard appliances appliances . Washer / Dryer in Unit . Located 3 blocks walking from the B , C subway stop , 10 minutes walking from the A , D subway stop , 15 minutes walking from the 1 Train , and 20 minutes walking from Metro North Harlem . Great for Columbia students . The apartment is steps away from local grocery store , solid restaurants and hip bars . About me , I am a low - key mid - 20s urban professional who are looking for someone tidy . Lived with prior roommate for 8 years . A roommate would need two months rent to move in . 1st months rent + 1 month security . Rent not inclusive of internet , electricity . Amenities Recap : . - Large Private Grassy Backyard . - Grill . - Washer / Dryer . - Design Within Reach and Dwell furnishings . - 3 Blocks from 116th B , C Subway stop . - By Columbia .\",\n u\"Huge room , basically the size of a studio apartment . Walk - in closet . Your own 1 / 2 bath . In a full - floor loft apartment . Bed & basic furniture included . It gets great light and it ' s just an awesome place in general . Available now and through early 2018 . Non - smoking . Looking for respectful , nice person .\",\n u\"One of a kind , half - a - floor loft space , full of light and authentic downtown Manhattan character . High - end modern designer furniture includes the most comfortable king size bed , dining table for 5 and two sofas , one turns into a double bed . Four huge windows , chef ' s kitchen , wine coolers , marble bath , a walk - in closet the size of a NYC bedroom , Washer / Drier are in the apartment . The apartment is available immediately for a flexible term stay from 30 days and longer . Lower rate is available for long - term stays .\",\n u\"I am going to be away from New York for a few months and am looking to sublet my apartment to one lovely person ( or a couple ) who will treat my place as their own , and who will appreciate the great space and awesome neighborhood as much as I do ! IT ' S A SERIOUSLY AMAZING APARTMENT :) . It is available from November 7th through February 28th ( with the possibility to extend though the first week of March ). ( 3 . 75 - 4 months all in ...) . It is fully furnished as shown in the photos . The apt is on 126th between 5th and Lenox and is gut renovated and brand new . It is a large (> 850 SF ) 1 bedroom with AMAZING southern views over Central Park down to the Empire State building in both the bedroom and living room . Amenities include an in - unit washer and dryer , dishwasher , central air ( heat + AC ), soaker bathtub , GE gas range and oven , king Sleep Number bed , remote doorman ( for packages ), video intercom , and shared rooftop access . It ' s a 2 minute walk to the 2 / 3 and a 8 minute walk to the 4 / 5 / 6 . The A / C / B / D is 15 minutes away . It ' s minutes from amazing restaurants ( the legendary Red Rooster is literally on the corner ) and there are many jazz clubs and other live music venues in close walking distance . Central Park is a 15 minute walk away , and Marcus Garvey Park is around the corner . Whole Foods at Bed Bath are both within 5 minutes .\",\n u'Available for sublet 4 - 30 November - gorgeous bright 1 bedroom Lower East Side apartment right in the heart of everything . Cafes , bars , restaurants and shops on the doorstep but the bedroom is out the back for a peaceful sleep . Fully furnished and available for sublet . $ 2350 .',\n u\"I am going to be away from New York for a few months and am looking to sublet my apartment to one lovely person ( or a couple ) who will treat my place as their own , and who will appreciate the great space and awesome neighborhood as much as I do ! IT ' S A SERIOUSLY AMAZING APARTMENT :) . It is available from November 7th through February 28th ( with the possibility to extend though the first week of March ). ( 3 . 75 - 4 months all in ...) . Rent is $ 3500 / month and includes internet and all utilities ( AC , heat , water , electric ). It is fully furnished as shown in the photos . The apt is on 126th between 5th and Lenox and is gut renovated and brand new . It is a large (> 850 SF ) 1 bedroom with AMAZING southern views over Central Park down to the Empire State building in both the bedroom and living room . Amenities include an in - unit washer and dryer , dishwasher , central air ( heat + AC ), soaker bathtub , GE gas range and oven , king Sleep Number bed , remote doorman ( for packages ), video intercom , and shared rooftop access . It ' s a 2 minute walk to the 2 / 3 and a 8 minute walk to the 4 / 5 / 6 . The A / C / B / D is 15 minutes away . It ' s minutes from amazing restaurants ( the legendary Red Rooster is literally on the corner ) and there are many jazz clubs and other live music venues in close walking distance . Central Park is a 15 minute walk away , and Marcus Garvey Park is around the corner . Whole Foods at Bed Bath are both within 5 minutes .\",\n u'2 Bedroom in Greenwich / West Village is a perfect share apartment . Each bedroom has a full size bed , dresser , closet , and a / c . The living room has all you need - sofa , table , chairs , coffee table , and tv , and the kitchen is fully equipped . The apartment is close all major subway lines - 1 , 9 , F , M , A , C , E . Ideal for a temporary stay in the city in the most beautiful neighborhood . Fully equipped . 8 months minimum lease . Available now ! Email dates for additional information . Thanks .',\n u\"Weekly and monthly fully furnished sublet available now through March . Please inquire for more information . 1 , 000 per week . 3 , 500 per month . Welcome to New York ! My cozy one bedroom is in the heart of SoHo and just a moment ' s walk to Chinatown , Nolita & Little Italy ! Near to some of the world ' s best restaurants , shopping , fashion & art . There ' s space to cook , space to relax after a long day and a place to get a quiet night of sleep . Facing an open courtyard , my apartment is quiet and filled with light . The living space and bedroom are separate and private . Please note this is a 5th floor walk up .\",\n u\"THE SPACE : . One spacious bedroom available in a 2 bedroom apartment with great lighting . This is the bigger bedroom in the apartment and will be available November 1st . After 11 / 15 , you will have the opportunity to take over the entire apartment , however , it ' s completely optional . THE LOCATION : . Literally 1 block away from the B , D , F , M , 6 Bleecker St & Broadway - Lafayette St station . Tons of shops , bars , restaurants nearby . Walking distance ( literally less than 10 minutes ) to East Village , West Village , Lower East Side , and Chinatown . THE ROOMMATES : . A female nursing student at NYU and her boyfriend who is currently working in Brooklyn as a high school teacher . They will be moving out on 11 / 15 . LOOKING FOR : . Someone who is financially responsible , respectful , clean up after themselves , and don ' t bring parties home . To move in , you will need to pay 1 month rent + 2 months deposit ( will return when you move out ). The rent is $ 1 , 600 , all utilities included ( wifi , electricity , water , heat ). The room is available now until the end of January . Please tell us a little bit about yourself ( link to social media helps ) and we will set up a time for you to visit the apartment .\",\n u\"Looking to sublet my beautiful lower east side apartment for the foreseeable future , as I need to head to DC for work in early November . I ' ve lived here since 2008 and really love the home I ' ve built , so I ' m looking for someone responsible who will care for the space . Would prefer a month - to - month arrangement but am open to longer periods of time and possibly shorter for the months of November and December . I live here alone , but it could also be a great apartment for a couple . $ 1800 a month , all utilities and wifi included , as well as a cleaning service every two weeks . $ 1450 deposit . If interested , please write with your requested dates , what you do for work , where you are living now , and when you are available to see the apartment / meet .\",\n u'Hey there I have a furnished bedroom available till Dec 1st . Fully furnished bedroom in a 3 bedroom share . Full size bed , dresser , desk . Good natural light . Very private , young professionals , no living room , essentially your own bedroom , a shared kitchen and a shared bathroom . Awesome location , steps to L train on 14th st , near everything the East Village has to offer . All utilities included ( heat , hot water , electricity , internet ) . Need to take care of this asap so please feel free to contact me anytime . Thanks and I hope to hear from you .',\n u\"-- Were showing the apartment all day on Saturday and Sunday this week . Send a text or email if you ' d like to come by or set up a google hangout to see the apartments . Also let us know by text if you have any questions . We are looking to sublet a large private 1 br 1 bathroom suite in a newly renovated doorman high rise building on Mercer St in the heart of Greenwich Village . The building has laundry service on site , a gym , and a pool on the roof . The newly redone apartment is 950 sf with a brand new large full kitchen , a large balcony overlooking Broadway , 2 bathrooms , lots of closet space , and several large tvs with cable and high speed internet . Within the three bedroom apartment there is a door separating a private suite with a 14 X 12 bedroom and private bathroom . The bedroom is fully furnished with a brand new full sized bed , dressers , and a flat screen TV . The over sized windows in the bedroom are east facing with nice views of broadway while being high enough to be very quiet . Within the apartment there are two other bedrooms each inhabited by recent college graduates that work on Wall St . We both work extremely long hours and the apartment is usually empty because we are usually at work . Everything is kept very clean and things are always very quiet during the week and pretty low key on weekends ( Some friends over before going out - nothing crazy ). The apartment is available for an November 1 move in ( somewhat flexible about exact move in date and the length of the sublease ). We are available to show the apartment any day on the weekend or any weeknight after 730 . If you ' d like to setup a time to come by or if you have any questions please reply by email or text and we ' ll try to get back to you right away .\",\n u'Hi All , . Looking for someone to sublet my apartment the last 4 months of my lease . It is a HUGE 1 bedroom on the 22nd floor . Laundry in the building and 4 blocks away from the 1 train . Did i mention the apartment is LARGE !!! :) .',\n u\"Hi , . I live in a 1 bedroom apartment in the heart of Soho , with some of the best restaurants and shops in NYC walking distance from my door . My apartment is beautiful , clean , and comes fully furnished . My kitchen has new appliances , my living room has a comfortable couch , extra large TV and 100 + books . My bedroom is simple with a queen - sized bed . My street is very quiet too ! I ' m looking for a subletter - My dates are flexible , the ideal timeframe would be Nov 1 - Jan 1 but can be negotiated . I will be traveling a lot the next two months so that ' s why it ' s available . The rent is $ 4 , 000 a month - that includes bills ( no other fees ). I am looking for someone who will be respectful in my home , will not be hosting guests , and is a non - smoker . No pets allowed . Tourists are welcome , couples are welcome . It ' s a perfect location to be for the holidays . I ' m happy to give neighborhood suggestions if you aren ' t a local . Please contact me if you are interested . I will add photos shortly / can email you as well . Thank you !\",\n u'A spacious , airy one bedroom apartment located in heart of Hamilton Heights ( 3 - 12months lease ) 152nd St between Broadway and Riverside Drive . The apartment is on the 5th floor , in elevator building . The building is near Hudson River parks and subway lines : A , B , C , D ( 15 - 20min train ride to Midtown ) and 1 train ( 20min ride to Time SQ ). There are also M4 , M5 , M11 , M101 , M100 buses stopping at the corner of Broadway and ST . Nicholas . The windows have West exposure , which provides bright but calming afternoon sun . 10 feet ceilings . Furnished semi modern with curtain dividers for more privacy . Heat is included in rent and it gets VERY warm during the winter months - very cozy . This is a renovated , freshly painted , wood floor apartment , with new appliances . Huge closet space in the bedroom . ALL UTILITIES INCLUDED IN RENT ! Perfect apartment for a couple or 2 roommates ( living room flex , comfortable sleeper sofa ). I am looking for a clean person ( s ), or a couple who will take care of the apartment wile I am traveling . Please respect the neighbors and recycle . There is a new laundry room in the basement ($ 1 . 5 per load ). No pets , no parties , no smoking . Only serious inquiries please .',\n u\"I am going to be away from New York for a few months and am looking to sublet my apartment to one lovely person ( or a couple ) who will treat my place as their own , and who will appreciate the great space and awesome neighborhood as much as I do ! IT ' S A SERIOUSLY AMAZING APARTMENT :) . It is available from November 7th through February 28th ( with the possibility to extend though the first week of March ). ( 3 . 75 - 4 months all in ...) . Rent is $ 3500 / month and includes internet and all utilities ( AC , heat , water , electric ). It is fully furnished as shown in the photos . The apt is on 126th between 5th and Lenox and is gut renovated and brand new . It is a large (> 850 SF ) 1 bedroom with AMAZING southern views over Central Park down to the Empire State building in both the bedroom and living room . Amenities include an in - unit washer and dryer , dishwasher , central air ( heat + AC ), soaker bathtub , GE gas range and oven , king Sleep Number bed , remote doorman ( for packages ), video intercom , and shared rooftop access . It ' s a 2 minute walk to the 2 / 3 and a 8 minute walk to the 4 / 5 / 6 . The A / C / B / D is 15 minutes away . It ' s minutes from amazing restaurants ( the legendary Red Rooster is literally on the corner ) and there are many jazz clubs and other live music venues in close walking distance . Central Park is a 15 minute walk away , and Marcus Garvey Park is around the corner . Whole Foods at Bed Bath are both within 5 minutes .\",\n u'Gorgeous Spacious Furnished Apt in Union Square . Near the best eateries and most major Subway lines . Brand New Stainless Steel Appliances , Pristine counters , Closets , Work Desk , Modern Furnishings with lovely Art work and a spacious Bedroom . Apartment information : . Apartment ID #: 3684 . Type : One Bedroom . Price : $ 3600 per month . Min Rental : 1 month ( s ) . Area : Union Square Downtown , New York 10003 . Address : E 15th St . ( between 1st Ave and 2nd Ave ) . Other fees : . We charge : 20 % of entire rental period . For more information contact Sofia . Why work with Lara Group ? We love what we do . We believe that our real work is the work we do with ourselves . The more conscious we become , the more we have to give to others . And that is for us real happiness ! We are a New York licensed real estate brokerage firm specializing in furnished apartment rentals in Manhattan since 2001 .',\n u\"I am going to be away from New York for a few months and am looking to sublet my apartment to one lovely person ( or a couple ) who will treat my place as their own , and who will appreciate the great space and awesome neighborhood as much as I do ! IT ' S A SERIOUSLY AMAZING APARTMENT :) . It is available from November 7th through February 28th ( with the possibility to extend though the first week of March ). ( 3 . 75 - 4 months all in ...) . Rent is $ 3500 / month and includes internet and all utilities ( AC , heat , water , electric ). It is fully furnished as shown in the photos . The apt is on 126th between 5th and Lenox and is gut renovated and brand new . It is a large (> 850 SF ) 1 bedroom with AMAZING southern views over Central Park down to the Empire State building in both the bedroom and living room . Amenities include an in - unit washer and dryer , dishwasher , central air ( heat + AC ), soaker bathtub , GE gas range and oven , king Sleep Number bed , remote doorman ( for packages ), video intercom , and shared rooftop access . It ' s a 2 minute walk to the 2 / 3 and a 8 minute walk to the 4 / 5 / 6 . The A / C / B / D is 15 minutes away . It ' s minutes from amazing restaurants ( the legendary Red Rooster is literally on the corner ) and there are many jazz clubs and other live music venues in close walking distance . Central Park is a 15 minute walk away , and Marcus Garvey Park is around the corner . Whole Foods at Bed Bath are both within 5 minutes .\",\n u\"Two - bedroom sunny east village 2 month sublet from Nov 1 to Dec 31 , length of stay is flexible . First month + utilities and security deposit are required . There ' s cable TV and Wifi access available . Furnished apartment with two double beds . It ' s centrally located in the heart of the east village , plenty of shops to explore and a variety of restaurants to enjoy . There are two air conditioners and a laundry mat directly across the street . Transportation either by bus or subway , most lines are within one to four blocks . Please e - mail me if you are interested , I am showing it Sunday Feb . 10 . Thanks .\",\n u\"We are looking for someone to sublet our apt for November . The apt is close to the 6 subway line East 116th street stop and the M15 bus . It has a few rooms including a kitchen and a bathroom . It is fully furnished and we are looking for someone kind . The rent includes all utilities . There is a $ 1 , 250 security deposit . If you may be interested in hearing more about the place , please write a little about yourself . If it seems like a good fit , we ' ll get back to you asap .\",\n u'Gorgeous Spacious Furnished Apt in Union Square . Near the best eateries and most major Subway lines . Brand New Stainless Steel Appliances , Pristine counters , Closets , Work Desk , Modern Furnishings with lovely Art work and a spacious Bedroom . Apartment information : . Apartment ID #: 3684 . Type : One Bedroom . Price : $ 3600 per month . Min Rental : 1 month ( s ) . Area : Union Square Downtown , New York 10003 . Address : E 15th St . ( between 1st Ave and 2nd Ave ) . Other fees : . We charge : 20 % of entire rental period . For more information contact Sofia . Why work with Lara Group ? We love what we do . We believe that our real work is the work we do with ourselves . The more conscious we become , the more we have to give to others . And that is for us real happiness ! We are a New York licensed real estate brokerage firm specializing in furnished apartment rentals in Manhattan since 2001 .',\n u'2 Bedroom in Greenwich / West Village is a perfect share apartment . Each bedroom has a full size bed , dresser , closet , and a / c . The living room has all you need - sofa , table , chairs , coffee table , and tv , and the kitchen is fully equipped . The apartment is close all major subway lines - 1 , 9 , F , M , A , C , E . Ideal for a temporary stay in the city in the most beautiful neighborhood . Fully equipped . 8 months minimum lease . Available now ! Email dates for additional information . Thanks .',\n u'I am , 28 y / o Columbia Univ . Masters candidate looking January 1st move - in because my current roomate is moving . Would like for someone to stay through end of lease May 31st , 2017 . I have a 80 lb black lab mix dog ( who is very friendly ). Apt is 2 bed / 2 full bath / 2 floor duplex with outside backyard . Living room is furnished , bedroom can include a full size bed if desired ( my current roomate is willing to leave it behind for no cost , or it can be removed , whatever you prefer ). Bedroom has window , own full bathroom , and closet . Dishwasher , washer / dryer in building , apt is ground floor ( no walk up ). The rent does not include utilities which are roughly $ 120 a month each and a deposit equal to 1 months rent will be required in addition to rent prior to move in .',\n u'Sublet a beautiful and unique floor through 1 BR in private house . $ 4 , 500 for the 6 weeks sublet . Own entrance , large open loft like space , separate private bedroom , small kitchenette corner and private bathroom . with w / d . Windows front and back , old details and contemporary feel . We are looking for a friendly and very responsible person , who will cherish a special oasis in the city , . with references / foreigners welcome . Please tell us about you and your needs . From Oct 29th to Dec 6th ( possibly a little longer ) . One person only .',\n u\"This beautiful apartment is a block away from the following subways , J , Z , N , Q , N , R , and 6 . The building is gorgeous and has an elevator ! The apartment is great and has character with modern appliances . A lovely apartment in the best city in the world . Perfect for groups and families . The apartment is a gorgeous , fully furnished 1 bedroom apartment in a luxury modern apartment . The apartment has 1 bedrooms with a queen bed the bedroom , 1 sleeper sofas in the living room . This apartment comes with all the comforts of home and more : A washer and dryer , a fully supplied gourmet kitchen , dishwasher , flat panel television , cable TV , telephone , and wireless Internet service . Cookware , linens , towels , and an initial supply of soap and paper goods are provided . There are hardwood floors in the common areas , and bedroom , the kitchen is clean , nice sized area to eat / table and ceramic flooring , with stainless steel appliances , microwave , and dishwasher . The apartment is on the 11th floor of an elevator building , and the park across the street . The space is beautiful and spacious , plenty of light and a true ( good ) NYC experience . The living room is spacious and has a very solid and comfortable modern sofa bed ( sleeps two adults ). The living room has a large flat screen t . v . with cable and plenty of space for everyone to hang out . The bedroom is large and is very comfortable with a . high end mattress , closet and windows , flat screen etc . The bathroom has a full bath / shower and is clean . All linens , towels , cooking / eating utensils , utilities , WiFi are all included . I can even have maid service if you like to take care of linens while you stay . Basically just bring your bags and get ready to enjoy the city . This apartment provides most importantly a true New York city experience , not a white - washed experienced you ' d get in Mid - town . The location is fantastic . I can ' t stress the location enough , if you ' re vacationing you don ' t want to waste time just getting to the subway or taking a cab to get you somewhere , you want to simply walk out of the building and be in the heart of NYC . The subway is literally a stone ' s throw away . To say the least this is a gem of a place in the midtown west . I may be flexible for arrival or departure times however must be coordinated prior to arrival . You ' ll have access to the entire apartment . I won ' t be there so its for you and your group only . A vibrant and incredible neighborhood neighboring downtown , and many other well known neighborhoods . Everything is close by and easily accessible .\",\n u\"Hi , I am subletting my beautiful 1BR apartment . Very close to the 6 , N , Q , R trains Gramercy park , Madison Square park and the Flatiron building . I ' ve put a lot of effort to make it cosy . You ' ll love its style , the private yard ( what a find ! ), the location , the ambiance and the neighborhood . I am looking for a clean , quiet ( meaning , not parties every day ) and respectful person . Please send me a few details about you and we will take it from there . The apartment is available in November , for 1 month minimum and 8 months maximum . If you want it for more than 8 months we can discuss . Looking forward to hearing from you !\",\n u'Hello ! Renting my fully furnished lofted Gramercy apt 11 / 15 - 1 / 15 . I am a producer in between NYC and LA and have to go out West for a short term project . I would clear out my closets ( 2 ) and dresser ! Really great apt , perfect for one or a couple !',\n u\"XXL BEDROOM and FULL PRIVATE BATH in ELEVATOR building available starting Dec 1st 2017 in 2 bed , 2 bath apartment . Large renovate kitchen and separate furnished living room as shown in pics . $ 2200 per month including utilities . I ' m a grad student at Hunter and have lived in this apartment for three years - it ' s cozy , serene and bright . My current roommate is moving out end of Nov . The room can come furnished ( as in the photos ) or unfurnished . It has a walk - in closet with ample storage for your things . It has lovely views of the Chrysler bldg and St Mark ' s church . Every room in the apartment has at least two large windows so we have constant warm light from our southeast exposure . The two bedrooms are separated by a 30 foot long hallway so there is ample privacy in the apartment .\",\n u\"Looking for a third roommate to fill our 3bed - 3ba duplex . Move in and out - date is flexible but it ' s available immediately . We have a lease through September 2018 but would consider shorter term too . It ' s an incredible apartment and the price is a steal for this apt / room . Our 3rd roommate had to move and we ' re just looking for someone fun to take his place . About the apt : great location in the heart of the east village on east 9th street . It ' s an enormous duplex ( 2300 sq ft .) with a semi - private roof deck that we share with one other unit in the building . The apartment has everything - washer & dryer , working fireplace , ping pong table , lots of storage . Your room is a good sized ( easily fit a queen and furniture ), decent sized closet , and your own bathroom . The apt is all furnished except for the spare bedroom . See the pictures to check out the layout . About your roommates : two guys in late 20s and early 30s - working in venture capital & Tech . We travel a lot but are pretty social when in NYC . We ' ll be having people over on the roof etc . so ideally looking for someone who is OK with that and looking to partake in the party . Please respond with a little info about yourself , male or female welcome . I ' ll update the pictures of the apartment actually furnished shortly .\",\n u'Available from November 2017 to March 2018 . 13th and Ave A . G \\' day friends ! After sharing and renting now it is * my * turn to offer one lucky person a room at Chateau Taylor . Bedroom has essentials like mattress and tables / chairs . Video walk through ! http :// youtu . be / atNsHrpzeO0 . Cosy apartment on * quiet *(!) street close to L train , Union Square , with . Fireplace , . Projector , . 2 bedrooms , . TWO bathrooms , . Security Cameras . Great kitchen . Included gratis High Speed Internet 75mbps and up to 117mbps in the right place and time . Our own washer dryer in unit ! Luxury ! Huge private backyard with outdoor seating and jacuzzi . :- O . Close to L train on 1st Ave . Fully furnished in living room but you may wanna furnish your room more . I am frequently away for weeks , if not months , in LA , Europe and Australia so you are kinda getting a half friend and half a whole apartment . Looking for someone quiet and professional . You should be \" one \" person , sane , stable , and write about yourself and something about your parents so I know you read and follow directions . Attach photos or links . It \\' s like platonic dating as we are living together remember ^ _ ^ We don \\' t have to be best friends but a certain comfortableness is important . Not the partying type but maybe a dinner party every now and then for 4 .',\n u'2 Bedroom / 1 Bath Sublet Available from January 5th - February 28th ( possibly through end of June ). Fully Furnished . Upper West Side ; 81st & Amsterdam . 5 minute walk to Central Park , the Museum of Natural History and Riverside Park . 3 minute walk to the 1 train on 79th and Broadway . A little about the Apartment : We are located at 81st & Amsterdam which means there are plenty of amazing restaurants and bars right around the corner on Amsterdam . We are located on the 4th floor of a walk - up building ( 3 flights of stairs ). The building only has 20 units and my neighbors are all really chill . The apartment is situated at the back side of the building which makes it very peaceful . The living room features 2 large windows allowing for plenty of natural light . The kitchen also has a window and has granite countertops , a microwave , oven and full size refrigerator . The apartment is approx . 850 sf with plenty of natural light , wood flooring throughout and high ceilings . Both bedrooms have a window , a closet and both fit a queen size bed . The bedrooms are situated on opposite ends of the apartment making it the ideal roommate situation . Rent : $ 3950 / month including utilities ( wifi & cable included ) . NO FEE . Available January 5th . Qualified Applicants Only . Please respond with your preferred timeframe , employment status and a little bit about who will be staying here . No Smoking . Required for move in : First , Last & Security Deposit of 1 months rent . References Required . Please do not respond unless you can provide the requirements for move in . Thanks !',\n u'Available from November 2017 to March 2018 . 13th and Ave A . G \\' day friends ! After sharing and renting now it is * my * turn to offer one lucky person a room at Chateau Taylor . Bedroom has essentials like mattress and tables / chairs . Cosy apartment on * quiet *(!) street close to L train , Union Square , with . Fireplace , . Projector , . 2 bedrooms , . TWO bathrooms , . Security Cameras . Great kitchen . Included gratis High Speed Internet 75mbps and up to 117mbps in the right place and time . Our own washer dryer in unit ! Luxury ! Huge private backyard with outdoor seating and jacuzzi . :- O . Close to L train on 1st Ave . Fully furnished in living room but you may wanna furnish your room more . I am frequently away for weeks , if not months , in LA , Europe and Australia so you are kinda getting a half friend and half a whole apartment . Looking for someone quiet and professional . You should be \" one \" person , sane , stable , and write about yourself and something about your parents so I know you read and follow directions . Attach photos or links . It \\' s like platonic dating as we are living together remember ^ _ ^ We don \\' t have to be best friends but a certain comfortableness is important . Not the partying type but maybe a dinner party every now and then for 4 .',\n u\"Hi , I am subletting my beautiful 1BR apartment . Very close to the 6 , N , Q , R trains Gramercy park , Madison Square park and the Flatiron building . I ' ve put a lot of effort to make it cosy . You ' ll love its style , the private yard ( what a find ! ), the location , the ambiance and the neighborhood . I am looking for a clean , quiet ( meaning , not parties every day ) and respectful person . Please send me a few details about you and we will take it from there . The apartment is available in November , for 1 month minimum and 8 months maximum . If you want it for more than 8 months we can discuss . Looking forward to hearing from you !\",\n u'Hotel like accommodations with a home like feel . 60 \" Smart flat screen T . V . in the living room , 32 \" flat screen in the bedroom , WiFi , Fresh linens & towels , stocked refrigerator and much more . This will be the epitome of a True Brooklyn Experience ! This GREAT neighborhood provides fairly easy access to local eateries and shopping centers within the accessibility of local transportation . Canarsie Pier & Park are a 3 minute cab ride away if you \\' d like to enjoy these great summer nights in a relaxing / tranquil way . There is a Taxi Cab Depot around the corner which allows for generally no more than a 5 minute wait for service . The L train station is 5 blocks from your stay which will provide a speedy 30 - 35 minute commute into Manhattan . The first 5 minutes of this train ride is above ground which allows for an elevated view of Brooklyn .',\n u'This amazing furnished studio has been conceived by an Italian design team who has specified all the best materials , finishes and furnishings . The apartment features : Durmast oak floors , Boffi kitchens , Sub - Zero refrigerators , Delonghi appliances . Top of the line bathroom fixtures , DVD Player . Private Balcony / Terrace / Patio , Wireless Internet Access . Audio System , Full size bed . Stainless Steel Appliances , Flat Screen TV . Double - pane Windows , Central Air / Heating System . Hard Wood Floors , Microwave . Toaster , Tea Kettle . Bed Linens and Towels Shower . Glass Sliding Doors , High Ceilings . Floor to Ceiling Windows City Views . Dishwasher Internet Access . We charge : 20 % of entire rental period . For more information contact Sofia : . We love what we do . We believe that our real work is the work we do with ourselves . The more conscious we become , the more we have to give to others . And that is for us real happiness ! We are a New York licensed real estate brokerage firm specialized in furnished apartment rentals in Manhattan since 2001 .',\n u\"Huge ( 11 . 5ft x 13 . 5ft ) fully furnished bedroom , with a private bath and private balcony , available November 1st in a spacious , natural - light - soaked ( with southern exposure ) apartment in Rose Hill ( between Murray Hill and Gramercy ). We are on the 10th floor ( penthouse ) of an elevator building with laundry in the basement . The room comes with a full - sized bed , nightstand , dresser , armoire and a book shelf . Your private bath is spacious and the water pressure is terrific . The kitchen and living area is shared . You will be sharing with a very friendly , respectful and laid back couple with a 6lb adorable yorkie ( who does not shed and is hypoallergenic ). Must be ok with dogs but do not need to take care of him . We are a 3 minute walk to the 6 train and an 8 minute walk to the B / D / F / V / N / Q / R . We are in a terrific and safe neighborhood with many nearby restaurants , grocery stores , banks , stores , taxis , bus stops and bars . The rent is $ 1975 a month + utilities ($ 140 ) ( which includes electric , gas , high - speed internet , wifi , cable , and once a month cleaning service ). Looking for a MINIMUM commitment of three months with the possibility of more . Please send a small bio about yourself ( career , hobbies , etc .) and a Facebook or LinkedIn link attached . Happy to answer any questions . . . Thank you and best of luck . Move - in 11 / 01 / 2017 ( must agree to initial commitment through 1 / 31 / 18 ). SINGLE OCCUPANCY ONLY - No couples . No smoking . No pets since we already have a dog . Must act fast ! Currently showing the space so please write to make an appointment . Move in cost : $ 1975 deposit + $ 1975 first month ' s rent = $ 3950 . SERIOUS INQUIRIES ONLY PLEASE !\",\n u'This amazing furnished studio has been conceived by an Italian design team who has specified all the best materials , finishes and furnishings . The apartment features : Durmast oak floors , Boffi kitchens , Sub - Zero refrigerators , Delonghi appliances . Top of the line bathroom fixtures , DVD Player . Private Balcony / Terrace / Patio , Wireless Internet Access . Audio System , Full size bed . Stainless Steel Appliances , Flat Screen TV . Double - pane Windows , Central Air / Heating System . Hard Wood Floors , Microwave . Toaster , Tea Kettle . Bed Linens and Towels Shower . Glass Sliding Doors , High Ceilings . Floor to Ceiling Windows City Views . Dishwasher Internet Access . Price is for a minimum 6 months rental . For less the monthly rent is $ 3600 . We charge : 20 % of entire rental period . For more information contact Sofia : . We love what we do . We believe that our real work is the work we do with ourselves . The more conscious we become , the more we have to give to others . And that is for us real happiness ! We are a New York licensed real estate brokerage firm specialized in furnished apartment rentals in Manhattan since 2001 .',\n u'Available from the beginning of January , 2018 through to the end of March , 2018 . $ 4 , 000 per month month plus 1 / 2 month security deposit . Sublet tenant pays for their electric usage . Start and end date somewhat flexible . Renovated 800 sq . ft . one bedroom apartment loft , fully furnished , 24 / 7 doorman , luxury pre - war building , two elevators , . common furnished roof deck . Loft mezzanine offers a private and cozy bedroom with a queen bed on a slatted oak frame . Downstairs offers , in the open studio , a ZenBo Danish Tempurpedic double sofa bed . Vaulted twelve ft . ceilings with ceiling fans , halogen track lights w / dimmers , high - end sound system , new a / c with two remotes . Fully equipped kitchen , large stainless steel fridge , DeLonghi gas stove top and oven , d / w , five sets of W / D in the common laundry room . 40 inch ultra hi def Smart TV w / Apple TV . Antenna enables all basic TV channels . Super fast WiFi connection . Spacious bathroom , well ventilated , w / Victorian beveled glass windows , integrated Gr \\xf6 he shower and bath system . Northern exposure , faces courtyard , quiet , excellent daylight , open view . The loft is two short blocks to all major subway lines ( L . R , N , 4 , 5 & 6 .) . Walking distance to Union Square Park , Washington Square Park , Tompkins Square Park , Soho , Nolita , LES , Chelsea , Tribeca , West Village , and East Village . Crunch Gym @ Union Square is next door and does not require an annual commitment ; pay as you go per month / per week / per day . Guest pass available . Additional photos available upon request . Guest agreement defines this rental and expenses and secures the refund of security deposit . Please include your contact information , if you are single or a couple , a student , professionally employed or retired and your . preferred dates of residency .',\n u'This large studio with a fully updated kitchen is home to stainless steel appliances and a gas stove for all of your culinary needs . Sit down for your meals at the table located right in your very own kitchen . The living room hosts a queen size sleeper sofa and love seat accented by cozy area rug . Flat screen cable TV and free Wi - Fi are included . Open the lovely French doors to access the bedroom , where Taylor Made FA branded green accents brighten up the room . The Queen size bed comfortably sleeps 2 adults for a good night sleep after a long day of working or living the New York life . A large chest of drawers and vanity as well as two side tables are perfect for storing all of your essentials . You can see a spectacular city view and East River view from the bedroom window . Monthly : $ 4500 plus 20 % broker fee . One time Cleaning fee : $ 150 . TO SCHEDULE AN APPOINTMENT PLEASE CONTACT SOFIA TODAY : . Why work with Lara Group ? We love what we do . We believe that our real work is the work we do with ourselves . The more conscious we become , the more we have to give to others . And that is for us real happiness ! We are a New York licensed real estate brokerage firm specializing in furnished apartment rentals in Manhattan since 2001 .',\n u\"Hi , I am subletting my beautiful 1BR apartment . Very close to the 6 , N , Q , R trains Gramercy park , Madison Square park and the Flatiron building . I ' ve put a lot of effort to make it cosy . You ' ll love its style , the private yard ( what a find ! ), the location , the ambiance and the neighborhood . I am looking for a clean , quiet ( meaning , not parties every day ) and respectful person . Please send me a few details about you and we will take it from there . The apartment is available November 1st , for 1 month minimum and 8 months maximum . If you want it for more than 8 months we can discuss . Looking forward to hearing from you !\",\n u'Hi there ! I \\' m looking for a short - term roommate to share my 1 - BR apt with in Midtown East . It \\' s a 1 - BR with a large living room , so I could either stay in the living room and give you the bedroom ($ 1500 / month ) or I could stay in the bedroom and you \\' d be in the living room ($ 1200 / month ). November & December only . And I would prefer to have both months \\' rent up front as is customary in NYC , but if that \\' s not possible for you , and we get along great , I \\' d be willing to take just the 1st month \\' s rent before move - in and the 2nd month before Dec 1 . We \\' d be sharing the kitchen , bathroom , and the rest of the living room ( I can use either a curtain or room divider to separate the bedroom portion of the living room from the common area ). I keep kosher , so I \\' d like a roommate who is vegetarian or vegan please ! :) :) . More info & pics here : https :// www . airbnb . com / rooms / 16243923 ( you have to take out the space before the \". com \") . When you write , please tell me a little about yourself - why you \\' re in NY , how long you are looking to rent , and what you expect your schedule to be while you \\' re here , etc . Neat - freaks preferred ! Thank you ! ps - move - in and move - out dates are also slightly flexible , give or take a few days . Thanks !',\n u\"Huge ( 11 . 5ft x 13 . 5ft ) fully furnished bedroom , with a private bath and private balcony , available November 1st in a spacious , natural - light - soaked ( with southern exposure ) apartment in Rose Hill ( between Murray Hill and Gramercy ). We are on the 10th floor ( penthouse ) of an elevator building with laundry in the basement . The room comes with a full - sized bed , nightstand , dresser , armoire and a book shelf . Your private bath is spacious and the water pressure is terrific . The kitchen and living area is shared . You will be sharing with a very friendly , respectful and laid back couple with a 6lb adorable yorkie ( who does not shed and is hypoallergenic ). Must be ok with dogs but do not need to take care of him . We are a 3 minute walk to the 6 train and an 8 minute walk to the B / D / F / V / N / Q / R . We are in a terrific and safe neighborhood with many nearby restaurants , grocery stores , banks , stores , taxis , bus stops and bars . The rent is $ 1975 a month + utilities ($ 140 ) ( which includes electric , gas , high - speed internet , wifi , cable , and once a month cleaning service ). Looking for a MINIMUM commitment of three months with the possibility of more . Please send a small bio about yourself ( career , hobbies , etc .) and a Facebook or LinkedIn link attached . Happy to answer any questions . . . Thank you and best of luck . Move - in 11 / 01 / 2017 ( must agree to initial commitment through 1 / 31 / 18 ). SINGLE OCCUPANCY ONLY - No couples . No smoking . No pets since we already have a dog . Must act fast ! Currently showing the space so please write to make an appointment . Move in cost : $ 1975 deposit + $ 1975 first month ' s rent = $ 3950 . SERIOUS INQUIRIES ONLY PLEASE !\",\n u'This large studio with a fully updated kitchen is home to stainless steel appliances and a gas stove for all of your culinary needs . Sit down for your meals at the table located right in your very own kitchen . The living room hosts a queen size sleeper sofa and love seat accented by cozy area rug . Flat screen cable TV and free Wi - Fi are included . Open the lovely French doors to access the bedroom , where Taylor Made FA branded green accents brighten up the room . The Queen size bed comfortably sleeps 2 adults for a good night sleep after a long day of working or living the New York life . A large chest of drawers and vanity as well as two side tables are perfect for storing all of your essentials . You can see a spectacular city view and East River view from the bedroom window . TO SCHEDULE AN APPOINTMENT PLEASE CONTACT SOFIA TODAY : . Why work with Lara Group ? We love what we do . We believe that our real work is the work we do with ourselves . The more conscious we become , the more we have to give to others . And that is for us real happiness ! We are a New York licensed real estate brokerage firm specializing in furnished apartment rentals in Manhattan since 2001 .',\n u'This amazing furnished studio has been conceived by an Italian design team who has specified all the best materials , finishes and furnishings . The apartment features : Durmast oak floors , Boffi kitchens , Sub - Zero refrigerators , Delonghi appliances . Top of the line bathroom fixtures , DVD Player . Private Balcony / Terrace / Patio , Wireless Internet Access . Audio System , Full size bed . Stainless Steel Appliances , Flat Screen TV . Double - pane Windows , Central Air / Heating System . Hard Wood Floors , Microwave . Toaster , Tea Kettle . Bed Linens and Towels Shower . Glass Sliding Doors , High Ceilings . Floor to Ceiling Windows City Views . Dishwasher Internet Access . We charge : 20 % of entire rental period . For more information contact Sofia : . We love what we do . We believe that our real work is the work we do with ourselves . The more conscious we become , the more we have to give to others . And that is for us real happiness ! We are a New York licensed real estate brokerage firm specialized in furnished apartment rentals in Manhattan since 2001 .',\n u\"Hi , I am subletting my beautiful 1BR apartment . Very close to the 6 , N , Q , R trains Gramercy park , Madison Square park and the Flatiron building . I ' ve put a lot of effort to make it cosy . You ' ll love its style , the private yard ( what a find ! ), the location , the ambiance and the neighborhood . I am looking for a clean , quiet ( meaning , not parties every day ) and respectful person . Please send me a few details about you and we will take it from there . The apartment is available in November , for 1 month minimum and 8 months maximum . If you want it for more than 8 months we can discuss . Looking forward to hearing from you !\",\n u'This is cozy and bright gem apartment located on the border of Union sq and Gramercy . Its perfect for tourist purposes or bussines visitors in NY . Building has elevator and laundry in basement . Fully furnished apt on 5 th floor with cable . and wifi will be available for you while i am traveling in January and February . Dates and months are somewhat flexible . One person is prefered or 2 people maximum . So couples - not roommates wanted . Sheets and towels provided so you ll need to bring only your tooth brush .',\n u\"Hi ! I ' ll be traveling for the next 3 or so months , so I ' m subleasing my room while I Eat Pray Love my way through Europe . It ' s the largest room in a beautiful 3 - bedroom apartment , right on the corner of Tompkins Square Park . My timeline is pretty flexible , so I ' m happy to sublease the room for longer than 3 months if that ' s preferred . Ideally looking for someone to sublet beginning November 1st . A bit about the building : two rooftops with incredible 360 degree views of Manhattan , a 24 - hour doorman , gym , and laundry in the basement . We have a spacious corner apartment on the fourth floor , which means large windows and tons of natural light . The kitchen was renovated earlier this month , so all the appliances and countertops are sparkly and new -- black granite , stainless steel , the whole shebang . The room is fully furnished , and you ' re welcome to use my kitchen appliances , spices , tea , etc . There ' s a huge closet , dresser , bookshelf , and obviously , a cozy bed . I have spare sheets and towels as well , so I ' ll gladly provide those if needed . Rent is $ 1 , 680 / month , plus utilities ( usually around $ 53 total for cable , internet , and electric ). Your roommates will be two lovely twenty - somethings , Katie and Annabella . Katie works at an art gallery , and Annabella works in finance . They ' re both kind , clean , silly , and social . Side hobbies include : wine , brunch , culture - y adventures , runs along the East river , and anything involving food . Please feel free to contact me for a tour , or if you ' d like additional info ! P . S . I ' m Alex !\",\n u\"Two - bedroom sunny east village furnished sublet for November and December , length of stay is flexible . First month + utilities and security deposit are required . There ' s cable TV and Wifi access available . It ' s centrally located in the heart of the east village , plenty of shops to explore and a variety of restaurants to enjoy . There are three air conditioners and a laundry mat directly across the street . Transportation either by bus or subway , most lines are within one to four blocks . Please e - mail or text if you are interested , I am showing it this week . Thanks !\",\n u'I ma looking for a possible and responsible tenant for my one bedroom furnished apartment . Fully furnished and design to fit a colorful standard located in the heart of New York . Utilities Cover .',\n u'I ma looking for a possible and responsible tenant for my one bedroom furnished apartment . Fully furnished and design to fit a colorful standard located in the heart of New York . Utilities Cover .',\n u'I ma looking for a possible and responsible tenant for my one bedroom furnished apartment . Fully furnished and design to fit a colorful standard located in the heart of New York . Utilities Cover .',\n u'Gorgeous Brand New Furnished apt . Near the United Nations and most major Subway lines . Brand New Stainless Steel Appliances , Pristine counters , Closets , Work Desk , Modern Furnishings with lovely Art work . Apartment ID #: 3F . Type : One Bedroom . Price : $ 4500 plus broker fee / month . We charge : 20 % of entire rental period . Min Rental : 1 month ( s ) . Area : Midtown East , New York 10022 . Address : E 51st St . ( between 1st Ave and 2nd Ave ) . For more information contact Sofia : . Why work with Lara Group ? We love what we do . We believe that our real work is the work we do with ourselves . The more conscious we become , the more we have to give to others . And that is for us real happiness ! We are a New York licensed real estate brokerage firm specializing in furnished apartment rentals in Manhattan since 2001 .',\n u'Furnished studio on East 6 St ., between 1st and 2nd Ave ., available from Dec . 18 to Apr . 17 . $ 1950 per month includes heat , gas , electric , cable ( HBO \\\\ Showtime ), wifi . Ground floor , street side , good light . 550 sq . ft . Great location . Near to F , R , 6 , L trains and cross town bus . Great restaurants and shops . 2 blocks to Tomkins Sq . Park . Looking for responsible , mature , clean individual .',\n u\"I ' m subletting my beautiful one bedroom in the East Village Nov 1st until Dec 15th . My home is located just around the corner from Tompkins square park facing a botanical garden . It \\xb4 s an classic floor - through railroad apartment with windows facing the street and the back yard so you \\xb4 ll have plenty of light and open space . The street is quiet but still very close to restaurants , bars and the East Village buzz . There \\xb4 s great wine store a few blocks away , the deli on the corner that make the most delicious sandwiches , next to the deli there \\xb4 s a laundromat , another 10 min away you \\xb4 ll find a Whole Foods . Theres a smaller grocery store just 2 blocks away . Everything is comfortable in my space . A fully equiped kitchen , a dining table that seats 6 people , a livingroom area and a bedroom area with a queensize bed . Juicer and blender for morning smoothies . Wifi . a singlespeed bike for rides along the water . No smoking , no pets or loud music - I ' m looking for a responsible person or a couple who would treat the space with care as their own and also give some love to my plants . Rent for the whole period is 3500 dollars + a 1000 dollar deposit . if this sounds interesting please email me and tell me a bit about yourself .\",\n u'Gorgeous Spacious Furnished Apt in Union Square . Near the best eateries and most major Subway lines . Brand New Stainless Steel Appliances , Pristine counters , Closets , Work Desk , Modern Furnishings with lovely Art work and a spacious Bedroom . Apartment information : . Apartment ID #: 3684 . Type : One Bedroom . Price : $ 3600 per month . Min Rental : 1 month ( s ) . Area : Union Square Downtown , New York 10003 . Address : E 15th St . ( between 1st Ave and 2nd Ave ) . Other fees : . We charge : 20 % of entire rental period . For more information contact Sofia . Why work with Lara Group ? We love what we do . We believe that our real work is the work we do with ourselves . The more conscious we become , the more we have to give to others . And that is for us real happiness ! We are a New York licensed real estate brokerage firm specializing in furnished apartment rentals in Manhattan since 2001 .',\n u'I am looking for a quiet , clean , easy to communicate with tenant . Nov 28 2017 to April 30 2018 . Super comfy and quiet UES 1 bed / 1 bath . 2nd floor walkup with a hardware store underneath so you are free to do Insanity or just stomp around all day ! I am working in Florida for the next 6 months , so enjoy my apt while I am gone ! Lovely one bedroom apartment with a separate kitchen , stainless steel appliances , bay window , hardwood floors and high ceilings in excellent location walking distance of Central Park . Roof access outside the windows as well . Wardrobe set up in the living room for extra storage . I use the dining room as an office looking out to the windows , but I have a full set of kitchen chairs to convert it into a more domestic set up . Decorative fireplace , please do not actually light a fire . The place is furnished . You may want to add your own personal touch , there is also room for that . A block away from 63 / Lex ( F , Q ) and 59 / Lex ( 4 , 5 , 6 , N , Q , R ). RENTAL REQUIREMENTS . No Pets . No Parties . No Smoking . $ 2400 Deposit . Proof of Employment . Sublease Agreement . Please supply references . Please message with a little bit of info , ie . why you are looking to sublet etc , to jumpstart the getting to know each other part of this process . Thank you !',\n u\"One bedroom available Nov . 1st or immediately for short - term , long - term , or month - to - month sublease in sunlit 3 - bedroom apartment in the East Village with private roof - deck just off the living room . Can come furnished or unfurnished . Room has exposed brick , a closet and small storage space , and access to the private roof - deck . Will fit a queen - sized bed , along with a small desk and dresser . The apartment has an adjacent private rooftop - balcony also looking out onto the community garden , with access directly from the living room , which is a nice place to have your morning coffee or an afternoon chill session . The building itself has an accessible roof with stunning 360 views of the Manhattan skyline . Ceiling fans in most of the apartment , including your room , and windows are big and mostly south - and west - facing so it gets lots of natural light ! All new appliances including a dishwasher . Heat and hot water included in the rent , gas / electricity / wifi are extra but to be split between roommates . Awesome location 1 block from Tompkins Square Park , close to restaurants and nightlife , and close to 1st Ave L train stop , Astor Place 6 train stop , and Union Square . Walking distance to the Soho , Bowery , West Village , Lower East Side , Flatiron , Gramercy , Chelsea , and a short subway stop away from Brooklyn nightlife . Couples , students , etc . all welcome ! Other current roommates are super chill and friendly , both female recent graduates in their mid / early 20s . Both work hard full - time during the day and sometimes on their own projects at night , and generally on the go a lot , but will make dinners or chill at home occasionally . We ' d like to find another awesome , respectful roommate for this room . We don ' t have to be best friends but good vibes and communication are important ! The place is pretty mellow since we ' re on the go a lot or just chilling , but we like to keep things relatively clean and tidy as well , especially common areas . At least one of us is a very heavy sleeper too . We have some of our own furniture including couches , speakers , cookware / dishware , etc ., but if you have anything you ' d like to bring that can fit , that ' s cool too !\",\n u\"Hi ! Looking for someone ( male or female ) to take over my lease for the remaining 3 months ( December 1 , 2017 - February 28 , 2018 ). It is the master bedroom in a four bedroom apartment with its own private bathroom . The bed pictured is a queen sized bed and there is also room for a loveseat so this is a very large room . The apartment also has a very large balcony area that is shared amongst the roommates as well as a terrace shared by the building . The three other roommates are two males working in advertising ( mid twenties ) and a woman also working in marketing ( mid twenties ). Further Details : . Rent : 1775 . Utilities : 45 - 65 ( depends on usage ) . Security Deposit : 1775 . The Building ( amenities included ): . Gym . Free package pickup . Laundry on site . Rooftop lounge and outdoor area . Terrace area and patio . Parking . Community events ( including yoga , seasonal activities and local discounts ) . For example a few months ago we got access to Chelsea Piers for a free day pass . I love this apartment and my roommates but need to move to NJ for work . Please let me know if you ' d like to come see the place . Serious inquires only . The bed and dressers must be purchased with room . Price negotiable . Thanks !\",\n u'This home is a jewel ! I have lived here 8 years and every day feel like I am waking up in a castle in the sky . East facing over the river - spectacular views - walk - in closet - beautiful furnishings - hand carved queen bed and chandelier . 4 blocks from Central Park . Doorman . Valet . Laundry in the building . Above Equinox gym and next to a beautiful city park . 2 blocks from Whole Foods and HU Kitchen . 4 blocks from subway and 2 theaters . Dates flexible . I will be traveling through the winter and possibly longer . I love everything about this beautiful sanctuary . It is a romantic hide - a - way and a perfect \" artist \\' s studio .\" . $ 3K / month - Available Dec 1 - through flexible . ( 3 + month rentals preferred ) .',\n u\"Bright and Spacious apartment to rent in the city center . The Double Bedroom : . It is a bright and spacious room , 15m2 , furnished with a comfortable double bed , 2 bed - tables , a large wardrobe , a chest of drawers and possibly a desk . The Apartment : . The total size of the apartment is of 100m2 . Composed by a comfy living room ; bathroom with bath tubs ; luminous equipped kitchen , veranda with fully furnished bedrooms . Rooms ' Value includes Bills : . City gas + Electric + Water + Tv Cable + WiFi Fibre Optic speed internet + free land line calls , ONLY from 21h to 9h am , call to land lines in 30 countries ( Germany , Andorra , Australia , Austria , Belgium , Canada , Chile , China ( except Macau & Hong Kong ), Croatia , Denmark , Spain , EUA , France , Greece , Holland , Hungary , Ireland , Italy , Japan , Luxemburg , Norway , Peru , Poland , UK , South Africa , Czech Republic , Slovak Republic , Sweden , Switzerland , Venezuela . ) . About me : . I ' m a very cool man and easy going . I m outgoing , I love people , yoga , music , travel & good home - made food . I travel a lot for work while having plenty of fun too ... the nature of my job !\",\n u\"This is a genuine short term sublet . I will meet you at my apartment for a viewing and answer any questions you may have about the listing / neighborhood in more detail and in person before discussing payment terms . About my apartment - it has a lovely ambiance with a living room full of natural light and exposed brick walls for that true NYC experience . Furnished in a stylish and contemporary look . Overlooking the gardens , it ' s quiet and peaceful , guaranteeing a good night ' s sleep from the noisy sirens and honking horns of Manhattan . The UES is a wonderful neighborhood , my apartment is only a 5 min walk to Central Park and just a few blocks from the Museum Mile - The Met , The Guggenheim etc . Carl Shurtz Park ( an UES hidden gem on the East River ) is also nearby . With Wholefoods and plenty of wine bars / restaurants only a 2 - 3 minute walk away . Transport - well connected by the new Q subway stations on 2nd Ave as well as the 4 / 5 / 6 on Lexington Ave . Looking for a responsible mature tenant , who is after a relaxing place to stay . I ' m friendly with my neighbours , so out of respect for them , I would appreciate no parties . Apologies but this is a no smoking / no pets apartment .\",\n u\"Large furnished studio available from nov . I ' ve lived here for quiet sometime and love this apartment dearly . I am in Providence for work for a year and I can ' t afford to pay 2 rents so I ' m looking for someone who needs a place for 6 months to a year or more . The apartment is furnished and you can take it with it or if u want unfurnished I can def store my things , I signed a lease for 2 years and don ' t want to lose the apartment not my deposit . It ' s 2 blocks from train station which is great , it ' s on 94th and third right above the barking dog building ! You can email or text me . for pics I am using a phone and can ' t upload pics but I ' ll do it this week .\",\n u\"Large furnished studio available from nov . I ' ve lived here for quiet sometime and love this apartment dearly . I am in Providence right now but have some friends staying there . It ' s 2 blocks away from the 6 train on 96th . My studio is quiet large , 2nd floor of a walk up building and I love it but unfortunately i can ' t afford to pay 2 rents . I would leave the apartment as is , bed , tv , pots , pans everything . All you would need to bring is your clothes . If you have any questions please let me know . You can email or text me . Furnished if needed I can store my things if it ' s a long stay .\",\n u'Gorgeous Spacious Furnished Apt in Union Square . Near the best eateries and most major Subway lines . Brand New Stainless Steel Appliances , Pristine counters , Closets , Work Desk , Modern Furnishings with lovely Art work and a spacious Bedroom . Apartment information : . Apartment ID #: 3684 . Type : One Bedroom . Price : $ 3600 per month . Min Rental : 1 month ( s ) . Area : Union Square Downtown , New York 10003 . Address : E 15th St . ( between 1st Ave and 2nd Ave ) . Other fees : . We charge : 20 % of entire rental period . For more information contact Sofia . Why work with Lara Group ? We love what we do . We believe that our real work is the work we do with ourselves . The more conscious we become , the more we have to give to others . And that is for us real happiness ! We are a New York licensed real estate brokerage firm specializing in furnished apartment rentals in Manhattan since 2001 .',\n u'Studio apartment available for the month of Novemeber in the best neighborhood in the city . Apartment is cozy and comfortable with a pull out loveseat sofa and a queen sized temperpedic bed . Close to shops , restaurants , museums and lincoln center . 3 minute walk to the 1 , 2 , 3 , B , & C train . Available for November only . Please email with questions , including a brief explanation of who you are , and why you are looking for a place .',\n u\"This beautiful apartment is a block away from the following subways , J , Z , N , Q , N , R , and 6 . The building is gorgeous and has an elevator ! The apartment is great and has character with modern appliances . A lovely apartment in the best city in the world . Perfect for groups and families . The apartment is a gorgeous , fully furnished 1 bedroom apartment in a luxury modern apartment . The apartment has 1 bedrooms with a queen bed the bedroom , 1 sleeper sofas in the living room . This apartment comes with all the comforts of home and more : A washer and dryer , a fully supplied gourmet kitchen , dishwasher , flat panel television , cable TV , telephone , and wireless Internet service . Cookware , linens , towels , and an initial supply of soap and paper goods are provided . There are hardwood floors in the common areas , and bedroom , the kitchen is clean , nice sized area to eat / table and ceramic flooring , with stainless steel appliances , microwave , and dishwasher . The apartment is on the 11th floor of an elevator building , and the park across the street . The space is beautiful and spacious , plenty of light and a true ( good ) NYC experience . The living room is spacious and has a very solid and comfortable modern sofa bed ( sleeps two adults ). The living room has a large flat screen t . v . with cable and plenty of space for everyone to hang out . The bedroom is large and is very comfortable with a . high end mattress , closet and windows , flat screen etc . The bathroom has a full bath / shower and is clean . All linens , towels , cooking / eating utensils , utilities , WiFi are all included . I can even have maid service if you like to take care of linens while you stay . Basically just bring your bags and get ready to enjoy the city . This apartment provides most importantly a true New York city experience , not a white - washed experienced you ' d get in Mid - town . The location is fantastic . I can ' t stress the location enough , if you ' re vacationing you don ' t want to waste time just getting to the subway or taking a cab to get you somewhere , you want to simply walk out of the building and be in the heart of NYC . The subway is literally a stone ' s throw away . To say the least this is a gem of a place in the midtown west . a . I may be flexible for arrival or departure times however must be coordinated prior to arrival . You ' ll have access to the entire apartment . I won ' t be there so its for you and your group only . A vibrant and incredible neighborhood neighboring downtown , and many other well known neighborhoods . Everything is close by and easily accessible .\",\n u\"Huge ( 11 . 5ft x 13 . 5ft ) fully furnished bedroom , with a private bath and private balcony , available November 1st in a spacious , natural - light - soaked ( with southern exposure ) apartment in Rose Hill ( between Murray Hill and Gramercy ). We are on the 10th floor ( penthouse ) of an elevator building with laundry in the basement . The room comes with a full - sized bed , nightstand , dresser , armoire and a book shelf . Your private bath is spacious and the water pressure is terrific . The kitchen and living area is shared . You will be sharing with a very friendly , respectful and laid back couple with a 6lb adorable yorkie ( who does not shed and is hypoallergenic ). Must be ok with dogs but do not need to take care of him . We are a 3 minute walk to the 6 train and an 8 minute walk to the B / D / F / V / N / Q / R . We are in a terrific and safe neighborhood with many nearby restaurants , grocery stores , banks , stores , taxis , bus stops and bars . The rent is $ 1975 a month + utilities ($ 140 ) ( which includes electric , gas , high - speed internet , wifi , cable , and once a month cleaning service ). Looking for a MINIMUM commitment of three months with the possibility of more . Please send a small bio about yourself ( career , hobbies , etc .) and a Facebook or LinkedIn link attached . Happy to answer any questions . . . Thank you and best of luck . Move - in 11 / 01 / 2017 ( must agree to initial commitment through 1 / 31 / 18 ). SINGLE OCCUPANCY ONLY - No couples . No smoking . No pets since we already have a dog . Must act fast ! Currently showing the space so please write to make an appointment . Move in cost : $ 1975 deposit + $ 1975 first month ' s rent = $ 3950 . SERIOUS INQUIRIES ONLY PLEASE !\",\n u\"This beautiful apartment is a block away from the following subways , J , Z , N , Q , N , R , and 6 . The building is gorgeous and has an elevator ! The apartment is great and has character with modern appliances . A lovely apartment in the best city in the world . Perfect for groups and families . The apartment is a gorgeous , fully furnished 1 bedroom apartment in a luxury modern apartment . The apartment has 1 bedrooms with a queen bed the bedroom , 1 sleeper sofas in the living room . This apartment comes with all the comforts of home and more : A washer and dryer , a fully supplied gourmet kitchen , dishwasher , flat panel television , cable TV , telephone , and wireless Internet service . Cookware , linens , towels , and an initial supply of soap and paper goods are provided . There are hardwood floors in the common areas , and bedroom , the kitchen is clean , nice sized area to eat / table and ceramic flooring , with stainless steel appliances , microwave , and dishwasher . The apartment is on the 11th floor of an elevator building , and the park across the street . The space is beautiful and spacious , plenty of light and a true ( good ) NYC experience . The living room is spacious and has a very solid and comfortable modern sofa bed ( sleeps two adults ). The living room has a large flat screen t . v . with cable and plenty of space for everyone to hang out . The bedroom is large and is very comfortable with a . high end mattress , closet and windows , flat screen etc . The bathroom has a full bath / shower and is clean . All linens , towels , cooking / eating utensils , utilities , WiFi are all included . I can even have maid service if you like to take care of linens while you stay . Basically just bring your bags and get ready to enjoy the city . This apartment provides most importantly a true New York city experience , not a white - washed experienced you ' d get in Mid - town . The location is fantastic . I can ' t stress the location enough , if you ' re vacationing you don ' t want to waste time just getting to the subway or taking a cab to get you somewhere , you want to simply walk out of the building and be in the heart of NYC . The subway is literally a stone ' s throw away . To say the least this is a gem of a place in the midtown west . I may be flexible for arrival or departure times however must be coordinated prior to arrival . You ' ll have access to the entire apartment . I won ' t be there so its for you and your group only . A vibrant and incredible neighborhood neighboring downtown , and many other well known neighborhoods . Everything is close by and easily accessible .\",\n u\"Huge ( 11 . 5ft x 13 . 5ft ) fully furnished bedroom , with a private bath and private balcony , available November 1st in a spacious , natural - light - soaked ( with southern exposure ) apartment in Rose Hill ( between Murray Hill and Gramercy ). We are on the 10th floor ( penthouse ) of an elevator building with laundry in the basement . The room comes with a full - sized bed , nightstand , dresser , armoire and a book shelf . Your private bath is spacious and the water pressure is terrific . The kitchen and living area is shared . You will be sharing with a very friendly , respectful and laid back couple with a 6lb adorable yorkie ( who does not shed and is hypoallergenic ). Must be ok with dogs but do not need to take care of him . We are a 3 minute walk to the 6 train and an 8 minute walk to the B / D / F / V / N / Q / R . We are in a terrific and safe neighborhood with many nearby restaurants , grocery stores , banks , stores , taxis , bus stops and bars . The rent is $ 1975 a month + utilities ($ 140 ) ( which includes electric , gas , high - speed internet , wifi , cable , and once a month cleaning service ). Looking for a MINIMUM commitment of three months with the possibility of more . Please send a small bio about yourself ( career , hobbies , etc .) and a Facebook or LinkedIn link attached . Happy to answer any questions . . . Thank you and best of luck . Move - in 11 / 01 / 2017 ( must agree to initial commitment through 1 / 31 / 18 ). SINGLE OCCUPANCY ONLY - No couples . No smoking . No pets since we already have a dog . Must act fast ! Currently showing the space so please write to make an appointment . Move in cost : $ 1975 deposit + $ 1975 first month ' s rent = $ 3950 . SERIOUS INQUIRIES ONLY PLEASE !\",\n u\"Huge ( 11 . 5ft x 13 . 5ft ) fully furnished bedroom , with a private bath and private balcony , available November 1st in a spacious , natural - light - soaked ( with southern exposure ) apartment in Rose Hill ( between Murray Hill and Gramercy ). We are on the 10th floor ( penthouse ) of an elevator building with laundry in the basement . The room comes with a full - sized bed , nightstand , dresser , armoire and a book shelf . Your private bath is spacious and the water pressure is terrific . The kitchen and living area is shared . You will be sharing with a very friendly , respectful and laid back couple with a 6lb adorable yorkie ( who does not shed and is hypoallergenic ). Must be ok with dogs but do not need to take care of him . We are a 3 minute walk to the 6 train and an 8 minute walk to the B / D / F / V / N / Q / R . We are in a terrific and safe neighborhood with many nearby restaurants , grocery stores , banks , stores , taxis , bus stops and bars . The rent is $ 1975 a month + utilities ($ 140 ) ( which includes electric , gas , high - speed internet , wifi , cable , and once a month cleaning service ). Looking for a MINIMUM commitment of three months with the possibility of more . Please send a small bio about yourself ( career , hobbies , etc .) and a Facebook or LinkedIn link attached . Happy to answer any questions . . . Thank you and best of luck . Move - in 11 / 01 / 2017 ( must agree to initial commitment through 1 / 31 / 18 ). SINGLE OCCUPANCY ONLY - No couples . No smoking . No pets since we already have a dog . Must act fast ! Currently showing the space so please write to make an appointment . Move in cost : $ 1975 deposit + $ 1975 first month ' s rent = $ 3950 . SERIOUS INQUIRIES ONLY PLEASE !\",\n u\"Hi ! I ' m a producer who needs to travel to LA and I want to sublet my awesome gramercy apt for the time I am away . Doorman building , gym , club room , apt is fully furnished and I will clear out the closets . Wifi , of course . Full kitchen , living room . Apt is quiet just 3 blocks to all subways . Come by and see it for yourself .\",\n u\"Hello , . Our apt is available for sublet starting on the 1st of Dec . for 6 months .. \\u2028 it is 500 square feet and $ 3000 / month . Internet is included but not the electricity and gas . A month ' s rent deposit is required . The apt is minimally furnished : there is a full bed , 2 Ikea expedit shelving unit , kitchen table - chairs and a couch . The kitchen has also plates , glasses , cutlery , pots and pans and a microwave .. It is very comfortable for a couple . It is located on a townhouse in the middle floor . There is a commercial laundry shop just below the building and they have an excellent service . A - C - F - L trains are just a block away . . Please include an info about yourselves into your inquiries . Sorry but the building is Pet free , smoke free .. Thank you .\",\n u'Looking for a female to take care of my apartment . It is one bedroom with elevator . The female has to be clean , reliable , quiet . I am away most of the time so the person will have the apartment for herself . No party girls , please . Wi - Fi and all utilities included .',\n u\"Huge ( 11 . 5ft x 13 . 5ft ) fully furnished bedroom , with a private bath and private balcony , available November 1st in a spacious , natural - light - soaked ( with southern exposure ) apartment in Rose Hill ( between Murray Hill and Gramercy ). We are on the 10th floor ( penthouse ) of an elevator building with laundry in the basement . The room comes with a full - sized bed , nightstand , dresser , armoire and a book shelf . Your private bath is spacious and the water pressure is terrific . The kitchen and living area is shared . You will be sharing with a very friendly , respectful and laid back couple with a 6lb adorable yorkie ( who does not shed and is hypoallergenic ). Must be ok with dogs but do not need to take care of him . We are a 3 minute walk to the 6 train and an 8 minute walk to the B / D / F / V / N / Q / R . We are in a terrific and safe neighborhood with many nearby restaurants , grocery stores , banks , stores , taxis , bus stops and bars . The rent is $ 1975 a month + utilities ($ 140 ) ( which includes electric , gas , high - speed internet , wifi , cable , and once a month cleaning service ). Looking for a MINIMUM commitment of three months with the possibility of more . Please send a small bio about yourself ( career , hobbies , etc .) and a Facebook or LinkedIn link attached . Happy to answer any questions . . . Thank you and best of luck . Move - in 11 / 01 / 2017 ( must agree to initial commitment through 1 / 31 / 18 ). SINGLE OCCUPANCY ONLY - No couples . No smoking . No pets since we already have a dog . Must act fast ! Currently showing the space so please write to make an appointment . Move in cost : $ 1975 deposit + $ 1975 first month ' s rent = $ 3950 . SERIOUS INQUIRIES ONLY PLEASE !\",\n u\"Unfurnished room in flex - 2 bedroom apartment on the 20th floor of a luxury apartment building for 10 months ' stay ( through August 14th ). Preferred move - in date is between November 5th - 15th . Pro rated rent will be charged . I am putting up my room in my apartment up for sublease because I am moving out of NYC . I can vouch that my current roommate ( the one you ' d be living with ) is an absolute delight to live with - cleans every Friday , rarely cooks , never brings the party home , and always studying or working . AMENITIES : . - washer and dryer in unit . - luxury gym in the building . - 20th floor views of midtown manhattan . - 10 minute to Central Park / Columbus Circle . - within 2 block radius of CVS , multiple grocery stores , liquor store . - floor to ceiling windows . - indoor and outdoor pool in the building . - amazing game / study lounge in the building . - modern kitchen appliances . ABOUT YOU : preferably young professional or graduate student . RENTAL REQUIREMENTS : . 1 months rent for security deposit + 1st month ' s rent to lock in the apartment . Credit score and pay stub or W2 needed to demonstrate ability to make 40x your portion of the rent . Guarantors are okay but must be able to afford 80x the monthly rent .\",\n u\"Huge ( 11 . 5ft x 13 . 5ft ) fully furnished bedroom , with a private bath and private balcony , available November 1st in a spacious , natural - light - soaked ( with southern exposure ) apartment in Rose Hill ( between Murray Hill and Gramercy ). We are on the 10th floor ( penthouse ) of an elevator building with laundry in the basement . The room comes with a full - sized bed , nightstand , dresser , armoire and a book shelf . Your private bath is spacious and the water pressure is terrific . The kitchen and living area is shared . You will be sharing with a very friendly , respectful and laid back couple with a 6lb adorable yorkie ( who does not shed and is hypoallergenic ). Must be ok with dogs but do not need to take care of him . We are a 3 minute walk to the 6 train and an 8 minute walk to the B / D / F / V / N / Q / R . We are in a terrific and safe neighborhood with many nearby restaurants , grocery stores , banks , stores , taxis , bus stops and bars . The rent is $ 1975 a month + utilities ($ 140 ) ( which includes electric , gas , high - speed internet , wifi , cable , and once a month cleaning service ). Looking for a MINIMUM commitment of three months with the possibility of more . Please send a small bio about yourself ( career , hobbies , etc .) and a Facebook or LinkedIn link attached . Happy to answer any questions . . . Thank you and best of luck . Move - in 11 / 01 / 2017 ( must agree to initial commitment through 1 / 31 / 18 ). SINGLE OCCUPANCY ONLY - No couples . No smoking . No pets since we already have a dog . Must act fast ! Currently showing the space so please write to make an appointment . Move in cost : $ 1975 deposit + $ 1975 first month ' s rent = $ 3950 . SERIOUS INQUIRIES ONLY PLEASE !\",\n u\"This beautiful apartment is a block away from the following subways , J , Z , N , Q , N , R , and 6 . The building is gorgeous and has an elevator ! The apartment is great and has character with modern appliances . A lovely apartment in the best city in the world . Perfect for groups and families . The apartment is a gorgeous , fully furnished 1 bedroom apartment in a luxury modern apartment . The apartment has 1 bedrooms with a queen bed the bedroom , 1 sleeper sofas in the living room . This apartment comes with all the comforts of home and more : A washer and dryer , a fully supplied gourmet kitchen , dishwasher , flat panel television , cable TV , telephone , and wireless Internet service . Cookware , linens , towels , and an initial supply of soap and paper goods are provided . There are hardwood floors in the common areas , and bedroom , the kitchen is clean , nice sized area to eat / table and ceramic flooring , with stainless steel appliances , microwave , and dishwasher . The apartment is on the 11th floor of an elevator building , and the park across the street . The space is beautiful and spacious , plenty of light and a true ( good ) NYC experience . The living room is spacious and has a very solid and comfortable modern sofa bed ( sleeps two adults ). The living room has a large flat screen t . v . with cable and plenty of space for everyone to hang out . The bedroom is large and is very comfortable with a . high end mattress , closet and windows , flat screen etc . The bathroom has a full bath / shower and is clean . All linens , towels , cooking / eating utensils , utilities , WiFi are all included . I can even have maid service if you like to take care of linens while you stay . Basically just bring your bags and get ready to enjoy the city . This apartment provides most importantly a true New York city experience , not a white - washed experienced you ' d get in Mid - town . The location is fantastic . I can ' t stress the location enough , if you ' re vacationing you don ' t want to waste time just getting to the subway or taking a cab to get you somewhere , you want to simply walk out of the building and be in the heart of NYC . The subway is literally a stone ' s throw away . To say the least this is a gem of a place in the midtown west . I may be flexible for arrival or departure times however must be coordinated prior to arrival . You ' ll have access to the entire apartment . I won ' t be there so its for you and your group only . A vibrant and incredible neighborhood neighboring downtown , and many other well known neighborhoods . Everything is close by and easily accessible .\",\n u\"$ 1 , 100 . 00 Excellent Studio Sublet Studio November 8 - 20 . Available November 8 through November 20 , 2017 . Excellent studio sublet in beautiful and safe neighborhood on the upper east side of Manhattan , is available to sublet for the full period mentioned . Seeking one person , a professional , non - smoker is preferred . The studio is centrally located and completely furnished and very quiet . Has recently re - done wooden floors , includes closets , separate kitchen , separate bathroom / shower / bath with very high ceilings . Close to subways and all public transportation . The listed price includes : Fast broadband WiFi Internet , large flat screen cable TV , air conditioning , electricity , heat , gated windows . Excellent restaurants , Central Park , galleries and museums all nearby . Pictures available . The total price for the time I ' m away is $ 1 , 050 . 00 , plus a small security deposit and a reference will be needed . I ' m traveling to Europe for work and looking for a serious and reliable person . No pets . Thanks . Jack .\",\n u'Studio available in the Upper East Side . The Apartment is in a great location , two blocks from the Q Train , M86 Bus is one block away , Dining and Groceries are easily accessible . Laundry and Elevator are in the building . The unit faces east and gets great light during the day with large windows . This is a great apartment and I have enjoyed my stay in the building but will be moving in with my girlfriend in January as this is the best timing for both of us to move . Apartment can be leased furnished or unfurnished depending on your needs . Rent includes heat and water . I am available to show the apartment in the evenings , there is a security deposit required and the applicant will need to be approved by the management company . I am flexible on the move in dates and the lease is through July 31st , 2018 .',\n u'Looking to sublet my apartment for 4 months ( current lease end ). I stayed here for nearly two years and loved the place but I am relocating due to work . Can negotiate with the landlord at end of the term to sign a new lease . This is an excellent deal in the middle of Manhattan . The apartment is on the 3rd floor of a pre - war walk up and was renovated prior to my move - in . It faces south and is away from the street and is therefore extremely quiet with zero street noise . Super convenient and minutes away from the 6 train . I will be moving out all personal items but will be leaving the furniture and some essentials . Happy to discuss a take over of the furniture at the end of lease as well . Please email for additional details . Thanks for looking !',\n u\"I am subletting my Chelsea studio for two years starting December 15th or January 1st . You must commit to 2 years . The apt is unfurnished . 24 / hr doorman with laundry in the basement . Courtyard . Half a block from the 7th and 8th avenue lines . All utilities are included except for gas . This is a sublet situation that is cleared with the building manager , so no worries there . First and last month ' s rent and proof of income and 3 references are required . If interested , email me back a little about yourself and what you do for work .\",\n u\"My family and I are moving back to France and we are subletting our apartment starting Dec . 1 for 4 months ( with the possibility to sign a new lease on Apr . 1 ). It ' s a nice bright 2 bedroom 2 bathroom located in the Upper West Side ( 96th and Riverside ), 6th floor , in a doorman building ( gym , children ' s playroom , rooftop etc .) Email me for more details and photos . Rent can be discussed for the sublease period ( Dec 1 to March 31 ), .\",\n u'Feel the History of New York in this studio apartment adjacent to the 100 year old 59th Street Bridge . Hardwood floors , lots of light , new furniture , and more . Beautiful outdoor sitting area in courtyard . Great restaurants , shopping , nightlife , and subways just out the door . Walk - up - 3rd floor . Type : One Bedrooms . Price : $ 3500 per month + broker fee ( 20 %) . Min Rental : 1 month ( s ) . Area : Midtown East , New York 10022 . Address : E 60th St ( between 2nd Ave and 1st Ave ) . Utility package : $ 225 . 00 Not Included per month . We charge : 20 % of entire rental period . For more information contact Sofia . Why work with Lara Group ? We love what we do . We believe that our real work is the work we do with ourselves . The more conscious we become , the more we have to give to others . And that is for us real happiness ! We are a New York licensed real estate brokerage firm specializing in furnished apartment rentals in Manhattan since 2001 .',\n u\"Hey ! Super cute doorman building with gym right on 22 and 3rd avenue . My apt is fully furnished with a lofted bed and living room with TV and a balcony . Quiet space . Clean . Cozy . I ' m a TV producer and am in LA 11 / 20 - 1 / 20 and would love someone to sublet in between that period . Thanks .\",\n u'This large studio with a fully updated kitchen is home to stainless steel appliances and a gas stove for all of your culinary needs . Sit down for your meals at the table located right in your very own kitchen . The living room hosts a queen size sleeper sofa and love seat accented by cozy area rug . Flat screen cable TV and free Wi - Fi are included . Open the lovely French doors to access the bedroom , where Taylor Made FA branded green accents brighten up the room . The Queen size bed comfortably sleeps 2 adults for a good night sleep after a long day of working or living the New York life . A large chest of drawers and vanity as well as two side tables are perfect for storing all of your essentials . You can see a spectacular city view and East River view from the bedroom window . We charge : 20 % of entire rental period . Security deposit : 1 month rent . TO SCHEDULE AN APPOINTMENT PLEASE CONTACT SOFIA TODAY : . Why work with Lara Group ? We love what we do . We believe that our real work is the work we do with ourselves . The more conscious we become , the more we have to give to others . And that is for us real happiness ! We are a New York licensed real estate brokerage firm specializing in furnished apartment rentals in Manhattan since 2001 .',\n u'Gorgeous Brand New Furnished apt . Near the United Nations and most major Subway lines . Brand New Stainless Steel Appliances , Pristine counters , Closets , Work Desk , Modern Furnishings with lovely Art work . Apartment ID #: 3F . Type : One Bedroom . Price : $ 4500 plus broker fee / month . We charge : 20 % of entire rental period . Min Rental : 1 month ( s ) . Area : Midtown East , New York 10022 . Address : E 51st St . ( between 1st Ave and 2nd Ave ) . For more information contact Sofia : . Why work with Lara Group ? We love what we do . We believe that our real work is the work we do with ourselves . The more conscious we become , the more we have to give to others . And that is for us real happiness ! We are a New York licensed real estate brokerage firm specializing in furnished apartment rentals in Manhattan since 2001 .',\n u'This amazing furnished studio has been conceived by an Italian design team who has specified all the best materials , finishes and furnishings . The apartment features : Durmast oak floors , Boffi kitchens , Sub - Zero refrigerators , Delonghi appliances . Top of the line bathroom fixtures DVD Player . Private Balcony / Terrace / Patio Wireless Internet Access . Audio System Full size bed . Stainless Steel Appliances Flat Screen TV . Double - pane Windows Central Air / Heating System . Hard Wood Floors Microwave . Toaster Tea Kettle . Bed Linens and Towels Shower . Glass Sliding Doors High Ceilings . Floor to Ceiling Windows City Views . Dishwasher Internet Access . We charge 20 % of entire rental period , depending of the length of your stay . For more information contact Sofia : . We love what we do . We believe that our real work is the work we do with ourselves . The more conscious we become , the more we have to give to others . And that is for us real happiness ! We are a New York licensed real estate brokerage firm specialized in furnished apartment rentals in Manhattan since 2001 .',\n u'Hi everyone , I am looking for a roommate for my apartment in the heart of the Upper East Side on 87th street . This is a nicely decorated 2 BR duplex with a private backyard and exposed brick wall in the living room . My roomie will have a private furnished bedroom with a separate access to the backyard and private bathroom . I am occupying the upper floor . Living - room and kitchen are shared . The building is located close to the East River and there is a park right across the street . Transportation : there is an 86th street 2nd avenue ( Q ) station 2 blocks away , approximately 7 min walk . 4 , 5 , 6 , trains are 4 blocks away . The place is available starting November 1st ( move - in date is flexible ) and there is an opportunity to sign the lease anytime ! We can also do a 1 - month sublease starting November 1st while I am looking for a permanent roommate , so the length of stay is negotiable . A little bit about myself : I am in my 20s working in Data Science and living an active life in NY . I am barely at home during the week days and travel a lot during the weekends . I have no particular requirements for my future roommate , just want to share space with someone kind and respectful :) . I am open to meet and show you the place or discuss more over the phone . Julia .',\n u'Furnished studio with high end furnishings and antiques . Extra large studio with super high ceilings . 2 - 3 blocks to major transportation : 4 / 5 / 6 or N / R . Elevator . On third floor overlooking treetops . Separate windowed kitchen . Must be quiet and extremely clean . Rent is $ 2 , 750 / mo which includes all utilities and cable ( WIFI ). Available starting January 2nd on a month to month basis . Security deposit required .',\n u\"This beautiful apartment is a block away from the following subways , J , Z , N , Q , N , R , and 6 . The building is gorgeous and has an elevator ! The apartment is great and has character with modern appliances . A lovely apartment in the best city in the world . Perfect for groups and families . The apartment is a gorgeous , fully furnished 1 bedroom apartment in a luxury modern apartment . The apartment has 1 bedrooms with a queen bed the bedroom , 1 sleeper sofas in the living room . This apartment comes with all the comforts of home and more : A washer and dryer , a fully supplied gourmet kitchen , dishwasher , flat panel television , cable TV , telephone , and wireless Internet service . Cookware , linens , towels , and an initial supply of soap and paper goods are provided . There are hardwood floors in the common areas , and bedroom , the kitchen is clean , nice sized area to eat / table and ceramic flooring , with stainless steel appliances , microwave , and dishwasher . The apartment is on the 11th floor of an elevator building , and the park across the street . The space is beautiful and spacious , plenty of light and a true ( good ) NYC experience . The living room is spacious and has a very solid and comfortable modern sofa bed ( sleeps two adults ). The living room has a large flat screen t . v . with cable and plenty of space for everyone to hang out . The bedroom is large and is very comfortable with a . high end mattress , closet and windows , flat screen etc . The bathroom has a full bath / shower and is clean . All linens , towels , cooking / eating utensils , utilities , WiFi are all included . I can even have maid service if you like to take care of linens while you stay . Basically just bring your bags and get ready to enjoy the city . This apartment provides most importantly a true New York city experience , not a white - washed experienced you ' d get in Mid - town . The location is fantastic . I can ' t stress the location enough , if you ' re vacationing you don ' t want to waste time just getting to the subway or taking a cab to get you somewhere , you want to simply walk out of the building and be in the heart of NYC . The subway is literally a stone ' s throw away . To say the least this is a gem of a place in the midtown west . I may be flexible for arrival or departure times however must be coordinated prior to arrival . You ' ll have access to the entire apartment . I won ' t be there so its for you and your group only . A vibrant and incredible neighborhood neighboring downtown , and many other well known neighborhoods . Everything is close by and easily accessible .\",\n u\"Available November 8 through November 19 , 2017 . Excellent studio sublet in beautiful and safe neighborhood on the upper east side of Manhattan , is available to sublet for the full period mentioned . Seeking one person , a professional , non - smoker is preferred . The studio is centrally located and completely furnished and very quiet . Has recently re - done wooden floors , includes closets , separate kitchen , separate bathroom / shower / bath with very high ceilings . Close to subways and all public transportation . The listed price includes : Fast broadband WiFi Internet , large flat screen cable TV , air conditioning , electricity , heat , gated windows . Excellent restaurants , Central Park , galleries and museums all nearby . Pictures available . The total price for the time I ' m away is $ 1 , 000 . 00 , plus a small security deposit and a reference will be needed . I ' m traveling to Europe for work and looking for a serious and reliable person . No pets . Thanks . Jack .\",\n u\"This beautiful apartment is a block away from the following subways , J , Z , N , Q , N , R , and 6 . The building is gorgeous and has an elevator ! The apartment is great and has character with modern appliances . A lovely apartment in the best city in the world . Perfect for groups and families . The apartment is a gorgeous , fully furnished 1 bedroom apartment in a luxury modern apartment . The apartment has 1 bedrooms with a queen bed the bedroom , 1 sleeper sofas in the living room . This apartment comes with all the comforts of home and more : A washer and dryer , a fully supplied gourmet kitchen , dishwasher , flat panel television , cable TV , telephone , and wireless Internet service . Cookware , linens , towels , and an initial supply of soap and paper goods are provided . There are hardwood floors in the common areas , and bedroom , the kitchen is clean , nice sized area to eat / table and ceramic flooring , with stainless steel appliances , microwave , and dishwasher . The apartment is on the 11th floor of an elevator building , and the park across the street . The space is beautiful and spacious , plenty of light and a true ( good ) NYC experience . The living room is spacious and has a very solid and comfortable modern sofa bed ( sleeps two adults ). The living room has a large flat screen t . v . with cable and plenty of space for everyone to hang out . The bedroom is large and is very comfortable with a . high end mattress , closet and windows , flat screen etc . The bathroom has a full bath / shower and is clean . All linens , towels , cooking / eating utensils , utilities , WiFi are all included . I can even have maid service if you like to take care of linens while you stay . Basically just bring your bags and get ready to enjoy the city . This apartment provides most importantly a true New York city experience , not a white - washed experienced you ' d get in Mid - town . The location is fantastic . I can ' t stress the location enough , if you ' re vacationing you don ' t want to waste time just getting to the subway or taking a cab to get you somewhere , you want to simply walk out of the building and be in the heart of NYC . The subway is literally a stone ' s throw away . To say the least this is a gem of a place in the midtown west . I may be flexible for arrival or departure times however must be coordinated prior to arrival . You ' ll have access to the entire apartment . I won ' t be there so its for you and your group only . A vibrant and incredible neighborhood neighboring downtown , and many other well known neighborhoods . Everything is close by and easily accessible .\",\n u'Gorgeous Brand New Furnished apt . Near the United Nations and most major Subway lines . Brand New Stainless Steel Appliances , Pristine counters , Closets , Work Desk , Modern Furnishings with lovely Art work . Apartment ID #: 4R . Type : One Bedroom . Price : $ 4600 plus broker fee per month . We charge : 20 % of entire rental period . Min Rental : 1 month ( s ) . Area : Midtown East , New York 10022 . Address : E 51st St . ( between 1st Ave and 2nd Ave ) . For more information contact Sofia : . Why work with Lara Group ? We love what we do . We believe that our real work is the work we do with ourselves . The more conscious we become , the more we have to give to others . And that is for us real happiness ! We are a New York licensed real estate brokerage firm specializing in furnished apartment rentals in Manhattan since 2001 .',\n u'UES area - furnished 1 BR - Walk Up . ID # 4B . Address E 67th Street . Between Park Ave . and Madison Ave . Neighborhood Upper East , New York . Type of Apartment One Bedroom . Building Type Walk Up / Post War . Pets Not Allowed . RENT INFORMATION . Availability : 12 / 2 / 17 . Monthly Rent $ 3 , 600 . Minimum Rental Period 1 Month . Utilities Included Electricity , Cable TV , WIFI . Commission 20 % of the total rental period . For more information , PLEASE CONTACT REGINA . It is our mission to make sure that our clients are happy throughout their entire stay in their new apartment whether it is temporary or long term . We make ourselves available to help our clients with any issues that may arise during their stay . Additionally , over the last 13 years , we have carefully chosen to work only with those landlords , owners , and management companies who have consistently treated our clients with respect and care . Extended Stay here in NYC contact us for more information . Hope to help you find your NYC Housing Choice .',\n u\"Hi everyone .. I ' m just looking to get the feelers out there . I ' m a single guy living in a one bedroom apartment on 2nd Avenue between 39th and 39th streets . I renewed my lease August 1st of this year , and this current lease will expire on July 30th , 2018 . I ' ve had some personal things come up and I need to move back to New Jersey . My landlord will not allow me to break my lease without finding someone to take the lease over . The apartment has a great living room with windows facing 2nd Avenue , a small but better than most kitchen ( plenty of cabinets ), an above average sized bedroom , and a full bathroom . It ' s been great to me , and is very convenient to the subway ( Grand Central is a 7 minute walk ). There ' s also a citi bike station a half block away . Just let me know if you ' re interested in taking it over at any point . This is a continuous post as I ' m hoping to be out sometime before the end of the year . Also , I ' m posting this at my office without pictures so if you ' re by any chance interested , just let me know and I ' ll DM you a few photos .\",\n u'Hello , . I ( male , 25 , working in economic research ) am renting out a bedroom with a private half bath . It is a true 2 - bedroom apartment with 1 . 5 bath , kitchen , and living room . We would be sharing the shower in the second bathroom , which is in the hallway between my bedroom and the kitchen . Your room will fit a full size bed , nightstand , and even a desk . You won \\xb4 t need a closet because it already has 2 big walk - in closets . The bedrooms are on the opposite side of the apartment , which means extra privacy . Your room will be facing the backyard , which makes it super quiet at night . Perfect location for everyone . The Q train ( runs every 4 minutes ) is right outside the building and takes you to Times Square in 10 minutes and Union Square in 15 . The 6 train is 2 Avenues ( a 5 - minute walk ) away and takes you to Grand Central Station in 15 minutes or even less if you want to transfer to the express 4 / 5 on 86th street . Subway , McDonalds , Starbucks , Chase , Key Food , Whole Foods , 7eleven , UPS store , USPS , gym , hardware store , flower shop , restaurants , bars , Pizza , liquor store , laundromat , and so much more all within 3 blocks ! Central Park is just a few blocks away , too . The rent will be $ 1750 . Utilities : electricity , gas , cable TV & Netflix in the living room , and high speed wifi . Utilities usually are around $ 180 a month and will be split 50 : 50 . Just shoot me a message if you \\xb4 re interested . Available November 20th . Minimum stay has to be at least 5 months due to my landlord \\xb4 s regulations . First month plus 1 - month security deposit to move in . Internationals welcome ! The apartment is on 94th and 2nd Ave on the Upper East Side in a neighborhood called Yorkville . Yorkville is a safe , family oriented neighborhood that has a small neighborhood feel . It was actually rated to be Manhattan \\xb4 s hottest neighborhood in 2017 ! Looking forward to meet you ! Please include a Facebook link when emailing me , so I can already get a picture to the person :) Thank you .',\n u\"This beautiful apartment is a block away from the following subways , J , Z , N , Q , N , R , and 6 . The building is gorgeous and has an elevator ! The apartment is great and has character with modern appliances . A lovely apartment in the best city in the world . Perfect for groups and families . The apartment is a gorgeous , fully furnished 1 bedroom apartment in a luxury modern apartment . The apartment has 1 bedrooms with a queen bed the bedroom , 1 sleeper sofas in the living room . This apartment comes with all the comforts of home and more : A washer and dryer , a fully supplied gourmet kitchen , dishwasher , flat panel television , cable TV , telephone , and wireless Internet service . Cookware , linens , towels , and an initial supply of soap and paper goods are provided . There are hardwood floors in the common areas , and bedroom , the kitchen is clean , nice sized area to eat / table and ceramic flooring , with stainless steel appliances , microwave , and dishwasher . The apartment is on the 11th floor of an elevator building , and the park across the street . The space is beautiful and spacious , plenty of light and a true ( good ) NYC experience . The living room is spacious and has a very solid and comfortable modern sofa bed ( sleeps two adults ). The living room has a large flat screen t . v . with cable and plenty of space for everyone to hang out . The bedroom is large and is very comfortable with a . high end mattress , closet and windows , flat screen etc . The bathroom has a full bath / shower and is clean . All linens , towels , cooking / eating utensils , utilities , WiFi are all included . I can even have maid service if you like to take care of linens while you stay . Basically just bring your bags and get ready to enjoy the city . This apartment provides most importantly a true New York city experience , not a white - washed experienced you ' d get in Mid - town . The location is fantastic . I can ' t stress the location enough , if you ' re vacationing you don ' t want to waste time just getting to the subway or taking a cab to get you somewhere , you want to simply walk out of the building and be in the heart of NYC . The subway is literally a stone ' s throw away . To say the least this is a gem of a place in the midtown west . a . I may be flexible for arrival or departure times however must be coordinated prior to arrival . You ' ll have access to the entire apartment . I won ' t be there so its for you and your group only . A vibrant and incredible neighborhood neighboring downtown , and many other well known neighborhoods . Everything is close by and easily accessible .\",\n u\"This beautiful apartment is a block away from the following subways , J , Z , N , Q , N , R , and 6 . The building is gorgeous and has an elevator ! The apartment is great and has character with modern appliances . A lovely apartment in the best city in the world . Perfect for groups and families . The apartment is a gorgeous , fully furnished 1 bedroom apartment in a luxury modern apartment . The apartment has 1 bedrooms with a queen bed the bedroom , 1 sleeper sofas in the living room . This apartment comes with all the comforts of home and more : A washer and dryer , a fully supplied gourmet kitchen , dishwasher , flat panel television , cable TV , telephone , and wireless Internet service . Cookware , linens , towels , and an initial supply of soap and paper goods are provided . There are hardwood floors in the common areas , and bedroom , the kitchen is clean , nice sized area to eat / table and ceramic flooring , with stainless steel appliances , microwave , and dishwasher . The apartment is on the 11th floor of an elevator building , and the park across the street . The space is beautiful and spacious , plenty of light and a true ( good ) NYC experience . The living room is spacious and has a very solid and comfortable modern sofa bed ( sleeps two adults ). The living room has a large flat screen t . v . with cable and plenty of space for everyone to hang out . The bedroom is large and is very comfortable with a . high end mattress , closet and windows , flat screen etc . The bathroom has a full bath / shower and is clean . All linens , towels , cooking / eating utensils , utilities , WiFi are all included . I can even have maid service if you like to take care of linens while you stay . Basically just bring your bags and get ready to enjoy the city . This apartment provides most importantly a true New York city experience , not a white - washed experienced you ' d get in Mid - town . The location is fantastic . I can ' t stress the location enough , if you ' re vacationing you don ' t want to waste time just getting to the subway or taking a cab to get you somewhere , you want to simply walk out of the building and be in the heart of NYC . The subway is literally a stone ' s throw away . To say the least this is a gem of a place in the midtown west . a . I may be flexible for arrival or departure times however must be coordinated prior to arrival . You ' ll have access to the entire apartment . I won ' t be there so its for you and your group only . A vibrant and incredible neighborhood neighboring downtown , and many other well known neighborhoods . Everything is close by and easily accessible . Reply With Your Full Name : . Your Direct Email : . Phone Number : . Check in and Checkout Date : . Your direct email : .\",\n u\"This beautiful apartment is a block away from the following subways , J , Z , N , Q , N , R , and 6 . The building is gorgeous and has an elevator ! The apartment is great and has character with modern appliances . A lovely apartment in the best city in the world . Perfect for groups and families . The apartment is a gorgeous , fully furnished 1 bedroom apartment in a luxury modern apartment . The apartment has 1 bedrooms with a queen bed the bedroom , 1 sleeper sofas in the living room . This apartment comes with all the comforts of home and more : A washer and dryer , a fully supplied gourmet kitchen , dishwasher , flat panel television , cable TV , telephone , and wireless Internet service . Cookware , linens , towels , and an initial supply of soap and paper goods are provided . There are hardwood floors in the common areas , and bedroom , the kitchen is clean , nice sized area to eat / table and ceramic flooring , with stainless steel appliances , microwave , and dishwasher . The apartment is on the 11th floor of an elevator building , and the park across the street . The space is beautiful and spacious , plenty of light and a true ( good ) NYC experience . The living room is spacious and has a very solid and comfortable modern sofa bed ( sleeps two adults ). The living room has a large flat screen t . v . with cable and plenty of space for everyone to hang out . The bedroom is large and is very comfortable with a . high end mattress , closet and windows , flat screen etc . The bathroom has a full bath / shower and is clean . All linens , towels , cooking / eating utensils , utilities , WiFi are all included . I can even have maid service if you like to take care of linens while you stay . Basically just bring your bags and get ready to enjoy the city . This apartment provides most importantly a true New York city experience , not a white - washed experienced you ' d get in Mid - town . The location is fantastic . I can ' t stress the location enough , if you ' re vacationing you don ' t want to waste time just getting to the subway or taking a cab to get you somewhere , you want to simply walk out of the building and be in the heart of NYC . The subway is literally a stone ' s throw away . To say the least this is a gem of a place in the midtown west . a . I may be flexible for arrival or departure times however must be coordinated prior to arrival . You ' ll have access to the entire apartment . I won ' t be there so its for you and your group only . A vibrant and incredible neighborhood neighboring downtown , and many other well known neighborhoods . Everything is close by and easily accessible .\",\n u\"Available November 8 through November 19 , 2017 . Excellent studio sublet in beautiful and safe neighborhood on the upper east side of Manhattan , is available to sublet for the full period mentioned . Seeking one person , a professional , non - smoker is preferred . The studio is centrally located and completely furnished and very quiet . Has recently re - done wooden floors , includes closets , separate kitchen , separate bathroom / shower / bath with very high ceilings . Close to subways and all public transportation . The listed price includes : Fast broadband WiFi Internet , large flat screen cable TV , air conditioning , electricity , heat , gated windows . Excellent restaurants , Central Park , galleries and museums all nearby . Pictures available . The total price for the time I ' m away is $ 1 , 100 . 00 , plus a small security deposit and a reference will be needed . I ' m traveling to Europe for work and looking for a serious and reliable person . No pets . Thanks . Jack .\",\n u\"Available November 8 through November 19 , 2017 . Excellent studio sublet in beautiful and safe neighborhood on the upper east side of Manhattan , is available to sublet for the full period mentioned . Seeking one person , a professional , non - smoker is preferred . The studio is centrally located and completely furnished and very quiet . Has recently re - done wooden floors , includes closets , separate kitchen , separate bathroom / shower / bath with very high ceilings . Close to subways and all public transportation . The listed price includes : Fast broadband WiFi Internet , large flat screen cable TV , air conditioning , electricity , heat , gated windows . Excellent restaurants , Central Park , galleries and museums all nearby . Pictures available . The total price for the time I ' m away is $ 1 , 100 . 00 , plus a small security deposit and a reference will be needed . I ' m traveling to Europe for work and looking for a serious and reliable person . No pets . Thanks . Jack .\",\n u\"I have to relocate for a new job within the next week and therefore am subletting my room . I live with two other females in their late twenties who are professionals and are extremely easy to get along with . Apartment is in a luxury / doorman building on the UES . You will have your own room and private bathroom . Furniture is included if you ' d like . E - mail me for more details . No males .\",\n u'Hi everyone , I am looking for a roommate for my duplex apartment in the heart of Upper East Side on 87th street . This is a duplex apartment with a private backyard , brick wall and it is nicely decorated . My roomie will have a private furnished bedroom with a separate access to the backyard and private bathroom . I am occupying the upper floor . Living - room and kitchen are shared . The building is located close to the East River and there is a park right across the street . Transportation : there is an 86th street 2nd avenue ( Q ) station 2 blocks away , approximately 7 min walk . 4 , 5 , 6 , trains are 4 blocks away . The place is available starting November 1st ( move - in date is flexible ) and there is an opportunity to sign the lease anytime ! We can also do a 1 - month sublease starting November 1st while I am looking for a permanent roommate , so the length of stay is negotiable . A little bit about myself : I am in my 20s working in Data Science and living an active life in NY . I am barely at home during the week days and travel a lot during the weekends . I have no particular requirements for my future roommate , just want to share space with someone kind and respectful :) . I am open to meet and show you the place or discuss more over the phone . Julia .',\n u'Hi everyone , I am looking for a roommate for my duplex apartment in the heart of Upper East Side on 87th street . This is a duplex apartment with a private backyard , brick wall and it is nicely decorated . My roomie will have a private furnished bedroom with a separate access to the backyard and private bathroom . I am occupying the upper floor . Living - room and kitchen are shared . The building is located close to the East River and there is a beautiful little park right across the street . Transportation : there is an 86th street 2nd avenue ( Q ) station 2 blocks away , approximately 7 min walk . 4 , 5 , 6 , trains are 4 blocks away . The place is available starting November 1st ( move - in date is flexible ) and there is an opportunity to sign the lease anytime ! We can also do a 1 - month sublease starting November 1st while I am looking for a permanent roommate , so the length of stay is negotiable . A little bit about myself : I am in my 20s working in Data Science and living an active life in NY . I am barely at home during the week days and travel a lot during the weekends . I have no particular requirements for my future roommate , just want to share space with someone kind and respectful :) I am open to meet or discuss more over the phone . Looking forward to chat . Julia .',\n u'Furnished studio with high end furnishings and antiques . Extra large studio with super high ceilings . 2 - 3 blocks to major transportation : 4 / 5 / 6 or N / R . Elevator . On third floor overlooking treetops . Separate windowed kitchen . Must be quiet and extremely clean . Rent is $ 2 , 750 / mo which includes all utilities and cable ( WIFI ). Available starting January 2nd on a month to month basis . Also available mid Nov through December 22 , 2017 . Security deposit required .',\n u\"Bright and Spacious apartment to rent in the city center . The Double Bedroom : . It is a bright and spacious room , 15m2 , furnished with a comfortable double bed , 2 bed - tables , a large wardrobe , a chest of drawers and possibly a desk . The Apartment : . The total size of the apartment is of 100m2 . Composed by a comfy living room ; bathroom with bath tubs ; luminous equipped kitchen , veranda with fully furnished bedrooms . Rooms ' Value includes Bills : . City gas + Electric + Water + Tv Cable + WiFi Fibre Optic speed internet + free land line calls , ONLY from 21h to 9h am , call to land lines in 30 countries ( Germany , Andorra , Australia , Austria , Belgium , Canada , Chile , China ( except Macau & Hong Kong ), Croatia , Denmark , Spain , EUA , France , Greece , Holland , Hungary , Ireland , Italy , Japan , Luxemburg , Norway , Peru , Poland , UK , South Africa , Czech Republic , Slovak Republic , Sweden , Switzerland , Venezuela . ) . About me : . I ' m a very cool man and easy going . I m outgoing , I love people , yoga , music , travel & good home - made food . I travel a lot for work while having plenty of fun too ... the nature of my job !\"]"
      ]
     },
     "execution_count": 152,
     "metadata": {},
     "output_type": "execute_result"
    }
   ],
   "source": [
    "[' '.join(crtest_inmem[i]) for i in [i for c,i in np.ndenumerate(np.where(grid_svm.decision_function(crtest_inmem) > 0.0))] if i < len(crsub_inmem)]"
   ]
  },
  {
   "cell_type": "code",
   "execution_count": 153,
   "metadata": {
    "autoscroll": false,
    "collapsed": false,
    "ein.tags": "worksheet-0",
    "slideshow": {
     "slide_type": "-"
    }
   },
   "outputs": [
    {
     "data": {
      "text/plain": [
       "[u'Hello everyone , I subrent my flat during a month from end of November in UWS , till beginning of January . It is a colocation of 3 people at 30 min from center of manhattan with subway 1 , 2 , 3 , B , C . The price is 1050 dollars with Netflix access included . Don \\u2019 t hesitate to contact me ! Thanks !',\n u'Looking to find someone to take over my rent stabilized lease as I am moving to NJ at the end of December . I have confirmed with the building management that the rent will only go up $ 50 to $ 2 , 750 when the lease is signed . Lease start date would be January 1 . This is a beautiful doorman building , 1 min walk to the 7 / N / W and 5 min walk to the E / R / M / F trains . Apartment has a balcony in the living room , dishwasher , new appliances , high ceilings , and overall spacious . The building has a gym , roof deck with grill , and backyard / patio area . Some pictures below , please message if interested !',\n u\"Hello New Yorkers ! I ' m looking for someone to take over my lease starting in January 2018 , start date can be flexible upon discussion The rent is $ 2400 / month , gas & electricity included , and it ' s 450 sq ft . with two big closets ! It has 24 hours doorman and laundry services in the building . Extremely convenient location , it ' s at 45th st and 8th ave . 1 min walk to subway A C E , and 5 mins walk to subway NQR123 . \\u2600\\ufe0f Plenty of natural sunlight in the apartment . The apartment is on 8th floor , and it ' s very quiet since it ' s not facing the street . Steps to Times Square \\uff1b Bryant Park ; Central Park \\uff1b. Plenty great restaurants and bars around ! Please send me a message if you or someone you know are interested ! Deeply appreciated !\",\n u'Our lease is ending in this lovely , mezzanine - level one bedroom in Stuyvesant town ! The apartment is modern and spacious , with every amenity you could dream of close at hand . Contact me for any further information !',\n u\"Due to a growing family ( ie . I ' m knocked up ) we are leaving our amazing UES apt ! Amazing open - concept 1 bedroom , 1 . 5 bath two - story apartment in Upper East Side with private rooftop access and balcony . Outdoor space and high ceilings make this apt unique and spacious ! AVAILABLE LATE NOV OR DEC 1ST Recently renovated with all modern updates . Kitchen , living room area and full bathroom are located on the first floor of the apartment . Walk upstairs to the second floor where you ' ll find a large master bedroom area with bathroom and access to outdoor rooftop space and private balcony , perfect for gardening or a BBQ . Pet FRIENDLY ! Features include : . \\u2022 In - unit washer and dryer . \\u2022 Stainless steel dishwasher . \\u2022 Stainless steel refrigerator . \\u2022 Gas stove and oven . \\u2022 Beautiful hardwood floors . \\u2022 High - ceilings . \\u2022 Plenty of storage . \\u2022 Air - conditioning units on both floors . \\u2022 Pet friendly building Located on a quiet street four blocks from the 4 , 5 , 6 subway line and close to bus lines . Three blocks away from Central Park . Great neighborhood with plenty of stores , gyms , bars and restaurants including Whole Foods , Gristedes , Duane Reade , Starbucks , Panera , Le Pain Quotidian , Two Door Tavern , Naruto Ramen , and lots more .\",\n u'We need one last roommate to join or 3br / 1 . 5 ba brand new luxury apartment for Nov 1st move in . The unit is located on the first floor with its own patio ; the building comes with great amenities : full equipped gym , ample machines in laundry room and hotel like rooftop ! All of the rooms are equal sized , unfurnished with large windows and medium size closet . You will be living me and another professional female , both in mid twenties , both have a 9 - 5 job . It is one block to the M and couple blocks away from the L . No couples and no pets . Please message if interested , can hook you up with the agent and view the room asap :). Thanks - Helen .',\n u'Room available in Upper West Side Artisan space : Looking for a new roommate to sublet the spare room in our 3 bedroom apartment on the Upper West Side . Nov . 1st move in . 3 blocks from 96th St . 2 - 3 express and 1 local trains . 4 blocks from the B and C local trains at 96th St . Whole foods , West Side and other grocery stores within short walking distance . Riverside and Central Parks easily accessible on foot or bike as well ! Looking for month to month , but the conversation is open to further stays . Message me for further inquires .',\n u'We currently live in a spacious one bedroom ( 670 sqft ) in a luxury building , way below market rate , we absolutely love the place but as our family is expanding and we need a bigger space ... the building is on UES , no broker fee , rent is $ 2815 and that would include access to the pool , gym , sauna , jacuzzi , rooftop terrace , and panoramic views of east river and Manhattan skyline ... some pics below and building details . Move in date would be Nov 8th , board approval takes 2 - 3 weeks . 2 minutes to Q train , express buses . Contact us if you or anyone you know would be interested ! Tenant ( s ) must earn 40x rent and have good credit .',\n u'The apartment pictured is up for rent for the remaining 8 Months of the lease ending May 2018 . The rent is an effective rent ( current tenant providing a concession ). This is the reason the rent is significantly below market rent . Spacious studio with separate , newly remodeled kitchen , . Laundry In Basement . Great closet space with 3 deep closets , . New air conditioning unit including w / two remotes , . Big windows but good privacy , . Beautiful hardwood floors , . Guarantors accepted . Advertised rent is effective rent after concession . Requirement is 40x monthly rent in annual income or 80x rent with a guarantor .',\n u'300 Ashland : the newest addition to Fort Greene , where all the amenities and convenience of a modern building live alongside the vibrancy and culture of classic Brooklyn . These Studio , 1 Bedroom and 2 Bedroom residences were thoughtfully designed by world renowned architect , Enrique Norten . The dynamic 379 - unit luxury building connects modern residences with the Fort Greene community . Centrally located at a unique triangular intersection in the heart of the Brooklyn Cultural District , this iconic building houses luxury apartments with panoramic views , high - end finishes , and full service resident amenities atop diverse cultural programming such as BAM Cinema theaters and a branch of the Brooklyn Public Library . With 11 subway lines just steps outside your door , 300 Ashland is truly UNLIKE ANYTHING , IN THE MIDDLE OF EVERYTHING The entire 29th floor club level offers a resident lounge and 24 - hour state - of - the - art Health Club , with spectacular views in all directions . Adjacent to the amenities is an outdoor rooftop terrace designed by James Corner Field Operations , the same designers of The High Line . There you can take it all in comfortably from dedicated lounge areas , sun decks , and seating areas or grab a moment of solitude in the tranquil yoga platform . Across the street from BAM and featuring BAM Cinemas within the building itself , 300 Ashland is at the center of Fort Greenes cultural scene . A branch of the Brooklyn Public Library , a 651 ARTS dance studio , and art exhibitions by the Museum of Contemporary African Diaspora Arts , all within the building , ensure you can always find art and . inspiration just an elevator ride away . Building features include :. 24 Hour Front Desk Concierge . 24 Hour Gym with state of the art cardio equipment , free weight area , and yoga studio . Outdoor Roof Deck with lounge areas , table seating and yoga space designed by James Corner Field Operations , same designers as The High Line . Resident Lounge with panoramic views of New York City . Package Room / Valet Services with Cold Storage . Parking Garage in Building . Keyless electronic apartment access . Washer / Dryers in every unit . Bicycle Room * Rent is non - negotiable .',\n u\"Beautifully renovated one bedroom apartment in Chelsea ' s best building , The Caroline ! This West facing unit has new strip hardwood floors , abundant closet space , marble bathroom , a fully modern equipped kitchen with stainless steel appliances . The current tenant is open to leaving some or most of the existing furniture for the next incoming tenant . The Caroline is a smoke - free and pet friendly building with a host of amenities including 24 hr doorman , children ' s playroom , billiards room ; tenant lounge with projection screen TV , bar , and free WiFi ; games room , 24 hr laundry room , valet service ; 20 , 000 sq ft landscaped roof deck & much more ! Please note this is a lease assignment with 2 1 / 2 months remaining . A longer lease term will be considered at a premium rate . Please inquire for more details . Photos and floor plans are of a representative unit . Price and incetnives are subject to change .\",\n u'Spacious room available to sub - let in East Village / LES . Available from 1st November 2017 onwards . At The Adele building complete with one amazing roommate . Located next to all the best bars & restaurants East Village has to offer . Fully furnished with all mod - cons including 24 hr concierge , access to two rooftop gardens , walk in shower , kitchen ( complete with oven , dishwasher ) washing machine & dryer unit , wireless speakers , air - con . $ 1832 . 50 per month plus one months deposit . Message me for more details .',\n u'Moving out in September , move in date would be 10 / 1 or earlier . New building ( opened November 2016 ), rooftop , garden , building gym . There is central air , in - unit washer / dryer and doorman service . 3rd floor has a large public garden wrapped around the building ! Brand new kitchen and bathroom finishes , including dishwasher and stainless steel appliances . Right next to the JMZ subway , so awesome view of the city and waterfront . For info on the building and amenities see here : http :// www . rentthewilliams . com /.',\n u'Lovely one bedroom apartment available for rent in the Crown Heights section of Brooklyn . * High Ceilings , hardwood floors throughout , beautiful moldings . * The apartment is in a corner building and gets tons of light . * Very large bedroom , perfect for a king size bed and a seating area . * Close to the A line ( nostrand ave stop ) and C line ( kingston ave stop ), the B43 , B44 , B49 , B65 . * Please contact me to set up an appointment to see the apartment or to ask any questions . * Cats are awesome , but no dogs please . * Heat is included .',\n u\"Looking for someone to move into a bedroom in my 2 br apartment on 55th and 10th avenue for a Nov 1 move - in date for a 8 month sublet . It ' s a top floor apartment , with a view of the west side . Large , fully flexed room ( 12ft 4inches x 11 ft ), with 3 large windows ! Doorman building , with a common space , two laundry rooms , and two outdoor terraces which include a bunch of outdoor seating and two full , new grills . It was fully renovated in April of 2016 before I moved - in in July 2016 . * Close to the A , B , C , D , 1 , N , Q , R , W trains . * Just a few blocks from Central Park . * A block away from an astroturf field . * Two blocks away from the west side highway / trail to riverside park . - Rent is $ 1665 - This is a sublet until late July .\",\n u'This 2 BR / 2 full bath apartment is undergoing an exquisite renovation . From the moment you enter on the elevator , which privately opens directly into your apartment you are welcomed into a wide and open kitchen / living space with tons of natural light and hardwood floors . The kitchen features stainless steel appliances and an island . The living space features floor to ceiling windows , and sliding doors that open onto your own private balcony overlooking a quintessential Brooklyn block with lots of trees . The hallway which leads to the bedrooms features a modern bathroom , closet , and a washer / dryer ! The main bedroom features a 2nd private balcony with tranquil views , floor to ceiling windows , a closet , and an additional ensuite bathroom with jacuzzi tub and modern tile work . The second bedroom also has floor to ceiling windows and a closet .',\n u'Spacious 1 bedroom , 1 bathroom unit available , featuring sleek hardwood floors , high ceilings , and large , sunny windows . Queen bedroom faces very quiet courtyard with closet / storage space , nice kitchen with large cabinets , generous room sizes throughout ! Heat & Hot Water included .',\n u\"Beautiful , cozy and spacious 2 , flexed to 3 - bedroom apartment ! Great conditions , lots of space , renovated , privacy , . Amazing location . 3 bedrooms , kitchen , bathroom , common . Master bedroom with East River view , and again , lots and lots of space ! Please message me if you ' re interested .\",\n u'Apartment is located in a super prime location to everything !! Just steps away to Peter Luger Steakhouse , Coffee Shops , Restaurants , Yoga Centers , Metropolitan Pool , Bars / Clubs ... etc ... and much much more . Short walk to Bedford L or JMZ trains . Located at Driggs Ave . & South 4th Street . Just across the Williamsburg bridge Just a walk or bike through the Williamsburg bridge ! 3 spacious Bedrooms w / Windows . Huge living room . Stunning brand new kitchen . Stainless steel appliances Gorgeous fully tiled bath with sink shower & tub . Video intercom system . Exposed bricks Lots of closets . Windows in Every room . Hardwood floors . Lots of windows allowing tons of natural sunlight .',\n u\"Beautiful Garden apartment with gorgeous backyard that ' s brand new . Finishes are renovated wood floors and smooth white walls . Bathroom is redone with large white tile and stylish border . You can fit a king bed in the bedroom . The living room is spacious for an L shaped couch and dining table . As a landlord we include free laundry , heat , hot water , storage , wifi , and cable tv ( all premium channels HBO !). The apartment faces a park and dogs are allowed ! We want to start the new lease in November or December .\",\n u\"Hi home hunters ! This is a beautifully large 2 bedroom apartment that is a single floor walk - up , with building amenities and rooftop access . Located on the border of Clinton Hill and Bed - stuy , down the street from PRATT , and 1 block from the G at Bedford - Nostrand . This is a perfect place to call home , with plenty of room from your spacious living room to your sunny home office . High ceilings , skylights , and dark hardwood floors throughout . You also have access to our sister building across the street where you are able to use the gym , yoga space , movie theater , lounge , and laundry ! We also accept pets for no charge , and this is a NO FEE apartment with flexible move - in . We accept foreign applicants , and it is a $ 500 deposit to take the apartment off the market . You should make 40x the rent and have NO previous evictions . Please contact me if you ' re interested ! Thanks !\",\n u'Luxury Studio Apartment in Long Island City available for rent . Start date is flexible . The apartment faces Manhattan and has a stunning view of the Empire State Building . Located near the waterfront Gantry Plaza State Park on the East River . Next to Duane Reade and Foodcellar supermarket . Very quiet and safe neighborhood . Very close to the Vernon Boulevard - Jackson Avenue 7 train stop . 5 minute commute to midtown Manhattan Grand Central and 10 minute ride to Times Square ! Amenities include washer / dryer in - unit , AC and heater , walk - in closet , dishwasher , gym , terrace with barbecue area , elevators , 24 / 7 doormen , and lounge with billiards table . The building is pet friendly . Rent is $ 2 , 100 per month . Water and gas are included in the rent . The lease is through May 20 , 2018 , and it can be renewed . If interested , please message me to schedule a viewing .',\n u\"The house is in new condition ( only 6 years old ) in a safe part of Newark . It ' s a short walk to the Ironbound . Very convenient to EWR airport and downtown Newark . 50 - minute commute to Midtown or WTC . Brand new bedroom furniture . High speed internet ( Fios ) is provided . Washer / dryer on site ( no cost ).\",\n u'bright , spacious 1 bed 1 . 5 bath ( more than 1000sf ) co - op unit . The apartment has been fully renovated in 2012 ( both baths and kitchen fully gutted ). Quartz countertop , stainless steel appliances . Plenty of storage with the walk - in closet in master bedroom . Large terrace with ocean views . Building has 24HR security , laundry on site . Maintenance includes all utilities . Parking space can be purchased or rented from management . Pets OK , Board approval . Near schools , shopping and transportation .',\n u'Recently renovated home in the heart of Columbus Circle !',\n u\"We are the tenants listing 1 bedroom 1 bath available in Inwood [ near Isham and Vermilyea ] so there ' s no broker fee or anything . Due to a change of work , we are moving to midtown and sadly saying goodbye to this great space . The apartment is walking distance to the A ( 1 min ) and 1 train ( 4 min ) as well many restaurants on both 207 and Broadway . Short train ride to Target and Marshalls for big store items , though there is a Rite - Aid , C Town and many discount stores within walking distance . Rent is $ 1550 a month and available for move in November 1st . We can show apartment with the super after 6 pm on certain weekdays and also on the weekends . Requirements include :. - 40x rent . - Good credit score . - Rental history or proof of rental history If you like the apartment , you will need to submit the following documents to the landlord company for each applicant : 1 . Most recent tax return and w - 2 ;. 2 . Two ( 2 ) most recent pay stubs ;. 3 . Copy of social security card ;. 4 . Copy driver ' s license ;. 5 . Most recent checking and / or savings account statement ;. 6 . Current apartment lease ; and . 7 . Proof of rent payment - three ( 3 ) most recent months ;. 8 . Landlord verification letter + Application fee for credit / background check ( 100 $ per person or per guarantor applying ). After they approve you ' ll need , 1 month Security Deposit at the lease signing .\",\n u'Lease Takeover from October 1 , 2017 ( moving date flexible ) - April 30 , 2018 ( renewable ). Furnished or Unfurnished . 1 Bedroom Apt with high ceilings and washer / dryer in unit . Located between Lexington Ave and Park Ave . The neighborhood is filled with popular restaurants and shopping . Central Park is a just few blocks away . Beautiful apt on a stunning tree lined street . 3 flights up . Very close to the 4 , 5 , 6 , and the new 2nd Ave / Q line . Pets allowed .',\n u'It \\u2019 s a 2 bedroom flex apartment in the heart of StuyTown . I \\u2019 m very sad to be parting ways from this community and oasis within Manhattan . You will not find a better management company to work within the city . The neighborhood is quiet , yet steps away from trendy East Village and Gramercy .',\n u'Flex 3 bedroom apartment . AMAZING kitchen with brand new appliances and granite counters . Master bedroom has two closets and second bedroom has very deep closet so you can fit a dresser and hanging clothes . Bathroom has a full tub and great lighting . Laundry and storage are are main level .',\n u'Beautiful apartment with a beautiful kitchen and living room . Four rooms in the apartment . Located in the east village / union square / kips bay area .',\n u'Offering 1 bedroom in a Stunning 2 bedroom apartment on East 93rd street . 3rd floor of a walk - up . This apartment features unique polished wood - floors and accenting crown molding throughout , not often seen at this price - point . Kitchen is separate but open to the living - room space . There is ample cabinet space with stainless steel appliances and white granite counter tops . Dishwashing . Bedrooms can accommodate a queen sized beds and are sun drenched . Bedroom have closet space with beautifully mirrored doors . Living room space is large and open . Plenty of opportunities for furnishing . Bedroom is not furnitured .',\n u'I am relocating out of state for work ! Beautiful Upper West Side 2 Bedroom Flex , 1 bath in a doorman building for 2 - 8 month sublease -- BELOW MARKET price ( highly motivated subletters due to job relocation ). Currently configured for a one bedroom with massive living area , spacious enough to put in a flex second bedroom with living space to spare . Located just a block from the 96th street express 1 / 2 / 3 subway stop and in close proximity to both Central and Riverside park ( great for dogs !) - designated kitchen space with updated , stainless steel appliances . - renovated bathroom . - rooftop patio with great views . - in building gym access included . - in building storage included . - in building laundry . - residents lounge . - movie room available for private parties . - coffee and pastries served complimentary every M - F from 7 - 9am .',\n u'- 2nd level , open floor plan , 600 sq ft . - Alley / non street facing unit . - Elevator & laundry in building . - Renovated +\\\\- 2yrs ago . - Hardwood floors , granite counter , new dark cherry wood cabinets , stainless steel appliances . - Handy super , lives in building . - 2 blocks from the 1 train , 3 blocks from the A train . - Short walk from Fort Tryon Park , Inwood Hill Park , and The Cloisters . * This is for a lease reassignment . Current lease ends 3 / 31 / 2018 . Move - in date ASAP pending application approval . * Contact me with questions , or to set up a viewing date .',\n u'Gorgeous and spacious 1 bedroom / 1 bath rental with large balcony , walk - in closet , and washer / dryer in unit , in the brand new Bjarke Ingels designed VIA 57 West . Truly an amazing apartment with great light and an unobstructed view of the gorgeous courtyard and the Hudson river . Building amenities include gym , courtyard with grills , swimming pool , game room ( pool table , foosball , ping pong , skeeball and shuffleboard ), poker room , golf simulator , movie room , plenty of common area / lounge space , library ( subject to a separate fee ). Dog and cat friendly . 24 hour doorman . Building management has been nothing short of perfect . Free shuttle service to Columbus Circle during morning and evening commute times . Retail businesses in and around the building include a fantastic Mediterranean restaurant , an AKC dog grooming and boarding center , and the new Landmark theater . Soon to come are a market and a convenience store . This is a lease assignment , with move in date starting mid - October , with a lease end date of 9 / 30 / 18 . You will take over the lease at the current market rent . We are the current tenants and there is no broker fee , but there will be standard application / credit check fees with building management .',\n u'- Sunny two bedroom apartment in Prime Bushwick . - No fee . - Steps to coffee shops , restaurants , grocery stores , and train . - Central M stop is on the corner !! - The shared backyard is lovely . - Laundry in building . - Storage for your bikes and a / c units . - Hardwood floors throughout . - Both bedrooms can easily fit queen sized beds with plenty of room for additional furniture . - Current tenants willing to negotiate an Oct 15 move in , with the lease beginning on Nov 1 ! Also willing to leave some furniture . - Cats ok . - Building management company is wonderful . Easy to contact , requests answered quickly , and you can pay your rent online . - Require : W2 or 1040 , credit check , application , bank statements ... Guarantors welcome . NOTE : Current tenants have the apartment set up as a one bedroom , but easily convertible to a two bedroom .. the apartment is a true two bedroom .',\n u'This is a beautiful 900 sq ft space on the 41st floor of world renowned architect Frank Gehry in Financial District . It is filled with windows and seating around the entire apartment , and looks directly at the world trade center with southern , western , and partial northern views of the empire state building . Washer and Dryer are in unit and it is a 24 hour service building with business hours concierge service , free of charge .',\n u\"I ' m ending my lease early to move out of the city . Looking for someone to sign a 1 - 2 year lease for this lovely studio ! Details :. - Available October 15th . - Minimum of 1 year lease . - Location : 87 & Lexington Ave . 3rd floor Walk up . Within 1 block : 4 / 5 / 6 express subway stop , Whole Foods , Best Buy , Staples , Duane Reade , CVS , Starbucks , 86th express crosstown bus . Within 5 minute walk : 92Y Gym , newly opened Q train , many restaurants / bars , laundromats . - Furnished ( optional ). Because this is a rent stabilized unit , the application approval process is fairly strict . The applicant should have :. - Excellent credit score . - Minimum income 40x monthly rent . - 1 month of rent as deposit . Drop me a message if interested !\",\n u'Hi all , I have 1 bedroom in a true 2 bedroom in East Village available start of November . Bedroom fits a full bed plus furniture . Great place , not far from union sq . Apartment has a full kitchen , living room , and the bedrooms are on opposite sides of the apartment . Bars , restaurants , shopping , grocery stores , everything you need right there . Must be ok with cats . Message me for more information . Looking forward to hearing from you ! PLEASE NOTE - these photos are from the rental listing from the previous tenant , I promise I have better decorating skills and the kitchen has been completely re - done ( no ugly tile or wall paper ! ).',\n u'NO FEE ASSIGNMENT OF LEASE EXPIRING 6 / 30 / 18 IN RENT - STABILIZED BUILDING AVAILABLE 12 / 01 / 17 Newly renovated large one bedroom apartment in sought - after full service building in the heart of the financial district , just a few short blocks from South Street Seaport and Fulton Street Station servicing the 2 / 3 , A / C , 4 / 5 , J / Z and R trains , making it an easy commute to anywhere in the city . The apartment itself comprises of one large bedroom ( 10 \\u2019 4 x 13 \\u2019 7 ) with built - in closet ; fully fitted kitchen ( fridge / freezer with ice maker , oven , microwave and dishwasher ), huge living / dining room ( 12 \\u2019 4 x 21 \\u2019 5 ) with floor to ceiling windows ; large closet in entrance hall ; good sized bathroom with built - in linen closet . The apartment is being offered as an assignment of existing lease expiring 6 / 30 / 18 with an option to renew . The building itself comprises of a plethora of amenities such as 1 ) very friendly , fully staffed , front desk ( in operation 24hrs a day / 7 days a week ) who will accept deliveries of all kinds and , with prior consent , will even let delivery men in to your apartment for larger deliveries if you are unable to be home 2 ) 2x in - building laundry rooms 3 ) concierge service for all of your laundry needs ( dry cleaning / wash and fold etc ) 4 ) Club room with pool tables and wet bar facilities 5 ) well equipped gym 6 ) large indoor lap pool 7 ) pets allowed ( subject to approval ) 8 ) 2x roof decks with 360 degree views over the city and ample seating for entertaining / sun bathing / al fresco dining 9 ) bicycle storage 10 ) children \\u2019 s playroom 11 ) BuildingLink App that notifies you of deliveries , allows you to send messages to the front desk , book any maintenance needs and much more !',\n u'Looking for someone to take over a fully furnished studio apartment available for rent as soon as possible in a bright high rise apartment in Newport area , Jersey City . Rent - $ 2155 . The apartment is 2 minutes from Newport PATH station . Amenities : . - Doorman . - Elevator . - Laundry facilities in building . Message me for more details or contact on 2012567020 .',\n u'Beautiful one bedroom and one bathroom around 700 sq . ft . Perfectly located in the heart of the city 150 west 51st Street on the 16th fl . With 24 hours doorman service , laundry room , dry cleaning valet service , gym , rooftop deck , fully furnished , fully equipped with stainless steel appliances , dishwasher , cable and wireless internet , very close to many major subway stations and buses access ready for move - in , rent is $ 3500 per month no fee , 1 / 1 / 2018 available . Please contact : May 347 - 925 - 5704 Email : maycheng2468 @ gmail . com .',\n u'Room available now . PM me for more info . This is a 2 bedroom ( 2 floors ) apt on 108th and Broadway . It is a 4mins walk to 110th subway station and 8mins walk to Columbia University . The apt was newly furnished and has a HUGE outdoor rooftop space . The living room is downstairs and two bedrooms both have access to the rooftop . No broker fee and the lease is fairly flexible ; prefer 10 months and up .',\n u'One bedroom in a three bedroom available for November move - in , right around the corner from Myrtle - Broadway JMZ . Great location , across the street from a huge laundromat , a block away from a Food Bazaar , and everything else you could want on Broadway a three - minute walk away . The apartment is a third floor walkup , recently gut - renovated with new appliances . Couples welcome ! No pets unfortunately . Credit is a MUST . Looking to find a tenant asap !',\n u'Hey all . My roommate and I are looking for a third person to sign a 1 year lease on an apartment being renovated for a November 1st move in . 2 blocks from the montrose L and within walking distance of the JMZ at Lorimer . Apartment has heating and cooling units in each room . A full kitchen will stainless steel appliance and granite countertops . New bathroom . Each room can fit comfortably a full to queen size bed with other furniture , they also come with built in closets . Huge living separate living room . Message me with any questions ! p . s . The first set of pictures is of a similar unit in the building . The second is the apartment being renovated .',\n u'10 months rent starts on November 1st . Save over $ 380 per month by moving into this apartment with utilities , gym , amazing roof deck , in - unit washer / dryer , WiFi , cable , luxury furniture , smart TV , yoga and wellness studio , huge movie room / lounge household supplies and weekly cleaning included . Yoga classes twice a week are included in the rent . Brand new building in the amazing Williasmburg neighbohood full of caf \\xe9 s , shops , restaurants and parks . Only a 5 min walk to Marcy station which will take you to Manhanttan in under 10 minutes . The bedroom available in very large , bright and fully furnished . It is located in a 2 storey apartment which is also fully furnished . You will share this apartment with 4 other roommates . There are 3 bathrooms .',\n u'270 Sqft 3rd floor studio frontal apt , new noise proof windows , lighted and renovated , partially furnished , central heating , partially parquet floor , a / c , kitchen , closet & refrigerator are included . 2 month security & rent deposit paid ahead , no extra fee .',\n u'Great 1 Bedroom flex apt available in mid December ! ~ 725 square feet in a quiet corner of Stuyvesant Town . Easy access to the East River and the L Train .',\n u\"A spacious 1BR on the 2nd floor of 6 story apt building , available in Sunnyside . Amazing location - 2 blocks from 46th St station on 7 line , less than 20mins to Grand Central . Pharmacy , bars , restaurants supermarkets , all within a block or two ! Laundry / elevator in the building . All kitchen appliances were replaced with new only 5mo ago . We ' re a couple moving out due to relocation for work outside the US . Rent : $ 1975 / mo ( including water , gas ). One month deposit required . * Note ; this is a lease transfer . If you \\u2019 re interested in viewing , please message me !\",\n u\"1 - Room in Clean 3 Bedroom Apartment on the 19th Floor in a Luxury Midtown Manhattan Building ( many interior / building amenities included ): Available November 1st . If you ' re looking for a well - kept apartment conveniently placed in midtown Manhattan , which also has access to various amenities , then this undoubtedly fulfills your requirements . This 3 bedroom apartment , with 1 bedroom available , is located in a luxury building at 505 West 37th Street ( google address for pictures ). Public transportation is just blocks away with direct access to the A , C , E and 7 subway lines and Penn Station is only a 10 minute walk away . The apartment features -- - 2 bathrooms ( you would share with one roommate ) - Dishwasher - Stainless steel appliances - Hardwood floors - Independent heat & A / C in each room - Incredible views of the Hudson River - The Room : The room is spacious ( approximately 130 sq . ft .) with a large closet for any clothes and / or storage needs . Floor to Ceiling Window and Furnished ( negotiable ) / unfurnished . The room can easily accommodate a Queen size bed . The Building : The building is conveniently equipped with various services / amenities , as follows : - Front Desk - 24 Hour doorman - Laundry room - Fully Equipped Fitness Center - Dry Cleaner Service open 6 days a week until 9 : 00pm - Beautiful rooftop with great views of Manhattan - Terrace level - 2 Club rooms with TV ' s and Pool Tables - Parking garage ( additional cost ) The Neighborhood : The neighborhood is really calm and safe with everything you need just across the street ( grocery shops , coffee shops , liquor store ) My Roommates : My roommates are two really friendly , nice , easy - going guy / girl ( in their 20 ' s and 30 ' s ) looking for someone who is neat , clean & respectful . The apartment is smoke free . No pets Rent : The monthly rent is fixed at $ 1 , 700 ( due at the end of each month ). Utilities ( electric and cable ) are not included and are usually about $ 75 per month each . To move in we would need 1st months rent , 1 months security deposit and last months rent . You will need to be willing to sign the lease for 1 year starting November 1st . The lease is until October 31st 2018 . Please message me ASAP with a little intro about yourself and we ' ll go from there to set up a time to view .\",\n u'Spacious studio on high floor with great views at Soho Court . Soho Court , located on East Houston and Elizabeth Streets , is a 12 - story , luxury rental property set in the heart of Manhattans most energetic and vital neighborhood . Offering a variety of unique studio , one and two bedroom layouts , Soho Courts superior apartment amenities include contemporary kitchens with 9 high ceilings , ceramic tile floors , oversized dining counters , and maple wood designer cabinets , and bathrooms with tri - view mirrored medicine cabinets and matching maple wood vanities . The Penthouse level apartments feature terraces , skylights and fireplaces . All residences have the availability of high speed Internet access . The building also provides the unique feature of an in - house exercise room with adjacent laundry facilities allowing tenants the convenience of completing both of these arduous tasks simultaneously . There is also an on - site garage and a peaceful , private garden courtyard .',\n u\"Available December 1 ! 50 Columbus is a spectacular super premium residential tower located in Jersey City ' s vibrant downtown Grove Street district . On - site access to the Grove Street PATH Station and available on - site parking . This apartment is located on the Penthouse floor and is 837 sq / ft featuring beautiful 12 ft floor to ceiling windows for residences to enjoy an abundance of natural light , as well as spectacular views of the Manhattan skyline , the Hudson River , the Statue of Liberty and the Harbor ! Apartment Amenities :. - Stainless Steel Appliances . - Dishwasher . - In Unit Washer and Dryer . - 3 Closets plus 1 Walk - In Closet Building Amenities :. - Heated Swimming Pool . - BBQ Grilling Station . - Children ' s Playground . - Basketball Court . - Dog Park .\",\n u\"We left our 1BR apartment on the 18th floor of a beautiful residential building in the UWS on November 3rd . Hoping someone may sign a new lease . Here are the details : Apartment . - Bright ~ 800 sq . ft . unit with sunset views . - Huge living room with dining alcove . - Bedroom fitting a king bed and furniture . - Renovated bathroom and kitchen . - 5 closets offer plenty of storage . - Controllable AC unit Building & Location . - Unit located at 101 W 90th St James Marquis . - Modern elevator building with 24 / 7 doorman . - Laundry room with multiple washer / dryer units . - Private garden terasse for residents . - 3 mins walk to Central Park . - 5 mins from 86th St C , B and 1 line . - UWS shops , pharmacies and restaurants just steps away Rental Specs . - NO BROKER ' S FEE . - Unit available for immediate move - in . - New lease at $ 3 , 036 ( net effective on a lease of 13 moths ). - Utilities not included . Coned fees ~$ 75 / month . - Deposit required , amounting to one month ' s rent . - Easy application process Please get in touch to express interest and / or find out more ! Thanks ,. Valentina .\",\n u\"Hello ! I ' m looking for someone to take over my lease for my room in Kips Bay . Move in date would be Feb 1st and the lease ends Aug 31st with the option to resign . This beautiful , pre - war apartment is newly renovated , with brick walls , and is steps away to tons of bars , restaurants and Trader Joe ' s ! The apt also has a washer / dryer IN UNIT ! The other room is occupied by a young female professional ( and her cat ) in her 20 ' s . The 6 train is also a short five minute walk away . Please let me know if you ' re interested or have any questions !\",\n u'Room opening in 3 - BR apartment in Williamsburg ! Brand new 8 - story building with modern design , elevator , ROOFTOP , gym , bike room , in - building washer / dryer , 1 block from Graham L train stop , and more . Breathtaking view of Manhattan skyline + Williamsburg from bedroom window and rooftop ! Sublet starting Dec 1st until May 31st ( flexible on duration ) - $ 1 , 500 per month . Message me or tag a friend for more info , pics , viewing , etc . Serious inquiries only please .',\n u\"No broker fee - Available now - If you are looking for a place call home in Kips Bay , search no more , this is it ! - A cozy junior one Bedroom / 1 Bathroom . - Bedroom with a Queen Size Bed . - Washer / Dryer in Unit ! - Brand new range / oven . - Rent includes heat , hot water and cooking gas . - Pet Friendly ( need certification , subject to board approval ). - central located in Kips Bay . - 5 mins walk to Trader Joe ' s and Fairway supermarket . - two blocks from 28th 6 train . - two blocks from two Citibike stands . - close to NYU hospital . - Chase and TD bank just around the corner . - close to tons of fine restaurants . - 24 hours fitness club ( Synergy ), NYSC and equinox are a few blocks away . - approximate to three parks . - Easy Board Approval Process ! - Application fee of $ 150 applies . - moving fee is $ 500 Please feel free to contact and arrange for viewing .\",\n u'** Address is 179 Orchard Street NOT 91 Allen ** Great 1 bedroom apartment right in the heart of Lower East Side , with East Village just across the street . Just steps away from tons of bars , restaurants , live music and art galleries . Very short walks to F , M , J , Z trains as well and the B , D and 6 trains . 4 month lease starting December 1st with option to extend . - Hardwood flooring throughout . - High ceilings . - Extra storage in apartment . - Laundry in building . - Fully equipped open kitchen . - Large closet in bedroom . - Virtual doorman . - Fully white tiled washroom . - Windows in every room allowing for lots of natural light . - Double paned windows in the bedroom block out street noise .',\n u'Amazing UES apt with outdoor space ! I am currently looking to break my lease due to a new job offer in another state . This is a true 1 bedroom in a doorman building , with balcony , full gym and laundry in the building . Neighbors are very respectful and quiet . West facing apartment with amazing sun views as the apartment is located on the 26th floor . Building also has its own separate drive way making it extremely convenient for move - in .',\n u'One bedroom with one bathroom and a living room and kitchen . Bedroom facing west . So lot of sunlight in the living room and bedroom . Bedroom window overlooking the basketball court . Very good ventilation .',\n u'** Available December 24 - February 1 ** ENTIRE APARTMENT & BEDROOM ARE FULLY FURNISHED !! \\u2014. LOCATION : StuyTown , in the heart of East Village . ADDRESS : East 14th Street , between Avenue B + C . * 5 minute walk to East River Park ! *. \\u2014. BEDROOM IS FULLY FURNISHED WITH 2 BEDS ( 1 QUEEN + 1 TWIN TRUNDLE ), CHEST OF DRAWERS , LARGE DESK WITH 2 CHAIRS . \\u2014. RENT INCLUDES : UTILITIES , ELECTRICITY , WATER , GAS , UNLIMITED AIR CONDITIONING USE & WIFI ! \\u2014. SEEKING FEMALE ROOMMATES ONLY . \\u2014. - Apple TV that has a lot of subscriptions to channels . - Tall windows with tons of light in each room with views of East River . - TONS of closet & storage space . - HD Video Intercom for Guests & Delivery Access . - Virtual Doorman monitoring 24 / 7 . - 24 / 7 security in our building & entire StuyTown community . - Two elevators in building . - Trash chute on floor right outside apartment door . - Renovated laundry room & bike storage room on ground level . - Recycling room & composting bins on ground level . - Mailboxes on ground level . - EXTREMELY dependable & responsive maintenance staff 24 / 7 for any issues . \\u2014. The apartment is completely furnished and carefully decorated to feel like a true home . Our apartment is a very organized and peaceful environment . We love to keep it very clean and smelling good . \\u2014. You will have 2 other female roommates .',\n u'Sublet in huge 4BR 1300 - sq ft apt in Morningside Heights right by Columbia University and minutes walk to Central Park . Trains are A / C and D / B and ONE express stop from Columbus Circle - 59th St . 4th floor in a walk up . Rooftop and Fire Escape access . 14ft high ceilings . Sun drenched apartment . walk - in closet ( good luck finding this one !). washer - dryer in unit ( walk ? Outside ? With laundry ?). ALL utilities ( water / gas / electric ) + 5GWiFi Included ! Fastest speeds . Central heating . Entirely gut renovated apartment with stainless steel appliances . Gorgeous area near 2 beautiful parks - runs , walks , nature views . Roomies all laid back young clean professionals that work & school full time - chillest living situation in NYC . Guaranteed . apartment is relatively empty a majority of the day . Pets considered . Single occupancy ONLY , no couples . 420 - friendly . Willing to leave the bedroom fully - furnished with full size bed , 10ft tall leaning mirror , and bed stand or remove it at all . Message me for a video and additional pics !',\n u'Looking for someone to take over my lease until April 2018 . In order to take over the lease , the house hold must make 40x the rent which is 80k for this apartment . I am offering $ 150 for first - time apartment cleaning ( you find who you want to clean ). Available Nov 15 - dec1 The apartment is a true 2 bedroom with living room and kitchen , and right off the 168 street A train . Some nearby stores : Dunkin Donut , McDonald , chipotle , Starbucks , rite aid , few super markets , Chinese food places . My fav Michelin recommendation brunch and bar is only 5 min walk : Marcha . Tasty Deli : Amazing Sandwhiches . Burger Heights : right on the corner . Rent is now 2147 monthly now including water and heat only . Bronstein Properties is the Owner of the building .',\n u\"2 WEEKS OF FREE RENT !!! This Fabulous one bedroom apartment located on the 8th floor , with its Southern Exposure , is located in the Ultra - Luxurious White Glove 24 - hour doorman / concierge building , THE ATELIER . There are High End condo finishes in the apartment , such as a Sub Zero Refrigerator , Bosch appliances , including a WASHER / DRYER in the unit , a marble bathroom . There is free access to the gym , yoga room , sauna , tennis court , basketball court , movie screening room , business center , children ' s playroom , Sky Lounge and roof deck . There is even a FREE A . M . SHUTTLE BUS and FREE Coffee / Continental Breakfast ( Monday through Friday ) and many other great amenities . Located near the 42nd Street Pier in the Hudson River , it is also in close proximity to the Broadway entertainment area .\",\n u'Lookin to sublet one bedroom , fully furnished apartment . On 138th st and Lenox ave ! If you or a friend are interested let me know ! Rent is only $ 1 , 500 a month ! It \\u2019 s in a great co op building ! This is for a one year lease starting January with possibility of moving in early ! It is a 550 sq ft one bedroom apartment with two double door closets ! Dining set , big couch , open plan kitchen , king size bed , washer and dryer IN THE APARTMENT !! Perfect for one person or a couple . Bathroom includes a double sink ! Income restricted , co op board approval , credit report , one person must earn under 76 , 200 or two people under 87 , 000 based on last years taxes . Message me if you or someone you know would like more info or if you \\u2019 d like to come see the place ! Please share and tag your friends ! Trying to get someone in as soon as possible !',\n u'Hi ! I have been living in this studio the past 2 . 5 years , moving out end of December so this place is available for move - in 1 / 1 / 2018 ! This is a very nice studio apartment in an elevator building in Astoria just 1 block from NW train , which means 15 min to midtown , 20min to union square . Very quiet and convenient . There \\u2019 s a floor to ceiling window so lots of natural lights . A modern kitchen , and bathroom with a deep bathtub and rain shower head . 2 big closets that can fit everything you need ! Plus , washer and dryer on each floor . In addition , there \\u2019 s a roof deck and grill , parking garage , and gym in the basement . The landlord is apartment owner , who is very nice and responsive . Come check it out ! * Background and credit check fee applies .',\n u'Sublet of a beautiful large one bedroom located next to Van Cortlandt park Looking for a sublet to take over my lease until June , 2018 , available for move in from 1st December to December 15 . Rent is $ 1 , 500 + electricity and cooking gas ( heat and hot water is included in rent ) To move in , I will need 1st , last month \\u2019 s rent and security deposit This is a spacious large one bedroom with hard wood floor right next to Van Cortlandt Park . It has four doored closets . The bedroom can easily fit two twin beds . The apartment is conveniently located near subway line 1 , highway 87 , Henry Hudson Parkway . The bus stop for express bus BMx3 and for local bus Bx9 is on the same block of the apartment building . The building has laundry machines on site . Street parking is available . No broker fee . Please let me know if you have any questions !',\n u'Huge room with great lighting for rent starting Dec 1st in Washington Heights ! The room is in a 3 bedroom apartment shared with 2 other girls . - Fully renovated apartment . - Lots of Natural Light . - stainless steel kitchen The apartment is located right next to the A , C and 1 trains , with supermarkets and gyms right around the corner !',\n u'This is a spacious 1 bedroom converted into a 2 - bedroom ( Queen / King Beds ) unit recently renovated with hardwood floors , marble countertops , marble backsplash and marble flooring in the kitchen area . Stainless steel dishwasher , oven , stove and refrigerator .',\n u\"Hey all ! Subletting my room for all of December ! \\u2022 1 Bedroom w / balcony in 3 bedroom apartment , 6th floor with elevator . \\u2022 Upper East Side , 96th and Park Ave . \\u2022 1min walk to the 6 or 5min walk to the Q . \\u2022 2 lovely female roommates who are mostly out of the apartment . \\u2022 Furnished except bedframe , new queen mattress can stay or go . \\u2022 Bathroom shared with 1 other roommate . \\u2022 Laundry in building . \\u2022 Kitchen full of appliances etc . that are free for all . \\u2022 Gorgeous roof terrace . \\u2022 5min walk to Central Park . Let me know if you ' re interested !\"]"
      ]
     },
     "execution_count": 153,
     "metadata": {},
     "output_type": "execute_result"
    }
   ],
   "source": [
    "[' '.join(crtest_inmem[i]) for i in [i for c,i in np.ndenumerate(np.where(grid_svm.decision_function(crtest_inmem) < -0.5))] if i >= len(crsub_inmem)]"
   ]
  },
  {
   "cell_type": "code",
   "execution_count": 123,
   "metadata": {
    "autoscroll": false,
    "collapsed": false,
    "ein.tags": "worksheet-0",
    "slideshow": {
     "slide_type": "-"
    }
   },
   "outputs": [],
   "source": [
    "class i2what(object):\n",
    "    def __init__(self, arr):\n",
    "        self._i2w = arr\n",
    "    def __len__(self):\n",
    "        return len(self._i2w)    \n",
    "    def q_dupe(self, i):\n",
    "        return self._i2w[i] < 0\n",
    "    def __getitem__(self, i):\n",
    "        return abs(self._i2w[i])\n",
    "    def __iter__(self):\n",
    "        for i in self._i2w:\n",
    "            if self.q_dupe(i):\n",
    "                next\n",
    "            else:\n",
    "                yield self[i]\n",
    "        \n",
    "def CorpusDedupe(cr, dict):\n",
    "    # dict.doc2bow makes:\n",
    "    #   corpus = [[(0, 1.0), (1, 1.0), (2, 1.0)],\n",
    "    #             [(2, 1.0), (3, 1.0), (4, 1.0), (5, 1.0), (6, 1.0), (8, 1.0)],\n",
    "    #             [(1, 1.0), (3, 1.0), (4, 1.0), (7, 1.0)],      ]\n",
    "    corpus = [dict.doc2bow(doc) for doc in list(cr)]\n",
    "    tfidf = models.TfidfModel(corpus)\n",
    "\n",
    "    i2text = np.arange(1,len(corpus)+1,1)\n",
    "    index = SparseMatrixSimilarity(tfidf[corpus], num_features=len(dict.keys()))\n",
    "    for i, z in enumerate(index):\n",
    "        if i2text[i] > 0:\n",
    "            negated = -i2text[i]\n",
    "            for j, sim in enumerate(z[i+1:]):\n",
    "                if sim > .61:\n",
    "\t\t    i2text[i] = i2text[i+1+j] = negated\n",
    "#    [' '.join(s) for s in itemgetter(*[446, 287, 468,   9, 100, 104, 426, 429, 519, 433])(list(crabo))]\n",
    "\n",
    "    return i2what(i2text)\n",
    "\n",
    "#list(index)[519][np.argpartition(list(index)[519], -10)[-10:]]\n",
    "#np.argpartition(list(index)[519], -10)[-10:]\n",
    "#[' '.join(s) for s in itemgetter(*[446, 287, 468,   9, 100, 104, 426, 429, 519, 433])(list(crabo))]"
   ]
  },
  {
   "cell_type": "code",
   "execution_count": 196,
   "metadata": {
    "autoscroll": false,
    "collapsed": false,
    "ein.tags": "worksheet-0",
    "slideshow": {
     "slide_type": "-"
    }
   },
   "outputs": [],
   "source": [
    "# order of labels in `target_names` can be different from `categories`\n",
    "target_names = ['spam', 'ham']\n",
    "def size_mb(docs):\n",
    "    return sum(len(s.encode('utf-8')) for s in docs) / 1e6\n",
    "from os.path import getmtime, join, realpath\n",
    "data_train_size_mb = size_mb(itertools.chain(crabo_train.words(), crsub_train.words()))\n"
   ]
  },
  {
   "cell_type": "code",
   "execution_count": null,
   "metadata": {
    "autoscroll": false,
    "collapsed": false,
    "ein.tags": "worksheet-0",
    "slideshow": {
     "slide_type": "-"
    }
   },
   "outputs": [],
   "source": [
    "\n",
    "testdocs = list(itertools.chain(crabo_test, crsub_test))\n",
    "X2 = corpus2csc(tfidf[[dictionary.doc2bow(doc) for doc in list(itertools.chain(crabo_test, crsub_test))]], num_terms=X.transpose().shape[1])"
   ]
  },
  {
   "cell_type": "code",
   "execution_count": 203,
   "metadata": {
    "autoscroll": false,
    "collapsed": false,
    "ein.tags": "worksheet-0",
    "slideshow": {
     "slide_type": "-"
    }
   },
   "outputs": [],
   "source": [
    "def trim(s):\n",
    "    \"\"\"Trim string to fit on terminal (assuming 80-column display)\"\"\"\n",
    "    return s if len(s) <= 80 else s[:77] + \"...\"\n",
    "\n",
    "\n",
    "# #############################################################################\n",
    "# Benchmark classifiers\n",
    "opts = dict()\n",
    "def benchmark(clf, X_train, y_train, X_test, y_test):\n",
    "    print('_' * 80)\n",
    "    print(\"Training: \")\n",
    "    print(clf)\n",
    "    t0 = time()\n",
    "    clf.fit(X_train, y_train)\n",
    "    train_time = time() - t0\n",
    "    print(\"train time: %0.3fs\" % train_time)\n",
    "\n",
    "    t0 = time()\n",
    "    pred = clf.predict(X_test)\n",
    "    test_time = time() - t0\n",
    "    print(\"test time:  %0.3fs\" % test_time)\n",
    "\n",
    "    score = metrics.accuracy_score(y_test, pred)\n",
    "    print(\"accuracy:   %0.3f\" % score)\n",
    "\n",
    "    if hasattr(clf, 'coef_'):\n",
    "        print(\"dimensionality: %d\" % clf.coef_.shape[1])\n",
    "        print(\"density: %f\" % density(clf.coef_))\n",
    "\n",
    "        if opts.get('print_top10'):\n",
    "            print(\"top 10 keywords per class:\")\n",
    "            for i in range(0, clf.coef_.shape[0]):\n",
    "                top10 = np.argsort(clf.coef_[i])[:10]\n",
    "                print(trim(\"%s: %s\" % (target_names[i], \" \".join([dictionary.get(w) for w in top10]))))\n",
    "            for i in range(0, clf.coef_.shape[0]):\n",
    "                top10 = np.argsort(clf.coef_[i])[-10:]\n",
    "                print(trim(\"%s: %s\" % (target_names[clf.coef_.shape[0]-i], \" \".join([dictionary.get(w) for w in top10]))))\n",
    "\n",
    "        print()\n",
    "\n",
    "    if opts.get('print_report'):\n",
    "        print(\"classification report:\")\n",
    "        print(metrics.classification_report(y_test, pred,\n",
    "                                            target_names=target_names))\n",
    "\n",
    "    if opts.get('print_cm'):\n",
    "        print(\"confusion matrix:\")\n",
    "        print(metrics.confusion_matrix(y_test, pred))\n",
    "\n",
    "    print()\n",
    "    clf_descr = str(clf).split('(')[0]\n",
    "    return clf_descr, score, train_time, test_time\n",
    "\n"
   ]
  },
  {
   "cell_type": "code",
   "execution_count": null,
   "metadata": {
    "autoscroll": false,
    "collapsed": false,
    "ein.tags": "worksheet-0",
    "slideshow": {
     "slide_type": "-"
    }
   },
   "outputs": [
    {
     "name": "stdout",
     "output_type": "stream",
     "text": [
      "================================================================================\n",
      "Ridge Classifier\n",
      "________________________________________________________________________________\n",
      "Training: \n",
      "RidgeClassifier(alpha=1.0, class_weight=None, copy_X=True, fit_intercept=True,\n",
      "        max_iter=None, normalize=False, random_state=None, solver='lsqr',\n",
      "        tol=0.01)\n",
      "train time: 0.165s\n",
      "test time:  0.000s\n",
      "accuracy:   0.965\n",
      "dimensionality: 15501\n",
      "density: 1.000000\n",
      "top 10 keywords per class:\n",
      "abo: floors viewing Email Ade our . closets _ No NO\n",
      "\n",
      "classification report:\n",
      "             precision    recall  f1-score   support\n",
      "\n",
      "        abo       0.94      0.92      0.93       193\n",
      "        sub       0.97      0.98      0.98       576\n",
      "\n",
      "avg / total       0.96      0.96      0.96       769\n",
      "\n",
      "confusion matrix:\n",
      "[[178  15]\n",
      " [ 12 564]]\n",
      "\n",
      "================================================================================\n",
      "Perceptron\n",
      "________________________________________________________________________________\n",
      "Training: \n",
      "Perceptron(alpha=0.0001, class_weight=None, eta0=1.0, fit_intercept=True,\n",
      "      max_iter=None, n_iter=50, n_jobs=1, penalty=None, random_state=0,\n",
      "      shuffle=True, tol=0.001, verbose=0, warm_start=False)\n",
      "train time: 0.011s\n",
      "test time:  0.000s\n",
      "accuracy:   0.957\n",
      "dimensionality: 15501\n",
      "density: 0.650797\n",
      "top 10 keywords per class:\n",
      "abo: toilet Resident Appliances text contact gym closets appointment No NO\n",
      "\n",
      "classification report:\n",
      "             precision    recall  f1-score   support\n",
      "\n",
      "        abo       0.91      0.92      0.91       193\n",
      "        sub       0.97      0.97      0.97       576\n",
      "\n",
      "avg / total       0.96      0.96      0.96       769\n",
      "\n",
      "confusion matrix:\n",
      "[[177  16]\n",
      " [ 17 559]]\n",
      "\n",
      "================================================================================\n",
      "Passive-Aggressive\n",
      "________________________________________________________________________________\n",
      "Training: \n",
      "PassiveAggressiveClassifier(C=1.0, average=False, class_weight=None,\n",
      "              fit_intercept=True, loss='hinge', max_iter=None, n_iter=50,\n",
      "              n_jobs=1, random_state=None, shuffle=True, tol=0.001,\n",
      "              verbose=0, warm_start=False)\n"
     ]
    },
    {
     "name": "stderr",
     "output_type": "stream",
     "text": [
      "/home/dick/.local/lib/python2.7/site-packages/sklearn/linear_model/stochastic_gradient.py:117: DeprecationWarning: n_iter parameter is deprecated in 0.19 and will be removed in 0.21. Use max_iter and tol instead.\n",
      "  DeprecationWarning)\n",
      "/home/dick/.local/lib/python2.7/site-packages/sklearn/linear_model/stochastic_gradient.py:117: DeprecationWarning: n_iter parameter is deprecated in 0.19 and will be removed in 0.21. Use max_iter and tol instead.\n",
      "  DeprecationWarning)\n"
     ]
    },
    {
     "name": "stdout",
     "output_type": "stream",
     "text": [
      "train time: 0.032s\n",
      "test time:  0.001s\n",
      "accuracy:   0.957\n",
      "dimensionality: 15501\n",
      "density: 0.909619\n",
      "top 10 keywords per class:\n",
      "abo: Windows Semi appointment viewing complex lines closets NOT No NO\n",
      "\n",
      "classification report:\n",
      "             precision    recall  f1-score   support\n",
      "\n",
      "        abo       0.93      0.90      0.91       193\n",
      "        sub       0.97      0.98      0.97       576\n",
      "\n",
      "avg / total       0.96      0.96      0.96       769\n",
      "\n",
      "confusion matrix:\n",
      "[[174  19]\n",
      " [ 14 562]]\n",
      "\n",
      "================================================================================\n",
      "kNN\n",
      "________________________________________________________________________________\n",
      "Training: \n",
      "KNeighborsClassifier(algorithm='auto', leaf_size=30, metric='minkowski',\n",
      "           metric_params=None, n_jobs=1, n_neighbors=10, p=2,\n",
      "           weights='uniform')\n",
      "train time: 0.003s\n"
     ]
    },
    {
     "name": "stdout",
     "output_type": "stream",
     "text": [
      "test time:  0.392s\n",
      "accuracy:   0.590\n",
      "classification report:\n",
      "             precision    recall  f1-score   support\n",
      "\n",
      "        abo       0.38      1.00      0.55       193\n",
      "        sub       1.00      0.45      0.62       576\n",
      "\n",
      "avg / total       0.84      0.59      0.61       769\n",
      "\n",
      "confusion matrix:\n",
      "[[193   0]\n",
      " [315 261]]\n",
      "\n",
      "================================================================================\n",
      "Random forest\n",
      "________________________________________________________________________________\n",
      "Training: \n",
      "RandomForestClassifier(bootstrap=True, class_weight=None, criterion='gini',\n",
      "            max_depth=None, max_features='auto', max_leaf_nodes=None,\n",
      "            min_impurity_decrease=0.0, min_impurity_split=None,\n",
      "            min_samples_leaf=1, min_samples_split=2,\n",
      "            min_weight_fraction_leaf=0.0, n_estimators=100, n_jobs=1,\n",
      "            oob_score=False, random_state=None, verbose=0,\n",
      "            warm_start=False)\n"
     ]
    },
    {
     "name": "stdout",
     "output_type": "stream",
     "text": [
      "train time: 7.394s\n",
      "test time:  0.031s\n",
      "accuracy:   0.949\n",
      "classification report:\n",
      "             precision    recall  f1-score   support\n",
      "\n",
      "        abo       0.93      0.86      0.89       193\n",
      "        sub       0.95      0.98      0.97       576\n",
      "\n",
      "avg / total       0.95      0.95      0.95       769\n",
      "\n",
      "confusion matrix:\n",
      "[[166  27]\n",
      " [ 12 564]]\n",
      "\n",
      "================================================================================\n",
      "L2 penalty\n",
      "________________________________________________________________________________\n",
      "Training: \n",
      "LinearSVC(C=1.0, class_weight=None, dual=False, fit_intercept=True,\n",
      "     intercept_scaling=1, loss='squared_hinge', max_iter=1000,\n",
      "     multi_class='ovr', penalty='l2', random_state=None, tol=0.001,\n",
      "     verbose=0)\n",
      "train time: 0.148s\n",
      "test time:  0.001s\n",
      "accuracy:   0.964\n",
      "dimensionality: 15501\n",
      "density: 1.000000\n",
      "top 10 keywords per class:\n",
      "abo: Renovated schedule EMAIL appointment _ viewing Email closets No NO\n",
      "\n",
      "classification report:\n",
      "             precision    recall  f1-score   support\n",
      "\n",
      "        abo       0.94      0.91      0.93       193\n",
      "        sub       0.97      0.98      0.98       576\n",
      "\n",
      "avg / total       0.96      0.96      0.96       769\n",
      "\n",
      "confusion matrix:\n",
      "[[176  17]\n",
      " [ 11 565]]\n",
      "\n",
      "________________________________________________________________________________\n",
      "Training: \n",
      "SGDClassifier(alpha=0.0001, average=False, class_weight=None, epsilon=0.1,\n",
      "       eta0=0.0, fit_intercept=True, l1_ratio=0.15,\n",
      "       learning_rate='optimal', loss='hinge', max_iter=5, n_iter=50,\n",
      "       n_jobs=1, penalty='l2', power_t=0.5, random_state=None,\n",
      "       shuffle=True, tol=None, verbose=0, warm_start=False)\n"
     ]
    },
    {
     "name": "stderr",
     "output_type": "stream",
     "text": [
      "/home/dick/.local/lib/python2.7/site-packages/sklearn/linear_model/stochastic_gradient.py:117: DeprecationWarning: n_iter parameter is deprecated in 0.19 and will be removed in 0.21. Use max_iter and tol instead.\n",
      "  DeprecationWarning)\n"
     ]
    },
    {
     "name": "stdout",
     "output_type": "stream",
     "text": [
      "train time: 0.115s\n",
      "test time:  0.001s\n",
      "accuracy:   0.961\n",
      "dimensionality: 15501\n",
      "density: 0.864976\n",
      "top 10 keywords per class:\n",
      "abo: floors Renovated viewing appointment Email EMAIL text _ No NO\n",
      "\n",
      "classification report:\n",
      "             precision    recall  f1-score   support\n",
      "\n",
      "        abo       0.93      0.91      0.92       193\n",
      "        sub       0.97      0.98      0.97       576\n",
      "\n",
      "avg / total       0.96      0.96      0.96       769\n",
      "\n",
      "confusion matrix:\n",
      "[[176  17]\n",
      " [ 13 563]]\n",
      "\n",
      "================================================================================\n",
      "L1 penalty\n",
      "________________________________________________________________________________\n",
      "Training: \n",
      "LinearSVC(C=1.0, class_weight=None, dual=False, fit_intercept=True,\n",
      "     intercept_scaling=1, loss='squared_hinge', max_iter=1000,\n",
      "     multi_class='ovr', penalty='l1', random_state=None, tol=0.001,\n",
      "     verbose=0)\n"
     ]
    },
    {
     "name": "stdout",
     "output_type": "stream",
     "text": [
      "train time: 0.449s\n",
      "test time:  0.001s\n",
      "accuracy:   0.953\n",
      "dimensionality: 15501\n",
      "density: 0.062190\n",
      "top 10 keywords per class:\n",
      "abo: appointment complex ME Buses Amazon NOT Resident No NO .\n",
      "\n",
      "classification report:\n",
      "             precision    recall  f1-score   support\n",
      "\n",
      "        abo       0.93      0.88      0.90       193\n",
      "        sub       0.96      0.98      0.97       576\n",
      "\n",
      "avg / total       0.95      0.95      0.95       769\n",
      "\n",
      "confusion matrix:\n",
      "[[170  23]\n",
      " [ 13 563]]\n",
      "\n",
      "________________________________________________________________________________\n",
      "Training: \n",
      "SGDClassifier(alpha=0.0001, average=False, class_weight=None, epsilon=0.1,\n",
      "       eta0=0.0, fit_intercept=True, l1_ratio=0.15,\n",
      "       learning_rate='optimal', loss='hinge', max_iter=5, n_iter=50,\n",
      "       n_jobs=1, penalty='l1', power_t=0.5, random_state=None,\n",
      "       shuffle=True, tol=None, verbose=0, warm_start=False)\n"
     ]
    },
    {
     "name": "stderr",
     "output_type": "stream",
     "text": [
      "/home/dick/.local/lib/python2.7/site-packages/sklearn/linear_model/stochastic_gradient.py:117: DeprecationWarning: n_iter parameter is deprecated in 0.19 and will be removed in 0.21. Use max_iter and tol instead.\n",
      "  DeprecationWarning)\n"
     ]
    },
    {
     "name": "stdout",
     "output_type": "stream",
     "text": [
      "train time: 0.354s\n",
      "test time:  0.001s\n",
      "accuracy:   0.953\n",
      "dimensionality: 15501\n",
      "density: 0.051158\n",
      "top 10 keywords per class:\n",
      "abo: several BLDG Email apartments Resident viewing appointment . No NO\n",
      "\n",
      "classification report:\n",
      "             precision    recall  f1-score   support\n",
      "\n",
      "        abo       0.92      0.89      0.90       193\n",
      "        sub       0.96      0.98      0.97       576\n",
      "\n",
      "avg / total       0.95      0.95      0.95       769\n",
      "\n",
      "confusion matrix:\n",
      "[[171  22]\n",
      " [ 14 562]]\n",
      "\n",
      "================================================================================\n",
      "Elastic-Net penalty\n",
      "________________________________________________________________________________\n",
      "Training: \n",
      "SGDClassifier(alpha=0.0001, average=False, class_weight=None, epsilon=0.1,\n",
      "       eta0=0.0, fit_intercept=True, l1_ratio=0.15,\n",
      "       learning_rate='optimal', loss='hinge', max_iter=5, n_iter=50,\n",
      "       n_jobs=1, penalty='elasticnet', power_t=0.5, random_state=None,\n",
      "       shuffle=True, tol=None, verbose=0, warm_start=False)\n"
     ]
    },
    {
     "name": "stderr",
     "output_type": "stream",
     "text": [
      "/home/dick/.local/lib/python2.7/site-packages/sklearn/linear_model/stochastic_gradient.py:117: DeprecationWarning: n_iter parameter is deprecated in 0.19 and will be removed in 0.21. Use max_iter and tol instead.\n",
      "  DeprecationWarning)\n"
     ]
    },
    {
     "name": "stdout",
     "output_type": "stream",
     "text": [
      "train time: 0.405s\n",
      "test time:  0.001s\n",
      "accuracy:   0.961\n",
      "dimensionality: 15501\n",
      "density: 0.432295\n",
      "top 10 keywords per class:\n",
      "abo: ! schedule EMAIL _ Email viewing text appointment No NO\n",
      "\n",
      "classification report:\n",
      "             precision    recall  f1-score   support\n",
      "\n",
      "        abo       0.93      0.91      0.92       193\n",
      "        sub       0.97      0.98      0.97       576\n",
      "\n",
      "avg / total       0.96      0.96      0.96       769\n",
      "\n",
      "confusion matrix:\n",
      "[[176  17]\n",
      " [ 13 563]]\n",
      "\n",
      "================================================================================\n",
      "NearestCentroid (aka Rocchio classifier)\n",
      "________________________________________________________________________________\n",
      "Training: \n",
      "NearestCentroid(metric='euclidean', shrink_threshold=None)\n",
      "train time: 0.026s\n",
      "test time:  0.001s\n",
      "accuracy:   0.865\n",
      "classification report:\n",
      "             precision    recall  f1-score   support\n",
      "\n",
      "        abo       0.72      0.75      0.74       193\n",
      "        sub       0.92      0.90      0.91       576\n",
      "\n",
      "avg / total       0.87      0.86      0.87       769\n",
      "\n",
      "confusion matrix:\n",
      "[[145  48]\n",
      " [ 56 520]]\n",
      "\n",
      "================================================================================\n",
      "Naive Bayes\n",
      "________________________________________________________________________________\n",
      "Training: \n",
      "MultinomialNB(alpha=0.01, class_prior=None, fit_prior=True)\n",
      "train time: 0.006s\n",
      "test time:  0.001s\n",
      "accuracy:   0.941\n",
      "dimensionality: 15501\n",
      "density: 1.000000\n",
      "top 10 keywords per class:\n",
      "abo: with to and the a * ! , - •\n",
      "\n",
      "classification report:\n",
      "             precision    recall  f1-score   support\n",
      "\n",
      "        abo       0.87      0.91      0.89       193\n",
      "        sub       0.97      0.95      0.96       576\n",
      "\n",
      "avg / total       0.94      0.94      0.94       769\n",
      "\n",
      "confusion matrix:\n",
      "[[175  18]\n",
      " [ 27 549]]\n",
      "\n",
      "________________________________________________________________________________\n",
      "Training: \n",
      "BernoulliNB(alpha=0.01, binarize=0.0, class_prior=None, fit_prior=True)\n",
      "train time: 0.010s\n",
      "test time:  0.002s\n",
      "accuracy:   0.915\n",
      "dimensionality: 15501\n",
      "density: 1.000000\n",
      "top 10 keywords per class:\n",
      "abo: ! a the - with to in and , .\n",
      "\n",
      "classification report:\n",
      "             precision    recall  f1-score   support\n",
      "\n",
      "        abo       0.86      0.79      0.82       193\n",
      "        sub       0.93      0.96      0.94       576\n",
      "\n",
      "avg / total       0.91      0.92      0.91       769\n",
      "\n",
      "confusion matrix:\n",
      "[[153  40]\n",
      " [ 25 551]]\n",
      "\n",
      "________________________________________________________________________________\n",
      "Training: \n",
      "ComplementNB(alpha=0.1, class_prior=None, fit_prior=True, norm=False)\n",
      "train time: 0.006s\n",
      "test time:  0.001s\n",
      "accuracy:   0.943\n",
      "dimensionality: 15501\n",
      "density: 1.000000\n",
      "top 10 keywords per class:\n",
      "abo: PLAYROOM TOPS ATTACHED GARAGE VALET CHILDREN NET WON 50lbs tremendous\n",
      "\n",
      "classification report:\n",
      "             precision    recall  f1-score   support\n",
      "\n",
      "        abo       0.86      0.92      0.89       193\n",
      "        sub       0.97      0.95      0.96       576\n",
      "\n",
      "avg / total       0.94      0.94      0.94       769\n",
      "\n",
      "confusion matrix:\n",
      "[[178  15]\n",
      " [ 29 547]]\n",
      "\n",
      "================================================================================\n",
      "LinearSVC with L1-based feature selection\n",
      "________________________________________________________________________________\n",
      "Training: \n",
      "Pipeline(memory=None,\n",
      "     steps=[('feature_selection', SelectFromModel(estimator=LinearSVC(C=1.0, class_weight=None, dual=False, fit_intercept=True,\n",
      "     intercept_scaling=1, loss='squared_hinge', max_iter=1000,\n",
      "     multi_class='ovr', penalty='l1', random_state=None, tol=0.001,\n",
      "     verbose=0),\n",
      "        norm_order=1, prefit=...ax_iter=1000,\n",
      "     multi_class='ovr', penalty='l2', random_state=None, tol=0.0001,\n",
      "     verbose=0))])\n"
     ]
    },
    {
     "name": "stdout",
     "output_type": "stream",
     "text": [
      "train time: 0.518s\n",
      "test time:  0.002s\n",
      "accuracy:   0.958\n",
      "classification report:\n",
      "             precision    recall  f1-score   support\n",
      "\n",
      "        abo       0.94      0.89      0.91       193\n",
      "        sub       0.96      0.98      0.97       576\n",
      "\n",
      "avg / total       0.96      0.96      0.96       769\n",
      "\n",
      "confusion matrix:\n",
      "[[171  22]\n",
      " [ 10 566]]\n",
      "\n"
     ]
    },
    {
     "data": {
      "image/png": "[encoded data removed]",
      "text/plain": [
       "<matplotlib.figure.Figure at 0x7f56cfb66dd0>"
      ]
     },
     "metadata": {},
     "output_type": "display_data"
    }
   ],
   "source": [
    "results = []\n",
    "opts['print_top10'] = 1\n",
    "opts['print_cm'] = 1\n",
    "opts['print_report'] = 1\n",
    "for clf, name in (\n",
    "        (RidgeClassifier(tol=1e-2, solver=\"auto\"), \"Ridge Classifier\"),\n",
    "        (Perceptron(n_iter=50, tol=1e-3), \"Perceptron\"),\n",
    "        (PassiveAggressiveClassifier(n_iter=50, tol=1e-3),\n",
    "         \"Passive-Aggressive\"),\n",
    "        (KNeighborsClassifier(n_neighbors=10), \"kNN\"),\n",
    "        (RandomForestClassifier(n_estimators=100), \"Random forest\")):\n",
    "    print('=' * 80)\n",
    "    print(name)\n",
    "    results.append(benchmark(clf, X.transpose(), trainLabels, X2.transpose(), testLabels))\n",
    "for penalty in [\"l2\", \"l1\"]:\n",
    "    print('=' * 80)\n",
    "    print(\"%s penalty\" % penalty.upper())\n",
    "    # Train Liblinear model\n",
    "    results.append(benchmark(LinearSVC(penalty=penalty, dual=False,\n",
    "                                       tol=1e-3), X.transpose(), trainLabels, X2.transpose(), testLabels))\n",
    "\n",
    "    # Train SGD model\n",
    "    results.append(benchmark(SGDClassifier(alpha=.0001, n_iter=50,\n",
    "                                           penalty=penalty,\n",
    "                                           max_iter=5), X.transpose(), trainLabels, X2.transpose(), testLabels))\n",
    "\n",
    "# Train SGD with Elastic Net penalty\n",
    "print('=' * 80)\n",
    "print(\"Elastic-Net penalty\")\n",
    "results.append(benchmark(SGDClassifier(alpha=.0001, n_iter=50,\n",
    "                                       penalty=\"elasticnet\",\n",
    "                                       max_iter=5), X.transpose(), trainLabels, X2.transpose(), testLabels))\n",
    "\n",
    "# Train NearestCentroid without threshold\n",
    "print('=' * 80)\n",
    "print(\"NearestCentroid (aka Rocchio classifier)\")\n",
    "results.append(benchmark(NearestCentroid(), X.transpose(), trainLabels, X2.transpose(), testLabels))\n",
    "\n",
    "# Train sparse Naive Bayes classifiers\n",
    "print('=' * 80)\n",
    "print(\"Naive Bayes\")\n",
    "results.append(benchmark(MultinomialNB(alpha=.01), X.transpose(), trainLabels, X2.transpose(), testLabels))\n",
    "results.append(benchmark(BernoulliNB(alpha=.01), X.transpose(), trainLabels, X2.transpose(), testLabels))\n",
    "results.append(benchmark(ComplementNB(alpha=.1), X.transpose(), trainLabels, X2.transpose(), testLabels))\n",
    "\n",
    "print('=' * 80)\n",
    "print(\"LinearSVC with L1-based feature selection\")\n",
    "# The smaller C, the stronger the regularization.\n",
    "# The more regularization, the more sparsity.\n",
    "results.append(benchmark(Pipeline([\n",
    "  ('feature_selection', SelectFromModel(LinearSVC(penalty=\"l1\", dual=False,\n",
    "                                                  tol=1e-3))),\n",
    "  ('classification', LinearSVC(penalty=\"l2\"))]), X.transpose(), trainLabels, X2.transpose(), testLabels))\n",
    "\n",
    "# make some plots\n",
    "\n",
    "indices = np.arange(len(results))\n",
    "\n",
    "results = [[x[i] for x in results] for i in range(4)]\n",
    "\n",
    "clf_names, score, training_time, test_time = results\n",
    "training_time = np.array(training_time) / np.max(training_time)\n",
    "test_time = np.array(test_time) / np.max(test_time)\n",
    "\n",
    "plt.figure(figsize=(12, 8))\n",
    "plt.title(\"Score\")\n",
    "plt.barh(indices, score, .2, label=\"score\", color='navy')\n",
    "plt.barh(indices + .3, training_time, .2, label=\"training time\",\n",
    "         color='c')\n",
    "plt.barh(indices + .6, test_time, .2, label=\"test time\", color='darkorange')\n",
    "plt.yticks(())\n",
    "plt.legend(loc='best')\n",
    "plt.subplots_adjust(left=.25)\n",
    "plt.subplots_adjust(top=.95)\n",
    "plt.subplots_adjust(bottom=.05)\n",
    "\n",
    "for i, c in zip(indices, clf_names):\n",
    "    plt.text(-.3, i, c)\n",
    "\n",
    "plt.show()\n",
    "\n"
   ]
  },
  {
   "cell_type": "code",
   "execution_count": null,
   "metadata": {
    "autoscroll": false,
    "collapsed": false,
    "ein.tags": "worksheet-0",
    "slideshow": {
     "slide_type": "-"
    }
   },
   "outputs": [
    {
     "name": "stdout",
     "output_type": "stream",
     "text": [
      "             precision    recall  f1-score   support\n",
      "\n",
      "        abo      0.869     0.891     0.880       193\n",
      "        sub      0.963     0.955     0.959       576\n",
      "\n",
      "avg / total      0.939     0.939     0.939       769\n",
      "\n",
      "[[172  21]\n",
      " [ 26 550]]\n"
     ]
    }
   ],
   "source": [
    "testLabels = list(itertools.chain([1] * len(list(crabo_test)), [-1] * len(list(crsub_test))))\n",
    "ypred = model.predict(X2.transpose())\n",
    "print(classification_report(testLabels, ypred, target_names=['abo', 'sub'], digits=3))\n",
    "print(confusion_matrix(testLabels, ypred))"
   ]
  },
  {
   "cell_type": "code",
   "execution_count": null,
   "metadata": {
    "autoscroll": false,
    "collapsed": false,
    "ein.tags": "worksheet-0",
    "slideshow": {
     "slide_type": "-"
    }
   },
   "outputs": [
    {
     "data": {
      "text/plain": [
       "array([[ 0.49659214,  0.50340786],\n",
       "       [ 0.09777801,  0.90222199],\n",
       "       [ 0.1022115 ,  0.8977885 ],\n",
       "       ..., \n",
       "       [ 0.98153536,  0.01846464],\n",
       "       [ 0.78630818,  0.21369182],\n",
       "       [ 0.94885418,  0.05114582]])"
      ]
     },
     "execution_count": 203,
     "metadata": {},
     "output_type": "execute_result"
    }
   ],
   "source": [
    "model.predict_proba(X2.transpose())"
   ]
  },
  {
   "cell_type": "code",
   "execution_count": null,
   "metadata": {
    "autoscroll": false,
    "collapsed": false,
    "ein.tags": "worksheet-0",
    "slideshow": {
     "slide_type": "-"
    }
   },
   "outputs": [
    {
     "data": {
      "text/plain": [
       "[u'I am looking to fill the available unfurnished , spacious bedroom in my huge , hardwood renovated apartment . Conveniently located right off the 137 1 train stop between Broadway and Riverside . Very convenient for Columbia students ! The entire unit was recently gut renovated in January 2017 . Available room can fit a queen size bed with plenty of space for additional furniture . It has multiple windows and closet space . Heat and hot water are included . Internet and electric are billed separately . The unit is 3rd floor in an elevator building with laundry in the basement . Looking for a tenant immediately . Lease terms are flexible but would prefer someone longer term or for the school year . Contact for more details and to set up a viewing ASAP !',\n",
       " u\"located on a beautiful tree - lined street . It is a 5 - story red brick building . This is a non doorman elevator building . The live in super will accept all your packages . Halls & lobby recently renovated , laundry room in basement . It is conveniently located near all public transportation and Wall Street express buses and vans . The neighborhood has great food shopping and restaurants . The apartment has a full range stove and dishwasher . A shared outdoor space ( courtyard ) . This is also an elevator building with small pets allowed and internet ready . The monthly cost will include water , and heat . at 86th Street 0 . 20 miles . 4 , 5 , 6 at 86th St 0 . 49 miles . walking distance to the M15 local , select , and M86 cross town . What i love about this apartment ? During the winter time it is very cozy , close to everything I need . in the summer time there is a quiet courtyard to retreat to . The apartment have minimal street noise consider that this is NYC . Outside the building there is citibike . The apartment is close to Carl Scharz park ( Macys firework can be viewed during 4th of July , Gracie Mansion near by . I would bike along the east river in the summer to a pedestrian bridge , Ward ' s bridge to Randall ' s island . If you need to grocery shop , there is whole foods , and fairway near by . this is a coop building , therefore this is consider a sublease . Please contact me for further information .\",\n",
       " u'henry friedman . 2 1 650 Available Date :\\xa0\\xa0\\xa0 Mon Jan 01 , 2018 Deposit :\\xa0\\xa0\\xa0 2000 Minimum Lease :\\xa0\\xa0\\xa0 30 DAYS Included Utilities :\\xa0\\xa0\\xa0 YES .',\n",
       " u'A must see ! Just $ 3 , 590 per month . No fee . We are looking to sublet our beautiful loft , ideally until mid - July 2018 . We can be flexible as to the exact end date . The apartment was gut renovated and now features a new professional kitchen , new bathroom , new floor , new paint . It \\' s available immediately , see it today . It \\' s really big , 1 , 000 sqft - no kidding . Our place comes fully furnished . $ 3 , 590 / month includes high - speed internet with new AC1900 WiFi router . Gas & Electric utilities are not included ( we installed LED bulbs throughout to keep costs down ). No brokers fee . Our place is the top floor of a six floor walk - up . Repeat . Six floor walk - up . No elevator . But the apartment is well worth the hike ! Very comfortable and spacious . Kept impeccably clean and fully stocked with everything you need to just move in with your personal belongings . Located on quiet block of the LES , but steps away from the subway ( F , M , B , D ) and restaurants , cafes , boutiques , art galleries , etc ... one of the best neighborhoods in the city . Open kitchen layout , with separate bedroom area . Lots of light , with 11 windows along two sides of apartment . Fully furnished with : . - Large L - shaped sofa . - New 2017 model 55 \" LG 4k flatscreen TV ( w buttons for Netflix and Amazon on the remote ) and new Bose soundbar . - 6 person dining room table . - Queen size bed with linens and pillows . - Kitchen stocked with professional cookware , dishwasher ! wine refrigerator ! - Brand new gas heater . Really warm and energy efficient ! - 2 air conditioners to keep things cool in the summer . Separate work area with Aeron chair , desk ( and older computer monitor and printer / scanner / copier ) . No laundry in building , but a friendly laundromat / dry cleaner is right across the street . Please read carefully : Obviously , we are looking for quiet and responsible people to stay in our apartment . We require first , last plus one full month security deposit upfront . We \\' ll also need some proof of income and reliable references . Its a great apartment and we \\' re really easy going folks , so if you \\' re interested , please send information about yourself ( age , profession , reason why you need a short term sublet , etc ).',\n",
       " u'Fully furnished 1BR apartment on classic quiet , tree - lined West Village block . High ceilings , huge windows facing due south . Working fireplace . Close to shops , restaurants , clubs , gyms , Hudson River Park , and all major bus and subway lines . HDTV with high - speed internet / cable . Minimum sublet of one month . Available immediately . No pets or smoking . $ 2650 plus utilities .',\n",
       " u'Truly beautiful one bedroom apt in full service doorman building with huge terrace and luxurious furnishings . Short or long term . Fios TV , WiFi , Appletv , A / C , landline , laundry and gym in bldg . Close to all subway ( 1 , 2 , 3 , B and C ) and bus lines one block from Central Park . Whole Foods , great shopping nearby , restaurants etc . available immediately .',\n",
       " u\"Furnished one bedroom with queen bed available in amazing first floor 2BR / 2BA duplex apartment . The apt is a one minute walk to the new Q train ( 1 street up ) and 5 min . walk to the 4 / 5 / 6 . It is right off 2nd Ave . with only steps away to many great restaurants and bars . It is located very conveniently to all upper east area hospitals . The apartment has a private backyard garden . Looking for a young professional or student who is clean , responsible , and respectful of other ' s space . Come and view as pictures do not do it justice :) .\",\n",
       " u'Email for more info .',\n",
       " u\"I have a Large Master Bedroom with private bathroom available in LIC for rent end of Nov . Feel free to reach out to . if interested . The rent for the room is $ 1 , 750 per month . The room fits a king size bed comfortably with room for lots of furniture . Shared living room and kitchen . The room is sun flooded with large windows facing south / east , large walk - in - closet . The size is as a studio ! It ' s a 3 bedroom and 3 bathroom unit . We are lucky to get the unit below market price and have been living here for 2 years . I ' m moving only due to work relocation :( . About my roommates : . 2 working professionals ( women ) in their 30s ; a civil engineer and financial consultant . Both easy going , accommodating , respectful and very clean . A clean and friendly ( don ' t have to be best friends ) apartment is very important to my roommates . So if you ' re looking to live in a drama free , friendly and clean apartment and love LIC you will be a great addition to the apartment . My roommates will be staying in the unit re - signing lease end of February as they love the space and so if you ' re looking for a longer term , this will work for you too . Please reach out and I will introduce you to the ladies . You - the future roommate . - Prefer girls . - Willing to keep common areas ( kitchen and living room ) clean . - Considerate , Respectful , drama free . - Will not bring the party home ( having friends / family over for drinks and dinners doesn ' t count as bringing party home -- this will be your home to share with your friends and family ) . - Are looking for a shared apartment that also feels like your own personal space ! Building amenities : . 15 min to grand central . Free shuttle service every 5 min during rush hours and every half hour during non - rush hours . 24 / 7 front desk doorman . Lounge ( wifi ) . Gym . Rooftop deck ( wifi ) . Washer / Dryer in unit ! Dishwasher in unit . Air conditioner / heater in room . Heat / gas FREE .\",\n",
       " u'The studio apartment is right in midtown Manhattan . The location of the apartment is very convenient . It is surrounded by major hotels like Waldorf Astoria , The Roger Smith Hotel , The Lexington New York City , Hyatt 48 Lex , New York Marriott East Side & Inter Continental New York Barclay . You can walk to lot of places like the Restaurants , super market , drug store , subway , grand central terminal , empire state building , Rockefeller center , UN building and much more which makes the location very convenient to explore the NYC . All different kind of dining options are in walking distance . The building has 24 hour doormen . The building staff is very friendly and extremely helpful . They will make a difference during your stay and help out with any questions or help you may need . The living room area has a sofa bed that could be used for comfortable sleeping for one adult or two kids . The entertainment center has a Samsung 48 - Inch LCD TV which is connected to a DVD player . The apartment has RCN cable & high speed internet with Wi - fi .',\n",
       " u'1071 First Avenue New York , NY 10022 . Rental Building in Sutton Place . 5 units Built in 1900 . At least 1 - year lease & No broker fee !! Beautiful 2 Bed 2 Bath Apartment in heart of Midtown East . Washer / Dryer in Unit (* added after pictures were taken *) . Located on 4th floor of walk - up building . Exposed brick walls . Bedrooms on opposite ends of the apartment for Privacy . TRANSPORTATION . Subways . F , Q at 63rd Street 0 . 34 miles . N , R , 4 , 5 , 6 , W at Lexington Av - 59 St 0 . 34 miles . E , M , 6 at Lexington Av - 53 St 0 . 43 miles . F , Q at Lexington Av 0 . 43 miles . E , M , 6 at 51st St 0 . 53 miles . NEARBY SCHOOLS . District 02 . J . H . S . 104 Simon Baruch ( 06 , 07 , 08 , SE ) . East Side Elementary School , PS 267 ( PK , 0K , 01 , 02 , 03 , 04 , 05 , SE ) .',\n",
       " u'I am subletting my beautiful and cozy studio apartment in Murray Hill , Midtown Manhattan ( 3rd Ave and 38th Street ). This is the NYC prime location , overlooking the street with lots of sunlight . I will be away 2 - 3 months , I would need someone nice and clean to take care of my studio . The price is great , only $ 2100 per month with all included ! Apartments has Wi - Fi , AC , Cable TV , Closet space . You can use mine : Towels , Sheets , Linens , Blankets , Hand Soap , Shampoo , Hair Dryer , etc . if you dont have yours . Kitchen has : Glasses , Plates , Utensils , Cutlery , Pans , Bowls and Toaster . It is in great and lovely neighborhood - Apartment is conveniently located in the heart of NYC famous Midtown East area - Murray Hill . Lots of Restaurants , Coffee Shops , Thrift Shops , Grocery Shops . Please let me know if you are interested , you can email me on bonbonnatnat gmail . com or text on . ( no phone calls ) . Thank you !',\n",
       " u\"This is a fully - furnished , junior one bedroom . Features include hard - wood floors throughout , renovated finishes , and natural light from generously sized windows . The apartment comes with all essentials ; just bring yourself . This apartment is located on a charming , tree - lined street on the Upper East Side . Enjoy all that this neighborhood has to offer . Incredible restaurants , shops , cafes , shopping , fitness options , and night life . Furnished and equipped ( included sheets , towels , coffee machine , toaster , cookware , dinnerware , iron , hair dryer etc . ), and AC . All utilities included . $ 100 application fee and $ 100 cleaning fee . 1st month ' s rent , 1 month security and 1 month agency fee is due at lease signing . -- Available for 1 - 3 month for $ 2 , 940 OR /// 4 - 8 months for $ 2 , 450 /// OR 9 - 24 months $ 2 , 190 . call / text or reply with your contact number . Thank you .\",\n",
       " u\"This is a fully - furnished , junior one bedroom . Features include hard - wood floors throughout , renovated finishes , and natural light from generously sized windows . The apartment comes with all essentials ; just bring yourself . This apartment is located on a charming , tree - lined street on the Upper East Side . Enjoy all that this neighborhood has to offer . Incredible restaurants , shops , cafes , shopping , fitness options , and night life . Furnished and equipped ( included sheets , towels , coffee machine , toaster , cookware , dinnerware , iron , hair dryer etc . ), and AC . All utilities included . . $ 100 application fee and $ 100 cleaning fee . 1st month ' s rent , 1 month security and 1 month agency fee is due at lease signing . . -- Available for 1 - 3 month for $ 3 , 240 OR /// 4 - 8 months for $ 2 , 700 /// OR 9 - 24 months $ 2 , 590 . call / text or reply with your contact number . Thank you .\"]"
      ]
     },
     "execution_count": 113,
     "metadata": {},
     "output_type": "execute_result"
    }
   ],
   "source": [
    "[' '.join(testdocs[i]) for i, x in enumerate(testLabels != ypred) if x and testLabels[i] == 1]\n"
   ]
  },
  {
   "cell_type": "code",
   "execution_count": null,
   "metadata": {
    "autoscroll": false,
    "collapsed": false,
    "ein.tags": "worksheet-0",
    "slideshow": {
     "slide_type": "-"
    }
   },
   "outputs": [
    {
     "data": {
      "text/plain": [
       "[(0,\n",
       "  u'0.247*\"\\u2022\" + 0.230*\",\" + 0.192*\"-\" + 0.158*\"the\" + 0.145*\"a\" + 0.137*\"*\" + 0.130*\":\" + 0.123*\"and\" + 0.112*\"is\" + 0.111*\"of\"'),\n",
       " (1,\n",
       "  u'-0.934*\"\\u2022\" + 0.078*\",\" + 0.051*\"the\" + -0.050*\"Hard\" + 0.050*\"a\" + 0.047*\"-\" + 0.047*\"*\" + 0.041*\"is\" + 0.036*\"!\" + -0.035*\"Features\"'),\n",
       " (2,\n",
       "  u'0.299*\"*\" + 0.231*\"TO\" + 0.229*\"VIEW\" + 0.207*\"!\" + 0.166*\"IN\" + 0.166*\"ROOM\" + 0.156*\"AND\" + 0.146*\"!!\" + 0.145*\"FULL\" + 0.128*\"KITCHEN\"'),\n",
       " (3,\n",
       "  u'-0.557*\"*\" + 0.159*\"VIEW\" + 0.153*\"TO\" + -0.136*\"Village\" + 0.117*\"ROOM\" + 0.111*\"IN\" + 0.107*\"AND\" + 0.103*\"FULL\" + -0.097*\"Side\" + -0.092*\"East\"'),\n",
       " (4,\n",
       "  u'0.457*\"*\" + 0.134*\"condo\" + 0.124*\"Financial\" + 0.109*\"District\" + 0.100*\",\" + 0.092*\"Club\" + 0.090*\"condominium\" + -0.089*\"is\" + 0.088*\"-\" + 0.086*\"In\"'),\n",
       " (5,\n",
       "  u'-0.422*\":\" + -0.176*\")\" + -0.172*\"(\" + -0.156*\"Case\" + -0.148*\"$\" + -0.138*\"com\" + -0.131*\"**\" + -0.124*\"more\" + -0.115*\"information\" + -0.113*\"For\"'),\n",
       " (6,\n",
       "  u'-0.162*\"-\" + -0.156*\"Stainless\" + -0.139*\"Steel\" + -0.137*\"Renovated\" + -0.132*\"Appliances\" + -0.119*\"Newly\" + 0.115*\"Financial\" + -0.115*\"Laundry\" + -0.114*\"Bright\" + -0.114*\"Doorman\"'),\n",
       " (7,\n",
       "  u'-0.215*\"cell\" + -0.205*\"reply\" + -0.204*\"Thank\" + -0.202*\"br\" + -0.199*\"it\" + -0.181*\"name\" + -0.179*\"asap\" + -0.178*\"up\" + -0.170*\"you\" + -0.169*\"can\"'),\n",
       " (8,\n",
       "  u'0.168*\"-\" + -0.165*\"Case\" + -0.138*\"**\" + -0.134*\"Murray\" + -0.131*\"Hill\" + 0.129*\"--\" + -0.123*\"granite\" + -0.113*\"marble\" + -0.111*\"com\" + -0.110*\"STREET\"'),\n",
       " (9,\n",
       "  u'-0.249*\"*\" + 0.118*\"Financial\" + 0.113*\"District\" + 0.110*\"condo\" + 0.104*\"Village\" + -0.103*\"food\" + -0.101*\"APPLY\" + 0.099*\"West\" + -0.098*\"flat\" + 0.095*\"pre\"')]"
      ]
     },
     "execution_count": 316,
     "metadata": {},
     "output_type": "execute_result"
    }
   ],
   "source": [
    "lsi = models.LsiModel(tfidf_corpus, id2word=dictionary, num_topics=10)\n",
    "lsi.print_topics(10)\n"
   ]
  },
  {
   "cell_type": "code",
   "execution_count": null,
   "metadata": {
    "autoscroll": false,
    "collapsed": false,
    "ein.tags": "worksheet-0",
    "slideshow": {
     "slide_type": "-"
    }
   },
   "outputs": [
    {
     "name": "stdout",
     "output_type": "stream",
     "text": [
      "             precision    recall  f1-score   support\n",
      "\n",
      "        abo      0.929     0.928     0.929      4096\n",
      "        sub      0.953     0.954     0.953      6236\n",
      "\n",
      "avg / total      0.944     0.944     0.944     10332\n",
      "\n"
     ]
    }
   ],
   "source": [
    "ypred = model.predict(X.transpose())\n",
    "print(classification_report(trainLabels, ypred, target_names=['abo', 'sub'], digits=3))\n"
   ]
  },
  {
   "cell_type": "code",
   "execution_count": null,
   "metadata": {
    "autoscroll": false,
    "collapsed": false,
    "ein.tags": "worksheet-0",
    "slideshow": {
     "slide_type": "-"
    }
   },
   "outputs": [
    {
     "name": "stdout",
     "output_type": "stream",
     "text": [
      "________________________________________________________________________________\n",
      "Training: \n",
      "RidgeClassifier(alpha=1.0, class_weight=None, copy_X=True, fit_intercept=True,\n",
      "        max_iter=None, normalize=False, random_state=None, solver='lsqr',\n",
      "        tol=0.01)\n",
      "train time: 0.084s\n",
      "test time:  0.001s\n",
      "accuracy:   0.898\n",
      "dimensionality: 19233\n",
      "density: 0.803931\n",
      "top 10 keywords per class:\n",
      "spam: This 2018 pictures Columbia laundry Call doorman tile Contact email\n",
      "ham: sublet ft ). artists :. artist Brooklyn am We I\n",
      "\n",
      "classification report:\n",
      "             precision    recall  f1-score   support\n",
      "\n",
      "       spam       0.93      0.95      0.94      2234\n",
      "        ham       0.67      0.59      0.63       379\n",
      "\n",
      "avg / total       0.89      0.90      0.90      2613\n",
      "\n",
      "confusion matrix:\n",
      "[[2123  111]\n",
      " [ 155  224]]\n",
      "\n"
     ]
    },
    {
     "data": {
      "text/plain": [
       "('RidgeClassifier',\n",
       " 0.89820130118637587,\n",
       " 0.08443093299865723,\n",
       " 0.000762939453125)"
      ]
     },
     "execution_count": 254,
     "metadata": {},
     "output_type": "execute_result"
    }
   ],
   "source": [
    "\n",
    "opts['print_top10'] = 1\n",
    "opts['print_cm'] = 1\n",
    "opts['print_report'] = 1\n",
    "\n",
    "benchmark(model, X.transpose(), trainLabels, X2.transpose(), [-1] * len(list(crsub)) + [1] * len(list(crjoin)))\n"
   ]
  },
  {
   "cell_type": "code",
   "execution_count": null,
   "metadata": {
    "autoscroll": false,
    "collapsed": false,
    "ein.tags": "worksheet-0",
    "slideshow": {
     "slide_type": "-"
    }
   },
   "outputs": [],
   "source": []
  }
 ],
 "metadata": {
  "kernelspec": {
   "display_name": "Python 2",
   "name": "python2"
  },
  "language_info": {
   "codemirror_mode": {
    "name": "ipython",
    "version": 2
   },
   "file_extension": ".py",
   "mimetype": "text/x-python",
   "name": "python",
   "nbconvert_exporter": "python",
   "pygments_lexer": "ipython2",
   "version": "2.7.12"
  },
  "name": "blog.ipynb"
 },
 "nbformat": 4,
 "nbformat_minor": 1
}
